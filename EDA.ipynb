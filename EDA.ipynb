{
 "cells": [
  {
   "cell_type": "markdown",
   "metadata": {},
   "source": [
    "# EDA"
   ]
  },
  {
   "cell_type": "code",
   "execution_count": 9,
   "metadata": {},
   "outputs": [],
   "source": [
    "import numpy as np\n",
    "import pandas as pd\n",
    "import matplotlib.pyplot as plt\n",
    "import matplotlib.dates as mdates\n",
    "from data_dictionary import desc # descriptions for each column\n",
    "import seaborn as sns\n",
    "\n",
    "# maps\n",
    "import geoplot as gplt\n",
    "import geopandas as gpd\n",
    "import geoplot.crs as gcrs"
   ]
  },
  {
   "cell_type": "code",
   "execution_count": 10,
   "metadata": {},
   "outputs": [
    {
     "data": {
      "text/plain": [
       "(16260, 62)"
      ]
     },
     "execution_count": 10,
     "metadata": {},
     "output_type": "execute_result"
    }
   ],
   "source": [
    "df = pd.read_csv(\"train1.csv\")\n",
    "df[\"issue_d\"] = pd.to_datetime(df[\"issue_d\"], format=\"%Y-%m-%d\")\n",
    "df[\"earliest_cr_line\"] = pd.to_datetime(df[\"earliest_cr_line\"], format=\"%Y-%m-%d\")\n",
    "df.shape"
   ]
  },
  {
   "cell_type": "code",
   "execution_count": 11,
   "metadata": {},
   "outputs": [
    {
     "data": {
      "text/html": [
       "<div>\n",
       "<style scoped>\n",
       "    .dataframe tbody tr th:only-of-type {\n",
       "        vertical-align: middle;\n",
       "    }\n",
       "\n",
       "    .dataframe tbody tr th {\n",
       "        vertical-align: top;\n",
       "    }\n",
       "\n",
       "    .dataframe thead th {\n",
       "        text-align: right;\n",
       "    }\n",
       "</style>\n",
       "<table border=\"1\" class=\"dataframe\">\n",
       "  <thead>\n",
       "    <tr style=\"text-align: right;\">\n",
       "      <th></th>\n",
       "      <th>loan_amnt</th>\n",
       "      <th>emp_length</th>\n",
       "      <th>home_ownership</th>\n",
       "      <th>annual_inc</th>\n",
       "      <th>issue_d</th>\n",
       "      <th>loan_status</th>\n",
       "      <th>purpose</th>\n",
       "      <th>zip_code</th>\n",
       "      <th>addr_state</th>\n",
       "      <th>dti</th>\n",
       "      <th>...</th>\n",
       "      <th>num_tl_90g_dpd_24m</th>\n",
       "      <th>num_tl_op_past_12m</th>\n",
       "      <th>pct_tl_nvr_dlq</th>\n",
       "      <th>percent_bc_gt_75</th>\n",
       "      <th>pub_rec_bankruptcies</th>\n",
       "      <th>tot_hi_cred_lim</th>\n",
       "      <th>total_bal_ex_mort</th>\n",
       "      <th>total_bc_limit</th>\n",
       "      <th>total_il_high_credit_limit</th>\n",
       "      <th>profit</th>\n",
       "    </tr>\n",
       "  </thead>\n",
       "  <tbody>\n",
       "    <tr>\n",
       "      <th>0</th>\n",
       "      <td>5300.0</td>\n",
       "      <td>&lt; 1 year</td>\n",
       "      <td>RENT</td>\n",
       "      <td>34750.0</td>\n",
       "      <td>2012-12-01</td>\n",
       "      <td>Fully Paid</td>\n",
       "      <td>credit_card</td>\n",
       "      <td>959xx</td>\n",
       "      <td>CA</td>\n",
       "      <td>12.47</td>\n",
       "      <td>...</td>\n",
       "      <td>0.0</td>\n",
       "      <td>0.0</td>\n",
       "      <td>100.0</td>\n",
       "      <td>100.0</td>\n",
       "      <td>0.0</td>\n",
       "      <td>15900.0</td>\n",
       "      <td>12283.0</td>\n",
       "      <td>12100.0</td>\n",
       "      <td>0.0</td>\n",
       "      <td>1575.849997</td>\n",
       "    </tr>\n",
       "    <tr>\n",
       "      <th>1</th>\n",
       "      <td>9000.0</td>\n",
       "      <td>2 years</td>\n",
       "      <td>RENT</td>\n",
       "      <td>60000.0</td>\n",
       "      <td>2012-09-01</td>\n",
       "      <td>Fully Paid</td>\n",
       "      <td>credit_card</td>\n",
       "      <td>986xx</td>\n",
       "      <td>WA</td>\n",
       "      <td>22.44</td>\n",
       "      <td>...</td>\n",
       "      <td>0.0</td>\n",
       "      <td>5.0</td>\n",
       "      <td>97.0</td>\n",
       "      <td>50.0</td>\n",
       "      <td>0.0</td>\n",
       "      <td>94311.0</td>\n",
       "      <td>71192.0</td>\n",
       "      <td>8000.0</td>\n",
       "      <td>72511.0</td>\n",
       "      <td>307.923808</td>\n",
       "    </tr>\n",
       "    <tr>\n",
       "      <th>2</th>\n",
       "      <td>12000.0</td>\n",
       "      <td>10+ years</td>\n",
       "      <td>RENT</td>\n",
       "      <td>95000.0</td>\n",
       "      <td>2012-10-01</td>\n",
       "      <td>Fully Paid</td>\n",
       "      <td>debt_consolidation</td>\n",
       "      <td>900xx</td>\n",
       "      <td>CA</td>\n",
       "      <td>16.12</td>\n",
       "      <td>...</td>\n",
       "      <td>0.0</td>\n",
       "      <td>1.0</td>\n",
       "      <td>100.0</td>\n",
       "      <td>33.3</td>\n",
       "      <td>0.0</td>\n",
       "      <td>79780.0</td>\n",
       "      <td>47431.0</td>\n",
       "      <td>29100.0</td>\n",
       "      <td>44180.0</td>\n",
       "      <td>262.697370</td>\n",
       "    </tr>\n",
       "    <tr>\n",
       "      <th>3</th>\n",
       "      <td>5500.0</td>\n",
       "      <td>8 years</td>\n",
       "      <td>RENT</td>\n",
       "      <td>20000.0</td>\n",
       "      <td>2012-11-01</td>\n",
       "      <td>Fully Paid</td>\n",
       "      <td>medical</td>\n",
       "      <td>734xx</td>\n",
       "      <td>OK</td>\n",
       "      <td>27.00</td>\n",
       "      <td>...</td>\n",
       "      <td>0.0</td>\n",
       "      <td>7.0</td>\n",
       "      <td>100.0</td>\n",
       "      <td>75.0</td>\n",
       "      <td>0.0</td>\n",
       "      <td>20530.0</td>\n",
       "      <td>7069.0</td>\n",
       "      <td>7300.0</td>\n",
       "      <td>6430.0</td>\n",
       "      <td>1298.946425</td>\n",
       "    </tr>\n",
       "    <tr>\n",
       "      <th>4</th>\n",
       "      <td>6000.0</td>\n",
       "      <td>2 years</td>\n",
       "      <td>RENT</td>\n",
       "      <td>110000.0</td>\n",
       "      <td>2012-11-01</td>\n",
       "      <td>Charged Off</td>\n",
       "      <td>credit_card</td>\n",
       "      <td>346xx</td>\n",
       "      <td>FL</td>\n",
       "      <td>25.07</td>\n",
       "      <td>...</td>\n",
       "      <td>1.0</td>\n",
       "      <td>0.0</td>\n",
       "      <td>88.0</td>\n",
       "      <td>100.0</td>\n",
       "      <td>0.0</td>\n",
       "      <td>100804.0</td>\n",
       "      <td>65137.0</td>\n",
       "      <td>28800.0</td>\n",
       "      <td>66504.0</td>\n",
       "      <td>-3519.260000</td>\n",
       "    </tr>\n",
       "  </tbody>\n",
       "</table>\n",
       "<p>5 rows × 62 columns</p>\n",
       "</div>"
      ],
      "text/plain": [
       "   loan_amnt emp_length home_ownership  annual_inc    issue_d  loan_status  \\\n",
       "0     5300.0   < 1 year           RENT     34750.0 2012-12-01   Fully Paid   \n",
       "1     9000.0    2 years           RENT     60000.0 2012-09-01   Fully Paid   \n",
       "2    12000.0  10+ years           RENT     95000.0 2012-10-01   Fully Paid   \n",
       "3     5500.0    8 years           RENT     20000.0 2012-11-01   Fully Paid   \n",
       "4     6000.0    2 years           RENT    110000.0 2012-11-01  Charged Off   \n",
       "\n",
       "              purpose zip_code addr_state    dti  ...  num_tl_90g_dpd_24m  \\\n",
       "0         credit_card    959xx         CA  12.47  ...                 0.0   \n",
       "1         credit_card    986xx         WA  22.44  ...                 0.0   \n",
       "2  debt_consolidation    900xx         CA  16.12  ...                 0.0   \n",
       "3             medical    734xx         OK  27.00  ...                 0.0   \n",
       "4         credit_card    346xx         FL  25.07  ...                 1.0   \n",
       "\n",
       "  num_tl_op_past_12m  pct_tl_nvr_dlq  percent_bc_gt_75  pub_rec_bankruptcies  \\\n",
       "0                0.0           100.0             100.0                   0.0   \n",
       "1                5.0            97.0              50.0                   0.0   \n",
       "2                1.0           100.0              33.3                   0.0   \n",
       "3                7.0           100.0              75.0                   0.0   \n",
       "4                0.0            88.0             100.0                   0.0   \n",
       "\n",
       "   tot_hi_cred_lim  total_bal_ex_mort  total_bc_limit  \\\n",
       "0          15900.0            12283.0         12100.0   \n",
       "1          94311.0            71192.0          8000.0   \n",
       "2          79780.0            47431.0         29100.0   \n",
       "3          20530.0             7069.0          7300.0   \n",
       "4         100804.0            65137.0         28800.0   \n",
       "\n",
       "   total_il_high_credit_limit       profit  \n",
       "0                         0.0  1575.849997  \n",
       "1                     72511.0   307.923808  \n",
       "2                     44180.0   262.697370  \n",
       "3                      6430.0  1298.946425  \n",
       "4                     66504.0 -3519.260000  \n",
       "\n",
       "[5 rows x 62 columns]"
      ]
     },
     "execution_count": 11,
     "metadata": {},
     "output_type": "execute_result"
    }
   ],
   "source": [
    "df.head()"
   ]
  },
  {
   "cell_type": "markdown",
   "metadata": {},
   "source": [
    "In `Preprocessing 1.ipynb` we narrowed the number of columns from 151 down to 63. For our EDA it will help to group columns into categories and explore each category."
   ]
  },
  {
   "cell_type": "markdown",
   "metadata": {},
   "source": [
    "## Categorizing columns"
   ]
  },
  {
   "cell_type": "code",
   "execution_count": 4,
   "metadata": {
    "scrolled": true
   },
   "outputs": [
    {
     "data": {
      "text/plain": [
       "array(['loan_amnt', 'int_rate', 'installment', 'emp_length',\n",
       "       'home_ownership', 'annual_inc', 'issue_d', 'loan_status',\n",
       "       'purpose', 'zip_code', 'addr_state', 'dti', 'delinq_2yrs',\n",
       "       'earliest_cr_line', 'fico_range_low', 'fico_range_high',\n",
       "       'inq_last_6mths', 'mths_since_last_delinq',\n",
       "       'mths_since_last_record', 'open_acc', 'pub_rec', 'revol_bal',\n",
       "       'revol_util', 'total_acc', 'initial_list_status',\n",
       "       'mths_since_last_major_derog', 'tot_coll_amt', 'tot_cur_bal',\n",
       "       'total_rev_hi_lim', 'acc_open_past_24mths', 'avg_cur_bal',\n",
       "       'bc_open_to_buy', 'bc_util', 'mo_sin_old_il_acct',\n",
       "       'mo_sin_old_rev_tl_op', 'mo_sin_rcnt_rev_tl_op', 'mo_sin_rcnt_tl',\n",
       "       'mort_acc', 'mths_since_recent_bc', 'mths_since_recent_bc_dlq',\n",
       "       'mths_since_recent_inq', 'mths_since_recent_revol_delinq',\n",
       "       'num_accts_ever_120_pd', 'num_actv_bc_tl', 'num_actv_rev_tl',\n",
       "       'num_bc_sats', 'num_bc_tl', 'num_il_tl', 'num_op_rev_tl',\n",
       "       'num_rev_accts', 'num_rev_tl_bal_gt_0', 'num_sats',\n",
       "       'num_tl_120dpd_2m', 'num_tl_30dpd', 'num_tl_90g_dpd_24m',\n",
       "       'num_tl_op_past_12m', 'pct_tl_nvr_dlq', 'percent_bc_gt_75',\n",
       "       'pub_rec_bankruptcies', 'tot_hi_cred_lim', 'total_bal_ex_mort',\n",
       "       'total_bc_limit', 'total_il_high_credit_limit'], dtype=object)"
      ]
     },
     "execution_count": 4,
     "metadata": {},
     "output_type": "execute_result"
    }
   ],
   "source": [
    "df.columns.values"
   ]
  },
  {
   "cell_type": "code",
   "execution_count": 4,
   "metadata": {},
   "outputs": [
    {
     "data": {
      "text/plain": [
       "['profit']"
      ]
     },
     "execution_count": 4,
     "metadata": {},
     "output_type": "execute_result"
    }
   ],
   "source": [
    "# Target for prediction -- string\n",
    "target = ['loan_status']\n",
    "\n",
    "# Loan related -- float, string, & datetime\n",
    "loan_cols = ['loan_amnt', 'issue_d', 'purpose', 'initial_list_status']\n",
    "\n",
    "# Customer related -- float & string\n",
    "cust_cols = ['emp_length', 'home_ownership', 'annual_inc', 'zip_code', 'addr_state', 'dti']\n",
    "\n",
    "# Credit related (basic credit info) -- float & datetime\n",
    "cred_cols = ['earliest_cr_line', 'fico_range_low', 'fico_range_high']\n",
    "\n",
    "# Delinquency related -- float\n",
    "dlq_cols = ['delinq_2yrs', 'mths_since_last_delinq', 'pub_rec', 'mths_since_last_major_derog', 'tot_coll_amt', \n",
    "          'mths_since_recent_bc_dlq', 'mths_since_recent_revol_delinq', 'num_accts_ever_120_pd', 'num_tl_120dpd_2m', \n",
    "          'num_tl_30dpd', 'num_tl_90g_dpd_24m', 'pct_tl_nvr_dlq', 'pub_rec_bankruptcies']\n",
    "\n",
    "# Inquiries related -- float\n",
    "inq_cols = ['inq_last_6mths', 'mths_since_last_record', 'mths_since_recent_inq']\n",
    "\n",
    "# Accounts related -- float\n",
    "acc_cols = ['open_acc', 'total_acc', 'acc_open_past_24mths', 'mo_sin_old_il_acct', 'mo_sin_old_rev_tl_op', \n",
    "           'mo_sin_rcnt_rev_tl_op', 'mo_sin_rcnt_tl', 'mort_acc', 'mths_since_recent_bc', 'num_actv_bc_tl', \n",
    "           'num_actv_rev_tl', 'num_bc_sats', 'num_bc_tl', 'num_il_tl', 'num_op_rev_tl', 'num_rev_accts', \n",
    "           'num_rev_tl_bal_gt_0', 'num_sats', 'num_tl_op_past_12m']\n",
    "\n",
    "# Balance related -- float\n",
    "bal_cols = ['revol_bal', 'revol_util', 'tot_cur_bal', 'total_rev_hi_lim', 'avg_cur_bal', 'bc_open_to_buy', 'bc_util', \n",
    "           'percent_bc_gt_75', 'tot_hi_cred_lim', 'total_bal_ex_mort', 'total_bc_limit', 'total_il_high_credit_limit']\n",
    "\n",
    "# check to make sure we covered them all\n",
    "[x for x in df.columns if x not in target + loan_cols + cust_cols + cred_cols + dlq_cols + inq_cols + acc_cols + bal_cols]"
   ]
  },
  {
   "cell_type": "markdown",
   "metadata": {},
   "source": [
    "Since there are so many variables, we will explore `target`, `loan_cols`, `cust_cols`, and `cred_cols` in depth and spend less time on the others. We'll choose a few variables to focus on from the others."
   ]
  },
  {
   "cell_type": "markdown",
   "metadata": {},
   "source": [
    "## Target variable\n",
    "We'll now explore `loan_status`."
   ]
  },
  {
   "cell_type": "code",
   "execution_count": 13,
   "metadata": {},
   "outputs": [
    {
     "name": "stdout",
     "output_type": "stream",
     "text": [
      "Fully Paid     0.870234\n",
      "Charged Off    0.129766\n",
      "Name: loan_status, dtype: float64\n"
     ]
    },
    {
     "data": {
      "text/plain": [
       "<AxesSubplot:>"
      ]
     },
     "execution_count": 13,
     "metadata": {},
     "output_type": "execute_result"
    },
    {
     "data": {
      "image/png": "[encoded data removed]",
      "text/plain": [
       "<Figure size 432x288 with 1 Axes>"
      ]
     },
     "metadata": {
      "needs_background": "light"
     },
     "output_type": "display_data"
    }
   ],
   "source": [
    "counts = df[\"loan_status\"].value_counts(normalize=True)\n",
    "print(counts)\n",
    "counts.plot(kind=\"bar\")"
   ]
  },
  {
   "cell_type": "code",
   "execution_count": 15,
   "metadata": {},
   "outputs": [
    {
     "data": {
      "text/plain": [
       "6.706161137440759"
      ]
     },
     "execution_count": 15,
     "metadata": {},
     "output_type": "execute_result"
    }
   ],
   "source": [
    "counts[\"Fully Paid\"]/counts[\"Charged Off\"]"
   ]
  },
  {
   "cell_type": "markdown",
   "metadata": {},
   "source": [
    "We see 87% of loans were fully paid while 13% were charged off (a ratio of 6.7:1). This is seems like a relatively large charge off rate, although it is hard to compare with other data because charge off rates are more often defined as a ratio of dollar amounts rather than raw number of loans (e.g. https://www.federalreserve.gov/releases/chargeoff/about.htm).\n",
    "\n",
    "We will need to consider class imbalance when modeling our data."
   ]
  },
  {
   "cell_type": "markdown",
   "metadata": {},
   "source": [
    "### Loan columns"
   ]
  },
  {
   "cell_type": "code",
   "execution_count": 55,
   "metadata": {
    "scrolled": false
   },
   "outputs": [
    {
     "data": {
      "text/plain": [
       "['loan_amnt: The listed amount of the loan applied for by the borrower. If at some point in time, the credit department reduces the loan amount, then it will be reflected in this value.',\n",
       " 'issue_d: The month which the loan was funded',\n",
       " 'purpose: A category provided by the borrower for the loan request. ',\n",
       " 'initial_list_status: The initial listing status of the loan. Possible values are – W, F']"
      ]
     },
     "execution_count": 55,
     "metadata": {},
     "output_type": "execute_result"
    }
   ],
   "source": [
    "[x + \": \" + desc[x] for x in loan_cols]"
   ]
  },
  {
   "cell_type": "code",
   "execution_count": 115,
   "metadata": {},
   "outputs": [
    {
     "data": {
      "text/html": [
       "<div>\n",
       "<style scoped>\n",
       "    .dataframe tbody tr th:only-of-type {\n",
       "        vertical-align: middle;\n",
       "    }\n",
       "\n",
       "    .dataframe tbody tr th {\n",
       "        vertical-align: top;\n",
       "    }\n",
       "\n",
       "    .dataframe thead th {\n",
       "        text-align: right;\n",
       "    }\n",
       "</style>\n",
       "<table border=\"1\" class=\"dataframe\">\n",
       "  <thead>\n",
       "    <tr style=\"text-align: right;\">\n",
       "      <th></th>\n",
       "      <th>loan_amnt</th>\n",
       "      <th>issue_d</th>\n",
       "      <th>purpose</th>\n",
       "      <th>initial_list_status</th>\n",
       "    </tr>\n",
       "  </thead>\n",
       "  <tbody>\n",
       "    <tr>\n",
       "      <th>0</th>\n",
       "      <td>5300.0</td>\n",
       "      <td>2012-12-01</td>\n",
       "      <td>credit_card</td>\n",
       "      <td>w</td>\n",
       "    </tr>\n",
       "    <tr>\n",
       "      <th>1</th>\n",
       "      <td>9000.0</td>\n",
       "      <td>2012-09-01</td>\n",
       "      <td>credit_card</td>\n",
       "      <td>f</td>\n",
       "    </tr>\n",
       "    <tr>\n",
       "      <th>2</th>\n",
       "      <td>12000.0</td>\n",
       "      <td>2012-10-01</td>\n",
       "      <td>debt_consolidation</td>\n",
       "      <td>f</td>\n",
       "    </tr>\n",
       "    <tr>\n",
       "      <th>3</th>\n",
       "      <td>5500.0</td>\n",
       "      <td>2012-11-01</td>\n",
       "      <td>medical</td>\n",
       "      <td>w</td>\n",
       "    </tr>\n",
       "    <tr>\n",
       "      <th>4</th>\n",
       "      <td>6000.0</td>\n",
       "      <td>2012-11-01</td>\n",
       "      <td>credit_card</td>\n",
       "      <td>f</td>\n",
       "    </tr>\n",
       "  </tbody>\n",
       "</table>\n",
       "</div>"
      ],
      "text/plain": [
       "   loan_amnt    issue_d             purpose initial_list_status\n",
       "0     5300.0 2012-12-01         credit_card                   w\n",
       "1     9000.0 2012-09-01         credit_card                   f\n",
       "2    12000.0 2012-10-01  debt_consolidation                   f\n",
       "3     5500.0 2012-11-01             medical                   w\n",
       "4     6000.0 2012-11-01         credit_card                   f"
      ]
     },
     "execution_count": 115,
     "metadata": {},
     "output_type": "execute_result"
    }
   ],
   "source": [
    "df[loan_cols].head()"
   ]
  },
  {
   "cell_type": "code",
   "execution_count": 62,
   "metadata": {},
   "outputs": [
    {
     "data": {
      "text/plain": [
       "<AxesSubplot:ylabel='Frequency'>"
      ]
     },
     "execution_count": 62,
     "metadata": {},
     "output_type": "execute_result"
    },
    {
     "data": {
      "image/png": "[encoded data removed]",
      "text/plain": [
       "<Figure size 432x288 with 1 Axes>"
      ]
     },
     "metadata": {
      "needs_background": "light"
     },
     "output_type": "display_data"
    }
   ],
   "source": [
    "df[\"loan_amnt\"].plot(kind=\"hist\", bins=20, edgecolor=\"black\")"
   ]
  },
  {
   "cell_type": "code",
   "execution_count": 63,
   "metadata": {
    "scrolled": true
   },
   "outputs": [
    {
     "data": {
      "text/plain": [
       "count    16260.000000\n",
       "mean     11883.673124\n",
       "std       7064.807027\n",
       "min       1000.000000\n",
       "25%       6800.000000\n",
       "50%      10000.000000\n",
       "75%      15000.000000\n",
       "max      35000.000000\n",
       "Name: loan_amnt, dtype: float64"
      ]
     },
     "execution_count": 63,
     "metadata": {},
     "output_type": "execute_result"
    }
   ],
   "source": [
    "df[\"loan_amnt\"].describe()"
   ]
  },
  {
   "cell_type": "markdown",
   "metadata": {},
   "source": [
    "Loans range from \\\\$1,000 to \\\\$35,000 with a median of \\\\$10,000."
   ]
  },
  {
   "cell_type": "code",
   "execution_count": 27,
   "metadata": {
    "scrolled": true
   },
   "outputs": [
    {
     "data": {
      "text/plain": [
       "Text(0.5, 1.0, '')"
      ]
     },
     "execution_count": 27,
     "metadata": {},
     "output_type": "execute_result"
    },
    {
     "data": {
      "image/png": "[encoded data removed]",
      "text/plain": [
       "<Figure size 432x288 with 1 Axes>"
      ]
     },
     "metadata": {
      "needs_background": "light"
     },
     "output_type": "display_data"
    }
   ],
   "source": [
    "df[[\"loan_amnt\",\"loan_status\"]].boxplot(column=\"loan_amnt\", by=\"loan_status\")\n",
    "plt.title(\"\") # hide title"
   ]
  },
  {
   "cell_type": "code",
   "execution_count": 38,
   "metadata": {},
   "outputs": [
    {
     "data": {
      "text/html": [
       "<div>\n",
       "<style scoped>\n",
       "    .dataframe tbody tr th:only-of-type {\n",
       "        vertical-align: middle;\n",
       "    }\n",
       "\n",
       "    .dataframe tbody tr th {\n",
       "        vertical-align: top;\n",
       "    }\n",
       "\n",
       "    .dataframe thead th {\n",
       "        text-align: right;\n",
       "    }\n",
       "</style>\n",
       "<table border=\"1\" class=\"dataframe\">\n",
       "  <thead>\n",
       "    <tr style=\"text-align: right;\">\n",
       "      <th></th>\n",
       "      <th>loan_amnt</th>\n",
       "    </tr>\n",
       "    <tr>\n",
       "      <th>loan_status</th>\n",
       "      <th></th>\n",
       "    </tr>\n",
       "  </thead>\n",
       "  <tbody>\n",
       "    <tr>\n",
       "      <th>Charged Off</th>\n",
       "      <td>10000.0</td>\n",
       "    </tr>\n",
       "    <tr>\n",
       "      <th>Fully Paid</th>\n",
       "      <td>10000.0</td>\n",
       "    </tr>\n",
       "  </tbody>\n",
       "</table>\n",
       "</div>"
      ],
      "text/plain": [
       "             loan_amnt\n",
       "loan_status           \n",
       "Charged Off    10000.0\n",
       "Fully Paid     10000.0"
      ]
     },
     "execution_count": 38,
     "metadata": {},
     "output_type": "execute_result"
    }
   ],
   "source": [
    "df[[\"loan_amnt\",\"loan_status\"]].groupby(\"loan_status\").median()"
   ]
  },
  {
   "cell_type": "markdown",
   "metadata": {},
   "source": [
    "Loan amount seems to be similarly distributed across outcomes, suggesting that it might not be useful in modeling."
   ]
  },
  {
   "cell_type": "code",
   "execution_count": 39,
   "metadata": {
    "scrolled": true
   },
   "outputs": [
    {
     "data": {
      "text/plain": [
       "issue_d\n",
       "2012-09-30    0.251169\n",
       "2012-10-31    0.256089\n",
       "2012-11-30    0.254059\n",
       "2012-12-31    0.238684\n",
       "Freq: M, dtype: float64"
      ]
     },
     "execution_count": 39,
     "metadata": {},
     "output_type": "execute_result"
    }
   ],
   "source": [
    "df.set_index(\"issue_d\").groupby(pd.Grouper(freq=\"M\")).size()/df.shape[0]"
   ]
  },
  {
   "cell_type": "markdown",
   "metadata": {},
   "source": [
    "Recall that we limited our training data to reduce the missing value rates, so our origination window now only spans Sept. 2012 to Dec. 2012. The number of loans in each month is approximately even."
   ]
  },
  {
   "cell_type": "code",
   "execution_count": 36,
   "metadata": {},
   "outputs": [
    {
     "data": {
      "text/html": [
       "<div>\n",
       "<style scoped>\n",
       "    .dataframe tbody tr th:only-of-type {\n",
       "        vertical-align: middle;\n",
       "    }\n",
       "\n",
       "    .dataframe tbody tr th {\n",
       "        vertical-align: top;\n",
       "    }\n",
       "\n",
       "    .dataframe thead tr th {\n",
       "        text-align: left;\n",
       "    }\n",
       "\n",
       "    .dataframe thead tr:last-of-type th {\n",
       "        text-align: right;\n",
       "    }\n",
       "</style>\n",
       "<table border=\"1\" class=\"dataframe\">\n",
       "  <thead>\n",
       "    <tr>\n",
       "      <th>loan_status</th>\n",
       "      <th>Fully Paid</th>\n",
       "      <th>Charged Off</th>\n",
       "    </tr>\n",
       "    <tr>\n",
       "      <th>issue_d</th>\n",
       "      <th></th>\n",
       "      <th></th>\n",
       "    </tr>\n",
       "  </thead>\n",
       "  <tbody>\n",
       "    <tr>\n",
       "      <th>2012-09-30</th>\n",
       "      <td>0.861166</td>\n",
       "      <td>0.138834</td>\n",
       "    </tr>\n",
       "    <tr>\n",
       "      <th>2012-10-31</th>\n",
       "      <td>0.872238</td>\n",
       "      <td>0.127762</td>\n",
       "    </tr>\n",
       "    <tr>\n",
       "      <th>2012-11-30</th>\n",
       "      <td>0.871218</td>\n",
       "      <td>0.128782</td>\n",
       "    </tr>\n",
       "    <tr>\n",
       "      <th>2012-12-31</th>\n",
       "      <td>0.876578</td>\n",
       "      <td>0.123422</td>\n",
       "    </tr>\n",
       "  </tbody>\n",
       "</table>\n",
       "</div>"
      ],
      "text/plain": [
       "loan_status Fully Paid Charged Off\n",
       "issue_d                           \n",
       "2012-09-30    0.861166    0.138834\n",
       "2012-10-31    0.872238    0.127762\n",
       "2012-11-30    0.871218    0.128782\n",
       "2012-12-31    0.876578    0.123422"
      ]
     },
     "execution_count": 36,
     "metadata": {},
     "output_type": "execute_result"
    }
   ],
   "source": [
    "df[[\"issue_d\",\"loan_status\"]].set_index(\"issue_d\").groupby(pd.Grouper(freq=\"M\")).apply(lambda x: x.value_counts(normalize=True))"
   ]
  },
  {
   "cell_type": "markdown",
   "metadata": {},
   "source": [
    "It's hard to conclude much from only four time points, but in our sample it does not look like origination date is related to outcome."
   ]
  },
  {
   "cell_type": "code",
   "execution_count": 40,
   "metadata": {},
   "outputs": [
    {
     "data": {
      "text/plain": [
       "<AxesSubplot:>"
      ]
     },
     "execution_count": 40,
     "metadata": {},
     "output_type": "execute_result"
    },
    {
     "data": {
      "image/png": "[encoded data removed]",
      "text/plain": [
       "<Figure size 432x288 with 1 Axes>"
      ]
     },
     "metadata": {
      "needs_background": "light"
     },
     "output_type": "display_data"
    }
   ],
   "source": [
    "df[\"purpose\"].value_counts(normalize=True, ascending=True).plot(kind=\"barh\")"
   ]
  },
  {
   "cell_type": "markdown",
   "metadata": {},
   "source": [
    "The majority (approx. 60%) of loans are for debt consolidation and over 20% are for credit cards. The remainding categories represent less than 20% of the data, and it may be worth merging these into a single category called \"other\"."
   ]
  },
  {
   "cell_type": "code",
   "execution_count": 13,
   "metadata": {},
   "outputs": [
    {
     "data": {
      "image/png": "[encoded data removed]",
      "text/plain": [
       "<Figure size 432x288 with 1 Axes>"
      ]
     },
     "metadata": {
      "needs_background": "light"
     },
     "output_type": "display_data"
    }
   ],
   "source": [
    "pt = pd.pivot_table(df[[\"purpose\",\"loan_status\"]], columns=\"loan_status\", index=\"purpose\", aggfunc = len)\n",
    "(pt/pt.sum(axis=1).values.reshape(-1,1)).plot(kind=\"barh\")\n",
    "plt.xlabel(\"Fraction of loans in category\")\n",
    "plt.tight_layout()\n",
    "plt.savefig(\"images/loan_purpose.png\", )"
   ]
  },
  {
   "cell_type": "markdown",
   "metadata": {},
   "source": [
    "Loans for debt consolidation have a higher charge off rate than loans for credit card purposes. Loans for renewable energy and small businesses have high charge off rates, presumably because the borrowers cause ends up failing, whereas loans for a major purchase or car half lower charge off rates."
   ]
  },
  {
   "cell_type": "markdown",
   "metadata": {},
   "source": [
    "We now investigate initial list status -- which can either be \"f\" for fractional (meaning multiple investors can get in on the loan) or \"w\" for whole (one lender must fund the whole loan)."
   ]
  },
  {
   "cell_type": "code",
   "execution_count": 58,
   "metadata": {
    "scrolled": false
   },
   "outputs": [
    {
     "data": {
      "text/plain": [
       "<AxesSubplot:>"
      ]
     },
     "execution_count": 58,
     "metadata": {},
     "output_type": "execute_result"
    },
    {
     "data": {
      "image/png": "[encoded data removed]",
      "text/plain": [
       "<Figure size 432x288 with 1 Axes>"
      ]
     },
     "metadata": {
      "needs_background": "light"
     },
     "output_type": "display_data"
    }
   ],
   "source": [
    "df[\"initial_list_status\"].value_counts(normalize=True).plot(kind=\"bar\")"
   ]
  },
  {
   "cell_type": "markdown",
   "metadata": {},
   "source": [
    "Over 80% of loans are in the fractional market."
   ]
  },
  {
   "cell_type": "code",
   "execution_count": 59,
   "metadata": {},
   "outputs": [
    {
     "data": {
      "text/plain": [
       "<AxesSubplot:xlabel='initial_list_status'>"
      ]
     },
     "execution_count": 59,
     "metadata": {},
     "output_type": "execute_result"
    },
    {
     "data": {
      "image/png": "[encoded data removed]",
      "text/plain": [
       "<Figure size 432x288 with 1 Axes>"
      ]
     },
     "metadata": {
      "needs_background": "light"
     },
     "output_type": "display_data"
    }
   ],
   "source": [
    "pt = pd.pivot_table(df[[\"initial_list_status\",\"loan_status\"]], columns=\"loan_status\", index=\"initial_list_status\", aggfunc = len)\n",
    "(pt/pt.sum(axis=1).values.reshape(-1,1)).plot(kind=\"bar\")"
   ]
  },
  {
   "cell_type": "markdown",
   "metadata": {},
   "source": [
    "Loan outcome is fairly even across categories."
   ]
  },
  {
   "cell_type": "markdown",
   "metadata": {},
   "source": [
    "## Customer columns"
   ]
  },
  {
   "cell_type": "code",
   "execution_count": 60,
   "metadata": {},
   "outputs": [
    {
     "data": {
      "text/plain": [
       "['emp_length: Employment length in years. Possible values are between 0 and 10 where 0 means less than one year and 10 means ten or more years. ',\n",
       " 'home_ownership: The home ownership status provided by the borrower during registration\\xa0or obtained from the credit report.\\xa0Our values are: RENT, OWN, MORTGAGE, OTHER',\n",
       " 'annual_inc: The self-reported annual income provided by the borrower during registration.',\n",
       " 'zip_code: The first 3 numbers of the zip code provided by the borrower in the loan application.',\n",
       " 'addr_state: The state provided by the borrower in the loan application',\n",
       " 'dti: A ratio calculated using the borrower’s total monthly debt payments on the total debt obligations, excluding mortgage and the requested LC loan, divided by the borrower’s self-reported monthly income.']"
      ]
     },
     "execution_count": 60,
     "metadata": {},
     "output_type": "execute_result"
    }
   ],
   "source": [
    "[x + \": \" + desc[x] for x in cust_cols]"
   ]
  },
  {
   "cell_type": "code",
   "execution_count": 61,
   "metadata": {},
   "outputs": [
    {
     "data": {
      "text/html": [
       "<div>\n",
       "<style scoped>\n",
       "    .dataframe tbody tr th:only-of-type {\n",
       "        vertical-align: middle;\n",
       "    }\n",
       "\n",
       "    .dataframe tbody tr th {\n",
       "        vertical-align: top;\n",
       "    }\n",
       "\n",
       "    .dataframe thead th {\n",
       "        text-align: right;\n",
       "    }\n",
       "</style>\n",
       "<table border=\"1\" class=\"dataframe\">\n",
       "  <thead>\n",
       "    <tr style=\"text-align: right;\">\n",
       "      <th></th>\n",
       "      <th>emp_length</th>\n",
       "      <th>home_ownership</th>\n",
       "      <th>annual_inc</th>\n",
       "      <th>zip_code</th>\n",
       "      <th>addr_state</th>\n",
       "      <th>dti</th>\n",
       "    </tr>\n",
       "  </thead>\n",
       "  <tbody>\n",
       "    <tr>\n",
       "      <th>0</th>\n",
       "      <td>&lt; 1 year</td>\n",
       "      <td>RENT</td>\n",
       "      <td>34750.0</td>\n",
       "      <td>959xx</td>\n",
       "      <td>CA</td>\n",
       "      <td>12.47</td>\n",
       "    </tr>\n",
       "    <tr>\n",
       "      <th>1</th>\n",
       "      <td>2 years</td>\n",
       "      <td>RENT</td>\n",
       "      <td>60000.0</td>\n",
       "      <td>986xx</td>\n",
       "      <td>WA</td>\n",
       "      <td>22.44</td>\n",
       "    </tr>\n",
       "    <tr>\n",
       "      <th>2</th>\n",
       "      <td>10+ years</td>\n",
       "      <td>RENT</td>\n",
       "      <td>95000.0</td>\n",
       "      <td>900xx</td>\n",
       "      <td>CA</td>\n",
       "      <td>16.12</td>\n",
       "    </tr>\n",
       "    <tr>\n",
       "      <th>3</th>\n",
       "      <td>8 years</td>\n",
       "      <td>RENT</td>\n",
       "      <td>20000.0</td>\n",
       "      <td>734xx</td>\n",
       "      <td>OK</td>\n",
       "      <td>27.00</td>\n",
       "    </tr>\n",
       "    <tr>\n",
       "      <th>4</th>\n",
       "      <td>2 years</td>\n",
       "      <td>RENT</td>\n",
       "      <td>110000.0</td>\n",
       "      <td>346xx</td>\n",
       "      <td>FL</td>\n",
       "      <td>25.07</td>\n",
       "    </tr>\n",
       "  </tbody>\n",
       "</table>\n",
       "</div>"
      ],
      "text/plain": [
       "  emp_length home_ownership  annual_inc zip_code addr_state    dti\n",
       "0   < 1 year           RENT     34750.0    959xx         CA  12.47\n",
       "1    2 years           RENT     60000.0    986xx         WA  22.44\n",
       "2  10+ years           RENT     95000.0    900xx         CA  16.12\n",
       "3    8 years           RENT     20000.0    734xx         OK  27.00\n",
       "4    2 years           RENT    110000.0    346xx         FL  25.07"
      ]
     },
     "execution_count": 61,
     "metadata": {},
     "output_type": "execute_result"
    }
   ],
   "source": [
    "df[cust_cols].head()"
   ]
  },
  {
   "cell_type": "code",
   "execution_count": 82,
   "metadata": {},
   "outputs": [
    {
     "data": {
      "text/plain": [
       "<AxesSubplot:>"
      ]
     },
     "execution_count": 82,
     "metadata": {},
     "output_type": "execute_result"
    },
    {
     "data": {
      "image/png": "[encoded data removed]",
      "text/plain": [
       "<Figure size 432x288 with 1 Axes>"
      ]
     },
     "metadata": {
      "needs_background": "light"
     },
     "output_type": "display_data"
    }
   ],
   "source": [
    "bar_order = ['< 1 year', '1 year', '2 years', '3 years', '4 years', '5 years', '6 years', '7 years', \n",
    "             '8 years', '9 years', '10+ years'][::-1] # reorder indices\n",
    "\n",
    "df[\"emp_length\"].value_counts(normalize=True)[bar_order].plot(kind=\"barh\")"
   ]
  },
  {
   "cell_type": "markdown",
   "metadata": {},
   "source": [
    "Most borrowers have been employed for 10+ years. The remainding categories each represent only 5-10% of loans."
   ]
  },
  {
   "cell_type": "code",
   "execution_count": 89,
   "metadata": {},
   "outputs": [
    {
     "data": {
      "text/plain": [
       "<AxesSubplot:ylabel='emp_length'>"
      ]
     },
     "execution_count": 89,
     "metadata": {},
     "output_type": "execute_result"
    },
    {
     "data": {
      "image/png": "[encoded data removed]",
      "text/plain": [
       "<Figure size 432x288 with 1 Axes>"
      ]
     },
     "metadata": {
      "needs_background": "light"
     },
     "output_type": "display_data"
    }
   ],
   "source": [
    "pt = pd.pivot_table(df[[\"emp_length\",\"loan_status\"]], columns=\"loan_status\", index=\"emp_length\", aggfunc = len)\n",
    "(pt/pt.sum(axis=1).values.reshape(-1,1)).loc[bar_order].plot(kind=\"barh\")"
   ]
  },
  {
   "cell_type": "markdown",
   "metadata": {},
   "source": [
    "Interestingly, there aren't an patterns in loan outcome and employer length."
   ]
  },
  {
   "cell_type": "code",
   "execution_count": 92,
   "metadata": {},
   "outputs": [
    {
     "data": {
      "text/plain": [
       "<AxesSubplot:>"
      ]
     },
     "execution_count": 92,
     "metadata": {},
     "output_type": "execute_result"
    },
    {
     "data": {
      "image/png": "[encoded data removed]",
      "text/plain": [
       "<Figure size 432x288 with 1 Axes>"
      ]
     },
     "metadata": {
      "needs_background": "light"
     },
     "output_type": "display_data"
    }
   ],
   "source": [
    "df[\"home_ownership\"].value_counts(normalize=True).plot(kind=\"bar\")"
   ]
  },
  {
   "cell_type": "markdown",
   "metadata": {},
   "source": [
    "Only 10% of borrowers own a house. About 45% of borrowers have a mortgage, while another 45% rent their home."
   ]
  },
  {
   "cell_type": "code",
   "execution_count": 96,
   "metadata": {},
   "outputs": [
    {
     "data": {
      "text/plain": [
       "<AxesSubplot:xlabel='home_ownership'>"
      ]
     },
     "execution_count": 96,
     "metadata": {},
     "output_type": "execute_result"
    },
    {
     "data": {
      "image/png": "[encoded data removed]",
      "text/plain": [
       "<Figure size 432x288 with 1 Axes>"
      ]
     },
     "metadata": {
      "needs_background": "light"
     },
     "output_type": "display_data"
    }
   ],
   "source": [
    "pt = pd.pivot_table(df[[\"home_ownership\",\"loan_status\"]], columns=\"loan_status\", index=\"home_ownership\", aggfunc = len)\n",
    "(pt/pt.sum(axis=1).values.reshape(-1,1)).plot(kind=\"bar\")"
   ]
  },
  {
   "cell_type": "markdown",
   "metadata": {},
   "source": [
    "Renters appear slightly more likely to have a charge off status than mortgage holders or home owners."
   ]
  },
  {
   "cell_type": "code",
   "execution_count": 125,
   "metadata": {
    "scrolled": true
   },
   "outputs": [
    {
     "data": {
      "text/plain": [
       "count    1.626000e+04\n",
       "mean     6.802495e+04\n",
       "std      7.159384e+04\n",
       "min      7.200000e+03\n",
       "25%      4.160079e+04\n",
       "50%      5.800000e+04\n",
       "75%      8.100000e+04\n",
       "max      7.141778e+06\n",
       "Name: annual_inc, dtype: float64"
      ]
     },
     "execution_count": 125,
     "metadata": {},
     "output_type": "execute_result"
    }
   ],
   "source": [
    "df[\"annual_inc\"].describe()"
   ]
  },
  {
   "cell_type": "markdown",
   "metadata": {},
   "source": [
    "Annual incomes range from \\\\$7,200 to \\\\$7.1m."
   ]
  },
  {
   "cell_type": "code",
   "execution_count": 102,
   "metadata": {
    "scrolled": true
   },
   "outputs": [
    {
     "data": {
      "text/html": [
       "<div>\n",
       "<style scoped>\n",
       "    .dataframe tbody tr th:only-of-type {\n",
       "        vertical-align: middle;\n",
       "    }\n",
       "\n",
       "    .dataframe tbody tr th {\n",
       "        vertical-align: top;\n",
       "    }\n",
       "\n",
       "    .dataframe thead th {\n",
       "        text-align: right;\n",
       "    }\n",
       "</style>\n",
       "<table border=\"1\" class=\"dataframe\">\n",
       "  <thead>\n",
       "    <tr style=\"text-align: right;\">\n",
       "      <th></th>\n",
       "      <th>annual_inc</th>\n",
       "    </tr>\n",
       "    <tr>\n",
       "      <th>loan_status</th>\n",
       "      <th></th>\n",
       "    </tr>\n",
       "  </thead>\n",
       "  <tbody>\n",
       "    <tr>\n",
       "      <th>Charged Off</th>\n",
       "      <td>50000.0</td>\n",
       "    </tr>\n",
       "    <tr>\n",
       "      <th>Fully Paid</th>\n",
       "      <td>60000.0</td>\n",
       "    </tr>\n",
       "  </tbody>\n",
       "</table>\n",
       "</div>"
      ],
      "text/plain": [
       "             annual_inc\n",
       "loan_status            \n",
       "Charged Off     50000.0\n",
       "Fully Paid      60000.0"
      ]
     },
     "execution_count": 102,
     "metadata": {},
     "output_type": "execute_result"
    }
   ],
   "source": [
    "df[[\"annual_inc\",\"loan_status\"]].groupby(\"loan_status\").median()"
   ]
  },
  {
   "cell_type": "markdown",
   "metadata": {},
   "source": [
    "The median annual income for charged off borrowers is about \\\\$10,000 lower than of fully paid borrowers."
   ]
  },
  {
   "cell_type": "code",
   "execution_count": 103,
   "metadata": {},
   "outputs": [],
   "source": [
    "path = gplt.datasets.get_path(\"contiguous_usa\")\n",
    "contiguous_usa = gpd.read_file(path)\n",
    "contiguous_usa = contiguous_usa.sort_values(\"state\").set_index(\"state\")\n",
    "\n",
    "# map state code --> state name\n",
    "state_abbrevs = pd.read_csv(\"state_abbrevs.csv\")\n",
    "abbrev_map = {y:x for x,y in zip(state_abbrevs[\"State\"], state_abbrevs[\"Code\"])}"
   ]
  },
  {
   "cell_type": "code",
   "execution_count": 113,
   "metadata": {},
   "outputs": [
    {
     "data": {
      "image/png": "[encoded data removed]",
      "text/plain": [
       "<Figure size 576x432 with 1 Axes>"
      ]
     },
     "metadata": {
      "needs_background": "light"
     },
     "output_type": "display_data"
    }
   ],
   "source": [
    "# group loans by PropertyState\n",
    "data = df.groupby(\"addr_state\").count()[\"loan_status\"]\n",
    "data = data.reindex(abbrev_map.keys(), fill_value=0)\n",
    "data.name = \"NumLoans\"\n",
    "\n",
    "# filter by contiguous states only for visualization\n",
    "data_contiguous = data[data.index.isin(state_abbrevs[\"Code\"])]\n",
    "data_contiguous.index = data_contiguous.index.map(lambda x: abbrev_map[x])\n",
    "contiguous_usa_join = contiguous_usa.join(data_contiguous, how=\"inner\")\n",
    "\n",
    "# plot\n",
    "ax = gplt.polyplot(contiguous_usa_join, projection=gcrs.AlbersEqualArea())\n",
    "gplt.choropleth(\n",
    "  contiguous_usa_join,\n",
    "  hue=\"NumLoans\",\n",
    "  edgecolor=\"black\",\n",
    "  linewidth=1,\n",
    "  cmap=\"viridis\",\n",
    "  legend=True,\n",
    "  legend_kwargs={\"frameon\":True, \"loc\":\"lower right\"},\n",
    "  scheme=\"FisherJenks\",\n",
    "  projection=gcrs.AlbersEqualArea(),\n",
    "  ax=ax\n",
    ")\n",
    "plt.title(\"Number of loans per state\")\n",
    "plt.show()"
   ]
  },
  {
   "cell_type": "markdown",
   "metadata": {},
   "source": [
    "California has the most loans by far; however, this is not surprising considering their population. Let's tree to normalize by population to see if we can identify states which are borrowing \"disproportionately\" often."
   ]
  },
  {
   "cell_type": "code",
   "execution_count": 117,
   "metadata": {},
   "outputs": [
    {
     "data": {
      "image/png": "[encoded data removed]",
      "text/plain": [
       "<Figure size 576x432 with 1 Axes>"
      ]
     },
     "metadata": {
      "needs_background": "light"
     },
     "output_type": "display_data"
    }
   ],
   "source": [
    "contiguous_usa_join[\"NormalizedNumLoans\"] = contiguous_usa_join[\"NumLoans\"].div(contiguous_usa_join[\"population\"])\n",
    "\n",
    "# plot\n",
    "ax = gplt.polyplot(contiguous_usa_join, projection=gcrs.AlbersEqualArea())\n",
    "gplt.choropleth(\n",
    "  contiguous_usa_join,\n",
    "  hue=\"NormalizedNumLoans\",\n",
    "  edgecolor=\"black\",\n",
    "  linewidth=1,\n",
    "  cmap=\"viridis\",\n",
    "  legend=True,\n",
    "  legend_kwargs={\"frameon\":True, \"loc\":\"lower right\"},\n",
    "  scheme=\"FisherJenks\",\n",
    "  projection=gcrs.AlbersEqualArea(),\n",
    "  ax=ax\n",
    ")\n",
    "\n",
    "# legend formatting\n",
    "leg = ax.get_legend()\n",
    "labels = leg.get_texts()\n",
    "legend_scale = 5 # 10**2\n",
    "for i in range(len(labels)):\n",
    "    low, hi = map(float, labels[i].get_text().split(\" - \"))\n",
    "    low, hi = np.round([low*10**legend_scale, hi*10**legend_scale], 3)\n",
    "    labels[i].set_text( \"%0.3f - %0.3f\" % (low,hi))\n",
    "leg.set_title(r\"Loans/pop $\\times 10^{%i}$\" % legend_scale)\n",
    "plt.title(\"Number of loans per state normalized by population\")\n",
    "plt.show()"
   ]
  },
  {
   "cell_type": "markdown",
   "metadata": {},
   "source": [
    "Now we see that Nevada has a disproportionaly large number of borrowers. "
   ]
  },
  {
   "cell_type": "code",
   "execution_count": 122,
   "metadata": {},
   "outputs": [
    {
     "name": "stderr",
     "output_type": "stream",
     "text": [
      "C:\\Users\\tysonp\\Anaconda3\\lib\\site-packages\\ipykernel_launcher.py:2: SettingWithCopyWarning: \n",
      "A value is trying to be set on a copy of a slice from a DataFrame.\n",
      "Try using .loc[row_indexer,col_indexer] = value instead\n",
      "\n",
      "See the caveats in the documentation: https://pandas.pydata.org/pandas-docs/stable/user_guide/indexing.html#returning-a-view-versus-a-copy\n",
      "  \n"
     ]
    },
    {
     "data": {
      "image/png": "[encoded data removed]",
      "text/plain": [
       "<Figure size 576x432 with 1 Axes>"
      ]
     },
     "metadata": {
      "needs_background": "light"
     },
     "output_type": "display_data"
    }
   ],
   "source": [
    "df_enc = df[[\"addr_state\",\"loan_status\"]]\n",
    "df_enc[\"loan_status\"] = df_enc[\"loan_status\"].replace({\"Charged Off\":1, \"Fully Paid\":0})\n",
    "data = df_enc.groupby(\"addr_state\").mean()[\"loan_status\"]\n",
    "data = data.reindex(abbrev_map.keys(), fill_value=0)\n",
    "data\n",
    "data.name = \"ChargeOff\"\n",
    "\n",
    "# filter by contiguous states only for visualization\n",
    "data_contiguous = data[data.index.isin(state_abbrevs[\"Code\"])]\n",
    "data_contiguous.index = data_contiguous.index.map(lambda x: abbrev_map[x])\n",
    "contiguous_usa_join = contiguous_usa.join(data_contiguous, how=\"inner\")\n",
    "\n",
    "# plot\n",
    "ax = gplt.polyplot(contiguous_usa_join, projection=gcrs.AlbersEqualArea())\n",
    "gplt.choropleth(\n",
    "  contiguous_usa_join,\n",
    "  hue=\"ChargeOff\",\n",
    "  edgecolor=\"black\",\n",
    "  linewidth=1,\n",
    "  cmap=\"viridis\",\n",
    "  legend=True,\n",
    "  legend_kwargs={\"frameon\":True, \"loc\":\"lower right\"},\n",
    "  scheme=\"FisherJenks\",\n",
    "  projection=gcrs.AlbersEqualArea(),\n",
    "  ax=ax\n",
    ")\n",
    "plt.title(\"Loan charge off rate per state\")\n",
    "plt.show()"
   ]
  },
  {
   "cell_type": "markdown",
   "metadata": {},
   "source": [
    "States in the western U.S. have high charge off rates -- which is bad considering they also have the highest number of loans. Indiana has an extremely high charge off rate."
   ]
  },
  {
   "cell_type": "code",
   "execution_count": 128,
   "metadata": {},
   "outputs": [
    {
     "data": {
      "text/plain": [
       "<AxesSubplot:ylabel='Frequency'>"
      ]
     },
     "execution_count": 128,
     "metadata": {},
     "output_type": "execute_result"
    },
    {
     "data": {
      "image/png": "[encoded data removed]",
      "text/plain": [
       "<Figure size 432x288 with 1 Axes>"
      ]
     },
     "metadata": {
      "needs_background": "light"
     },
     "output_type": "display_data"
    }
   ],
   "source": [
    "df[\"dti\"].plot(kind=\"hist\", bins=20, edgecolor=\"black\")"
   ]
  },
  {
   "cell_type": "markdown",
   "metadata": {},
   "source": [
    "DTI has a symmetric, unimodal distributed peaked around 15%."
   ]
  },
  {
   "cell_type": "code",
   "execution_count": 132,
   "metadata": {},
   "outputs": [
    {
     "data": {
      "text/html": [
       "<div>\n",
       "<style scoped>\n",
       "    .dataframe tbody tr th:only-of-type {\n",
       "        vertical-align: middle;\n",
       "    }\n",
       "\n",
       "    .dataframe tbody tr th {\n",
       "        vertical-align: top;\n",
       "    }\n",
       "\n",
       "    .dataframe thead th {\n",
       "        text-align: right;\n",
       "    }\n",
       "</style>\n",
       "<table border=\"1\" class=\"dataframe\">\n",
       "  <thead>\n",
       "    <tr style=\"text-align: right;\">\n",
       "      <th></th>\n",
       "      <th>dti</th>\n",
       "    </tr>\n",
       "    <tr>\n",
       "      <th>loan_status</th>\n",
       "      <th></th>\n",
       "    </tr>\n",
       "  </thead>\n",
       "  <tbody>\n",
       "    <tr>\n",
       "      <th>Charged Off</th>\n",
       "      <td>18.465</td>\n",
       "    </tr>\n",
       "    <tr>\n",
       "      <th>Fully Paid</th>\n",
       "      <td>16.700</td>\n",
       "    </tr>\n",
       "  </tbody>\n",
       "</table>\n",
       "</div>"
      ],
      "text/plain": [
       "                dti\n",
       "loan_status        \n",
       "Charged Off  18.465\n",
       "Fully Paid   16.700"
      ]
     },
     "execution_count": 132,
     "metadata": {},
     "output_type": "execute_result"
    }
   ],
   "source": [
    "df[[\"dti\",\"loan_status\"]].groupby(\"loan_status\").median()"
   ]
  },
  {
   "cell_type": "markdown",
   "metadata": {},
   "source": [
    "Borrowers that fully pay their loans have a lower DTI than borrowers that end up charged off."
   ]
  },
  {
   "cell_type": "markdown",
   "metadata": {},
   "source": [
    "## Credit columns"
   ]
  },
  {
   "cell_type": "code",
   "execution_count": 138,
   "metadata": {},
   "outputs": [
    {
     "data": {
      "text/html": [
       "<div>\n",
       "<style scoped>\n",
       "    .dataframe tbody tr th:only-of-type {\n",
       "        vertical-align: middle;\n",
       "    }\n",
       "\n",
       "    .dataframe tbody tr th {\n",
       "        vertical-align: top;\n",
       "    }\n",
       "\n",
       "    .dataframe thead th {\n",
       "        text-align: right;\n",
       "    }\n",
       "</style>\n",
       "<table border=\"1\" class=\"dataframe\">\n",
       "  <thead>\n",
       "    <tr style=\"text-align: right;\">\n",
       "      <th></th>\n",
       "      <th>earliest_cr_line</th>\n",
       "      <th>fico_range_low</th>\n",
       "      <th>fico_range_high</th>\n",
       "    </tr>\n",
       "  </thead>\n",
       "  <tbody>\n",
       "    <tr>\n",
       "      <th>0</th>\n",
       "      <td>2004-05-01</td>\n",
       "      <td>665.0</td>\n",
       "      <td>669.0</td>\n",
       "    </tr>\n",
       "    <tr>\n",
       "      <th>1</th>\n",
       "      <td>1999-09-01</td>\n",
       "      <td>660.0</td>\n",
       "      <td>664.0</td>\n",
       "    </tr>\n",
       "    <tr>\n",
       "      <th>2</th>\n",
       "      <td>1996-12-01</td>\n",
       "      <td>715.0</td>\n",
       "      <td>719.0</td>\n",
       "    </tr>\n",
       "    <tr>\n",
       "      <th>3</th>\n",
       "      <td>2005-01-01</td>\n",
       "      <td>675.0</td>\n",
       "      <td>679.0</td>\n",
       "    </tr>\n",
       "    <tr>\n",
       "      <th>4</th>\n",
       "      <td>1998-05-01</td>\n",
       "      <td>675.0</td>\n",
       "      <td>679.0</td>\n",
       "    </tr>\n",
       "  </tbody>\n",
       "</table>\n",
       "</div>"
      ],
      "text/plain": [
       "  earliest_cr_line  fico_range_low  fico_range_high\n",
       "0       2004-05-01           665.0            669.0\n",
       "1       1999-09-01           660.0            664.0\n",
       "2       1996-12-01           715.0            719.0\n",
       "3       2005-01-01           675.0            679.0\n",
       "4       1998-05-01           675.0            679.0"
      ]
     },
     "execution_count": 138,
     "metadata": {},
     "output_type": "execute_result"
    }
   ],
   "source": [
    "df[cred_cols].head()"
   ]
  },
  {
   "cell_type": "code",
   "execution_count": 150,
   "metadata": {},
   "outputs": [
    {
     "data": {
      "text/plain": [
       "[<matplotlib.lines.Line2D at 0x2e0a68b72c8>]"
      ]
     },
     "execution_count": 150,
     "metadata": {},
     "output_type": "execute_result"
    },
    {
     "data": {
      "image/png": "[encoded data removed]",
      "text/plain": [
       "<Figure size 432x288 with 1 Axes>"
      ]
     },
     "metadata": {
      "needs_background": "light"
     },
     "output_type": "display_data"
    }
   ],
   "source": [
    "data = df[cred_cols].set_index(\"earliest_cr_line\").groupby(pd.Grouper(freq=\"Y\")).size() # earliest credit line\n",
    "\n",
    "dates = mdates.date2num(data.index.values)\n",
    "plt.plot_date(dates, data.values)"
   ]
  },
  {
   "cell_type": "markdown",
   "metadata": {},
   "source": [
    "Most people had a credit line as early as 2000 (12 years before loan origination)."
   ]
  },
  {
   "cell_type": "code",
   "execution_count": 151,
   "metadata": {},
   "outputs": [
    {
     "name": "stderr",
     "output_type": "stream",
     "text": [
      "C:\\Users\\tysonp\\Anaconda3\\lib\\site-packages\\ipykernel_launcher.py:2: SettingWithCopyWarning: \n",
      "A value is trying to be set on a copy of a slice from a DataFrame.\n",
      "Try using .loc[row_indexer,col_indexer] = value instead\n",
      "\n",
      "See the caveats in the documentation: https://pandas.pydata.org/pandas-docs/stable/user_guide/indexing.html#returning-a-view-versus-a-copy\n",
      "  \n"
     ]
    },
    {
     "data": {
      "text/plain": [
       "[<matplotlib.lines.Line2D at 0x2e0a59d7408>]"
      ]
     },
     "execution_count": 151,
     "metadata": {},
     "output_type": "execute_result"
    },
    {
     "data": {
      "image/png": "[encoded data removed]",
      "text/plain": [
       "<Figure size 432x288 with 1 Axes>"
      ]
     },
     "metadata": {
      "needs_background": "light"
     },
     "output_type": "display_data"
    }
   ],
   "source": [
    "df_enc = df[[\"earliest_cr_line\",\"loan_status\"]]\n",
    "df_enc[\"loan_status\"] = df_enc[\"loan_status\"].replace({\"Charged Off\":1, \"Fully Paid\":0})\n",
    "data = df_enc[[\"earliest_cr_line\",\"loan_status\"]].set_index(\"earliest_cr_line\").groupby(pd.Grouper(freq=\"Y\")).mean()\n",
    "\n",
    "dates = mdates.date2num(data.index.values)\n",
    "plt.plot_date(dates, data.values)"
   ]
  },
  {
   "cell_type": "markdown",
   "metadata": {},
   "source": [
    "Generally borrowers with shorter credit histories have higher charge off rates. We "
   ]
  },
  {
   "cell_type": "code",
   "execution_count": 152,
   "metadata": {},
   "outputs": [
    {
     "name": "stdout",
     "output_type": "stream",
     "text": [
      "                 fico_range_high  fico_range_low\n",
      "fico_range_high              1.0             1.0\n",
      "fico_range_low               1.0             1.0\n"
     ]
    },
    {
     "data": {
      "text/plain": [
       "count    16260.000000\n",
       "mean         4.000123\n",
       "std          0.011090\n",
       "min          4.000000\n",
       "25%          4.000000\n",
       "50%          4.000000\n",
       "75%          4.000000\n",
       "max          5.000000\n",
       "dtype: float64"
      ]
     },
     "execution_count": 152,
     "metadata": {},
     "output_type": "execute_result"
    }
   ],
   "source": [
    "print(df[[\"fico_range_high\",\"fico_range_low\"]].corr())\n",
    "(df[\"fico_range_high\"] - df[\"fico_range_low\"]).describe()"
   ]
  },
  {
   "cell_type": "markdown",
   "metadata": {},
   "source": [
    "`fico_range_high` is essentially always 4 points higher than `fico_range_low`. Because of this, we should drop one column."
   ]
  },
  {
   "cell_type": "code",
   "execution_count": 155,
   "metadata": {},
   "outputs": [
    {
     "data": {
      "text/plain": [
       "<AxesSubplot:ylabel='Frequency'>"
      ]
     },
     "execution_count": 155,
     "metadata": {},
     "output_type": "execute_result"
    },
    {
     "data": {
      "image/png": "[encoded data removed]",
      "text/plain": [
       "<Figure size 432x288 with 1 Axes>"
      ]
     },
     "metadata": {
      "needs_background": "light"
     },
     "output_type": "display_data"
    }
   ],
   "source": [
    "df[\"fico_range_high\"].plot(kind=\"hist\", bins=20, edgecolor=\"black\")"
   ]
  },
  {
   "cell_type": "code",
   "execution_count": 153,
   "metadata": {},
   "outputs": [
    {
     "data": {
      "text/plain": [
       "Text(0.5, 1.0, '')"
      ]
     },
     "execution_count": 153,
     "metadata": {},
     "output_type": "execute_result"
    },
    {
     "data": {
      "image/png": "[encoded data removed]",
      "text/plain": [
       "<Figure size 432x288 with 1 Axes>"
      ]
     },
     "metadata": {
      "needs_background": "light"
     },
     "output_type": "display_data"
    }
   ],
   "source": [
    "df[[\"fico_range_high\",\"loan_status\"]].boxplot(column=\"fico_range_high\", by=\"loan_status\")\n",
    "plt.title(\"\") # hide title"
   ]
  },
  {
   "cell_type": "markdown",
   "metadata": {},
   "source": [
    "As we should expect, better credit score is associated with better loan outcome."
   ]
  },
  {
   "cell_type": "markdown",
   "metadata": {},
   "source": [
    "## Delinquency columns"
   ]
  },
  {
   "cell_type": "code",
   "execution_count": 156,
   "metadata": {},
   "outputs": [
    {
     "data": {
      "text/plain": [
       "[\"delinq_2yrs: The number of 30+ days past-due incidences of delinquency in the borrower's credit file for the past 2 years\",\n",
       " \"mths_since_last_delinq: The number of months since the borrower's last delinquency.\",\n",
       " 'pub_rec: Number of derogatory public records',\n",
       " 'mths_since_last_major_derog: Months since most recent 90-day or worse rating',\n",
       " 'tot_coll_amt: Total collection amounts ever owed',\n",
       " 'mths_since_recent_bc_dlq: Months since most recent bankcard delinquency',\n",
       " 'mths_since_recent_revol_delinq: Months since most recent revolving delinquency.',\n",
       " 'num_accts_ever_120_pd: Number of accounts ever 120 or more days past due',\n",
       " 'num_tl_120dpd_2m: Number of accounts currently 120 days past due (updated in past 2 months)',\n",
       " 'num_tl_30dpd: Number of accounts currently 30 days past due (updated in past 2 months)',\n",
       " 'num_tl_90g_dpd_24m: Number of accounts 90 or more days past due in last 24 months',\n",
       " 'pct_tl_nvr_dlq: Percent of trades never delinquent',\n",
       " 'pub_rec_bankruptcies: Number of public record bankruptcies']"
      ]
     },
     "execution_count": 156,
     "metadata": {},
     "output_type": "execute_result"
    }
   ],
   "source": [
    "[x + \": \" + desc[x] for x in dlq_cols]"
   ]
  },
  {
   "cell_type": "code",
   "execution_count": 163,
   "metadata": {
    "scrolled": true
   },
   "outputs": [
    {
     "data": {
      "text/plain": [
       "<AxesSubplot:>"
      ]
     },
     "execution_count": 163,
     "metadata": {},
     "output_type": "execute_result"
    },
    {
     "data": {
      "image/png": "[encoded data removed]",
      "text/plain": [
       "<Figure size 432x288 with 2 Axes>"
      ]
     },
     "metadata": {
      "needs_background": "light"
     },
     "output_type": "display_data"
    }
   ],
   "source": [
    "sns.heatmap(df[dlq_cols].corr())"
   ]
  },
  {
   "cell_type": "markdown",
   "metadata": {},
   "source": [
    "Interestingly, these columns are not as correlated as I thought they would be. Perhaps people learn from their financial mistakes/try to avoid being delinquent on multiple loans. We do see some high correlations like `pub_rec` and `pub_rec_bankruptcies`, we'll need to deal with these when modeling.\n",
    "\n",
    "Let's look at one delinquency-related column."
   ]
  },
  {
   "cell_type": "code",
   "execution_count": 176,
   "metadata": {},
   "outputs": [
    {
     "data": {
      "text/plain": [
       "0.0     0.831919\n",
       "1.0     0.120172\n",
       "2.0     0.032288\n",
       "3.0     0.008426\n",
       "4.0     0.003444\n",
       "5.0     0.001722\n",
       "7.0     0.000615\n",
       "6.0     0.000615\n",
       "9.0     0.000246\n",
       "8.0     0.000185\n",
       "11.0    0.000062\n",
       "18.0    0.000062\n",
       "13.0    0.000062\n",
       "12.0    0.000062\n",
       "14.0    0.000062\n",
       "10.0    0.000062\n",
       "Name: delinq_2yrs, dtype: float64"
      ]
     },
     "execution_count": 176,
     "metadata": {},
     "output_type": "execute_result"
    }
   ],
   "source": [
    "counts = df[\"delinq_2yrs\"].value_counts(normalize=True)\n",
    "counts"
   ]
  },
  {
   "cell_type": "markdown",
   "metadata": {},
   "source": [
    "One borrower has 18 delinquencies in the last 2 years!"
   ]
  },
  {
   "cell_type": "code",
   "execution_count": 177,
   "metadata": {},
   "outputs": [
    {
     "data": {
      "text/plain": [
       "<AxesSubplot:>"
      ]
     },
     "execution_count": 177,
     "metadata": {},
     "output_type": "execute_result"
    },
    {
     "data": {
      "image/png": "[encoded data removed]",
      "text/plain": [
       "<Figure size 432x288 with 1 Axes>"
      ]
     },
     "metadata": {
      "needs_background": "light"
     },
     "output_type": "display_data"
    }
   ],
   "source": [
    "counts[:4].plot(kind=\"bar\")"
   ]
  },
  {
   "cell_type": "code",
   "execution_count": 181,
   "metadata": {},
   "outputs": [
    {
     "data": {
      "text/html": [
       "<div>\n",
       "<style scoped>\n",
       "    .dataframe tbody tr th:only-of-type {\n",
       "        vertical-align: middle;\n",
       "    }\n",
       "\n",
       "    .dataframe tbody tr th {\n",
       "        vertical-align: top;\n",
       "    }\n",
       "\n",
       "    .dataframe thead th {\n",
       "        text-align: right;\n",
       "    }\n",
       "</style>\n",
       "<table border=\"1\" class=\"dataframe\">\n",
       "  <thead>\n",
       "    <tr style=\"text-align: right;\">\n",
       "      <th></th>\n",
       "      <th>delinq_2yrs</th>\n",
       "    </tr>\n",
       "    <tr>\n",
       "      <th>loan_status</th>\n",
       "      <th></th>\n",
       "    </tr>\n",
       "  </thead>\n",
       "  <tbody>\n",
       "    <tr>\n",
       "      <th>Charged Off</th>\n",
       "      <td>0.241706</td>\n",
       "    </tr>\n",
       "    <tr>\n",
       "      <th>Fully Paid</th>\n",
       "      <td>0.249965</td>\n",
       "    </tr>\n",
       "  </tbody>\n",
       "</table>\n",
       "</div>"
      ],
      "text/plain": [
       "             delinq_2yrs\n",
       "loan_status             \n",
       "Charged Off     0.241706\n",
       "Fully Paid      0.249965"
      ]
     },
     "execution_count": 181,
     "metadata": {},
     "output_type": "execute_result"
    }
   ],
   "source": [
    "df[[\"delinq_2yrs\",\"loan_status\"]].groupby(\"loan_status\").mean()"
   ]
  },
  {
   "cell_type": "markdown",
   "metadata": {},
   "source": [
    "There does not seem to be much of a relationship between `delinq_2yrs` and `loan_status`, and in fact fully paid loans have a slightly higher 2-year delinquency rate here."
   ]
  },
  {
   "cell_type": "markdown",
   "metadata": {},
   "source": [
    "## Inquiries columns"
   ]
  },
  {
   "cell_type": "code",
   "execution_count": 183,
   "metadata": {},
   "outputs": [
    {
     "data": {
      "text/plain": [
       "['inq_last_6mths: The number of inquiries in past 6 months (excluding auto and mortgage inquiries)',\n",
       " 'mths_since_last_record: The number of months since the last public record.',\n",
       " 'mths_since_recent_inq: Months since most recent inquiry.']"
      ]
     },
     "execution_count": 183,
     "metadata": {},
     "output_type": "execute_result"
    }
   ],
   "source": [
    "[x + \": \" + desc[x] for x in inq_cols]"
   ]
  },
  {
   "cell_type": "code",
   "execution_count": 187,
   "metadata": {},
   "outputs": [
    {
     "data": {
      "text/plain": [
       "<AxesSubplot:ylabel='Frequency'>"
      ]
     },
     "execution_count": 187,
     "metadata": {},
     "output_type": "execute_result"
    },
    {
     "data": {
      "image/png": "[encoded data removed]",
      "text/plain": [
       "<Figure size 432x288 with 1 Axes>"
      ]
     },
     "metadata": {
      "needs_background": "light"
     },
     "output_type": "display_data"
    }
   ],
   "source": [
    "df[\"mths_since_recent_inq\"].plot(kind=\"hist\", bins=20, edgecolor=\"black\")"
   ]
  },
  {
   "cell_type": "code",
   "execution_count": 193,
   "metadata": {},
   "outputs": [
    {
     "data": {
      "text/html": [
       "<div>\n",
       "<style scoped>\n",
       "    .dataframe tbody tr th:only-of-type {\n",
       "        vertical-align: middle;\n",
       "    }\n",
       "\n",
       "    .dataframe tbody tr th {\n",
       "        vertical-align: top;\n",
       "    }\n",
       "\n",
       "    .dataframe thead th {\n",
       "        text-align: right;\n",
       "    }\n",
       "</style>\n",
       "<table border=\"1\" class=\"dataframe\">\n",
       "  <thead>\n",
       "    <tr style=\"text-align: right;\">\n",
       "      <th></th>\n",
       "      <th>mths_since_recent_inq</th>\n",
       "    </tr>\n",
       "    <tr>\n",
       "      <th>loan_status</th>\n",
       "      <th></th>\n",
       "    </tr>\n",
       "  </thead>\n",
       "  <tbody>\n",
       "    <tr>\n",
       "      <th>Charged Off</th>\n",
       "      <td>4.0</td>\n",
       "    </tr>\n",
       "    <tr>\n",
       "      <th>Fully Paid</th>\n",
       "      <td>5.0</td>\n",
       "    </tr>\n",
       "  </tbody>\n",
       "</table>\n",
       "</div>"
      ],
      "text/plain": [
       "             mths_since_recent_inq\n",
       "loan_status                       \n",
       "Charged Off                    4.0\n",
       "Fully Paid                     5.0"
      ]
     },
     "execution_count": 193,
     "metadata": {},
     "output_type": "execute_result"
    }
   ],
   "source": [
    "df[[\"mths_since_recent_inq\",\"loan_status\"]].groupby(\"loan_status\").median()"
   ]
  },
  {
   "cell_type": "markdown",
   "metadata": {},
   "source": [
    "Charged off loans are associated with a slightly more recent inquiry."
   ]
  },
  {
   "cell_type": "markdown",
   "metadata": {},
   "source": [
    "## Account columns"
   ]
  },
  {
   "cell_type": "code",
   "execution_count": 188,
   "metadata": {},
   "outputs": [
    {
     "data": {
      "text/plain": [
       "[\"open_acc: The number of open credit lines in the borrower's credit file.\",\n",
       " \"total_acc: The total number of credit lines currently in the borrower's credit file\",\n",
       " 'acc_open_past_24mths: Number of trades opened in past 24 months.',\n",
       " 'mo_sin_old_il_acct: Months since oldest bank installment account opened',\n",
       " 'mo_sin_old_rev_tl_op: Months since oldest revolving account opened',\n",
       " 'mo_sin_rcnt_rev_tl_op: Months since most recent revolving account opened',\n",
       " 'mo_sin_rcnt_tl: Months since most recent account opened',\n",
       " 'mort_acc: Number of mortgage accounts.',\n",
       " 'mths_since_recent_bc: Months since most recent bankcard account opened.',\n",
       " 'num_actv_bc_tl: Number of currently active bankcard accounts',\n",
       " 'num_actv_rev_tl: Number of currently active revolving trades',\n",
       " 'num_bc_sats: Number of satisfactory bankcard accounts',\n",
       " 'num_bc_tl: Number of bankcard accounts',\n",
       " 'num_il_tl: Number of installment accounts',\n",
       " 'num_op_rev_tl: Number of open revolving accounts',\n",
       " 'num_rev_accts: Number of revolving accounts',\n",
       " 'num_rev_tl_bal_gt_0: Number of revolving trades with balance >0',\n",
       " 'num_sats: Number of satisfactory accounts',\n",
       " 'num_tl_op_past_12m: Number of accounts opened in past 12 months']"
      ]
     },
     "execution_count": 188,
     "metadata": {},
     "output_type": "execute_result"
    }
   ],
   "source": [
    "[x + \": \" + desc[x] for x in acc_cols]"
   ]
  },
  {
   "cell_type": "code",
   "execution_count": 189,
   "metadata": {},
   "outputs": [
    {
     "data": {
      "text/plain": [
       "<AxesSubplot:>"
      ]
     },
     "execution_count": 189,
     "metadata": {},
     "output_type": "execute_result"
    },
    {
     "data": {
      "image/png": "[encoded data removed]",
      "text/plain": [
       "<Figure size 432x288 with 2 Axes>"
      ]
     },
     "metadata": {
      "needs_background": "light"
     },
     "output_type": "display_data"
    }
   ],
   "source": [
    "sns.heatmap(df[acc_cols].corr())"
   ]
  },
  {
   "cell_type": "markdown",
   "metadata": {},
   "source": [
    "Several of these are highly correlated (positively or negatively). Let's look at `mo_sin_rcnt_tl`."
   ]
  },
  {
   "cell_type": "code",
   "execution_count": 198,
   "metadata": {},
   "outputs": [
    {
     "data": {
      "text/plain": [
       "count    16211.000000\n",
       "mean         8.859725\n",
       "std          9.832141\n",
       "min          0.000000\n",
       "25%          3.000000\n",
       "50%          6.000000\n",
       "75%         11.000000\n",
       "max        137.000000\n",
       "Name: mo_sin_rcnt_tl, dtype: float64"
      ]
     },
     "execution_count": 198,
     "metadata": {},
     "output_type": "execute_result"
    }
   ],
   "source": [
    "df[\"mo_sin_rcnt_tl\"].describe()"
   ]
  },
  {
   "cell_type": "markdown",
   "metadata": {},
   "source": [
    "The distribution is highly skewed right, with some borrowers having their most recent account opened 137 months ago (11 years). The median value is 6 months."
   ]
  },
  {
   "cell_type": "code",
   "execution_count": 199,
   "metadata": {},
   "outputs": [
    {
     "data": {
      "text/html": [
       "<div>\n",
       "<style scoped>\n",
       "    .dataframe tbody tr th:only-of-type {\n",
       "        vertical-align: middle;\n",
       "    }\n",
       "\n",
       "    .dataframe tbody tr th {\n",
       "        vertical-align: top;\n",
       "    }\n",
       "\n",
       "    .dataframe thead th {\n",
       "        text-align: right;\n",
       "    }\n",
       "</style>\n",
       "<table border=\"1\" class=\"dataframe\">\n",
       "  <thead>\n",
       "    <tr style=\"text-align: right;\">\n",
       "      <th></th>\n",
       "      <th>mo_sin_rcnt_tl</th>\n",
       "    </tr>\n",
       "    <tr>\n",
       "      <th>loan_status</th>\n",
       "      <th></th>\n",
       "    </tr>\n",
       "  </thead>\n",
       "  <tbody>\n",
       "    <tr>\n",
       "      <th>Charged Off</th>\n",
       "      <td>5.0</td>\n",
       "    </tr>\n",
       "    <tr>\n",
       "      <th>Fully Paid</th>\n",
       "      <td>6.0</td>\n",
       "    </tr>\n",
       "  </tbody>\n",
       "</table>\n",
       "</div>"
      ],
      "text/plain": [
       "             mo_sin_rcnt_tl\n",
       "loan_status                \n",
       "Charged Off             5.0\n",
       "Fully Paid              6.0"
      ]
     },
     "execution_count": 199,
     "metadata": {},
     "output_type": "execute_result"
    }
   ],
   "source": [
    "df[[\"mo_sin_rcnt_tl\",\"loan_status\"]].groupby(\"loan_status\").median()"
   ]
  },
  {
   "cell_type": "markdown",
   "metadata": {},
   "source": [
    "## Balance columns\n",
    "We'll just look at the correlations here."
   ]
  },
  {
   "cell_type": "code",
   "execution_count": 200,
   "metadata": {},
   "outputs": [
    {
     "data": {
      "text/plain": [
       "['revol_bal: Total credit revolving balance',\n",
       " 'revol_util: Revolving line utilization rate, or the amount of credit the borrower is using relative to all available revolving credit.',\n",
       " 'tot_cur_bal: Total current balance of all accounts',\n",
       " 'total_rev_hi_lim: Total revolving high credit/credit limit',\n",
       " 'avg_cur_bal: Average current balance of all accounts',\n",
       " 'bc_open_to_buy: Total open to buy on revolving bankcards.',\n",
       " 'bc_util: Ratio of total current balance to high credit/credit limit for all bankcard accounts.',\n",
       " 'percent_bc_gt_75: Percentage of all bankcard accounts > 75% of limit.',\n",
       " 'tot_hi_cred_lim: Total high credit/credit limit',\n",
       " 'total_bal_ex_mort: Total credit balance excluding mortgage',\n",
       " 'total_bc_limit: Total bankcard high credit/credit limit',\n",
       " 'total_il_high_credit_limit: Total installment high credit/credit limit']"
      ]
     },
     "execution_count": 200,
     "metadata": {},
     "output_type": "execute_result"
    }
   ],
   "source": [
    "[x + \": \" + desc[x] for x in bal_cols]"
   ]
  },
  {
   "cell_type": "code",
   "execution_count": 201,
   "metadata": {},
   "outputs": [
    {
     "data": {
      "text/plain": [
       "<AxesSubplot:>"
      ]
     },
     "execution_count": 201,
     "metadata": {},
     "output_type": "execute_result"
    },
    {
     "data": {
      "image/png": "[encoded data removed]",
      "text/plain": [
       "<Figure size 432x288 with 2 Axes>"
      ]
     },
     "metadata": {
      "needs_background": "light"
     },
     "output_type": "display_data"
    }
   ],
   "source": [
    "sns.heatmap(df[bal_cols].corr())"
   ]
  },
  {
   "cell_type": "markdown",
   "metadata": {},
   "source": [
    "Again there are several highly correlated columns that we'll need to deal with."
   ]
  },
  {
   "cell_type": "markdown",
   "metadata": {},
   "source": [
    "## Data types"
   ]
  },
  {
   "cell_type": "code",
   "execution_count": 7,
   "metadata": {
    "scrolled": true
   },
   "outputs": [
    {
     "data": {
      "text/plain": [
       "float64           54\n",
       "object             7\n",
       "datetime64[ns]     2\n",
       "dtype: int64"
      ]
     },
     "execution_count": 7,
     "metadata": {},
     "output_type": "execute_result"
    }
   ],
   "source": [
    "df.dtypes.value_counts()"
   ]
  },
  {
   "cell_type": "code",
   "execution_count": 20,
   "metadata": {},
   "outputs": [
    {
     "data": {
      "text/html": [
       "<div>\n",
       "<style scoped>\n",
       "    .dataframe tbody tr th:only-of-type {\n",
       "        vertical-align: middle;\n",
       "    }\n",
       "\n",
       "    .dataframe tbody tr th {\n",
       "        vertical-align: top;\n",
       "    }\n",
       "\n",
       "    .dataframe thead th {\n",
       "        text-align: right;\n",
       "    }\n",
       "</style>\n",
       "<table border=\"1\" class=\"dataframe\">\n",
       "  <thead>\n",
       "    <tr style=\"text-align: right;\">\n",
       "      <th></th>\n",
       "      <th>emp_length</th>\n",
       "      <th>home_ownership</th>\n",
       "      <th>loan_status</th>\n",
       "      <th>purpose</th>\n",
       "      <th>zip_code</th>\n",
       "      <th>addr_state</th>\n",
       "      <th>initial_list_status</th>\n",
       "    </tr>\n",
       "  </thead>\n",
       "  <tbody>\n",
       "    <tr>\n",
       "      <th>0</th>\n",
       "      <td>&lt; 1 year</td>\n",
       "      <td>RENT</td>\n",
       "      <td>Fully Paid</td>\n",
       "      <td>credit_card</td>\n",
       "      <td>959xx</td>\n",
       "      <td>CA</td>\n",
       "      <td>w</td>\n",
       "    </tr>\n",
       "    <tr>\n",
       "      <th>1</th>\n",
       "      <td>2 years</td>\n",
       "      <td>RENT</td>\n",
       "      <td>Fully Paid</td>\n",
       "      <td>credit_card</td>\n",
       "      <td>986xx</td>\n",
       "      <td>WA</td>\n",
       "      <td>f</td>\n",
       "    </tr>\n",
       "    <tr>\n",
       "      <th>2</th>\n",
       "      <td>10+ years</td>\n",
       "      <td>RENT</td>\n",
       "      <td>Fully Paid</td>\n",
       "      <td>debt_consolidation</td>\n",
       "      <td>900xx</td>\n",
       "      <td>CA</td>\n",
       "      <td>f</td>\n",
       "    </tr>\n",
       "    <tr>\n",
       "      <th>3</th>\n",
       "      <td>8 years</td>\n",
       "      <td>RENT</td>\n",
       "      <td>Fully Paid</td>\n",
       "      <td>medical</td>\n",
       "      <td>734xx</td>\n",
       "      <td>OK</td>\n",
       "      <td>w</td>\n",
       "    </tr>\n",
       "    <tr>\n",
       "      <th>4</th>\n",
       "      <td>2 years</td>\n",
       "      <td>RENT</td>\n",
       "      <td>Charged Off</td>\n",
       "      <td>credit_card</td>\n",
       "      <td>346xx</td>\n",
       "      <td>FL</td>\n",
       "      <td>f</td>\n",
       "    </tr>\n",
       "    <tr>\n",
       "      <th>...</th>\n",
       "      <td>...</td>\n",
       "      <td>...</td>\n",
       "      <td>...</td>\n",
       "      <td>...</td>\n",
       "      <td>...</td>\n",
       "      <td>...</td>\n",
       "      <td>...</td>\n",
       "    </tr>\n",
       "    <tr>\n",
       "      <th>16255</th>\n",
       "      <td>5 years</td>\n",
       "      <td>RENT</td>\n",
       "      <td>Fully Paid</td>\n",
       "      <td>debt_consolidation</td>\n",
       "      <td>981xx</td>\n",
       "      <td>WA</td>\n",
       "      <td>f</td>\n",
       "    </tr>\n",
       "    <tr>\n",
       "      <th>16256</th>\n",
       "      <td>10+ years</td>\n",
       "      <td>OWN</td>\n",
       "      <td>Fully Paid</td>\n",
       "      <td>debt_consolidation</td>\n",
       "      <td>011xx</td>\n",
       "      <td>MA</td>\n",
       "      <td>f</td>\n",
       "    </tr>\n",
       "    <tr>\n",
       "      <th>16257</th>\n",
       "      <td>6 years</td>\n",
       "      <td>OWN</td>\n",
       "      <td>Fully Paid</td>\n",
       "      <td>home_improvement</td>\n",
       "      <td>797xx</td>\n",
       "      <td>TX</td>\n",
       "      <td>f</td>\n",
       "    </tr>\n",
       "    <tr>\n",
       "      <th>16258</th>\n",
       "      <td>1 year</td>\n",
       "      <td>RENT</td>\n",
       "      <td>Fully Paid</td>\n",
       "      <td>credit_card</td>\n",
       "      <td>112xx</td>\n",
       "      <td>NY</td>\n",
       "      <td>f</td>\n",
       "    </tr>\n",
       "    <tr>\n",
       "      <th>16259</th>\n",
       "      <td>8 years</td>\n",
       "      <td>RENT</td>\n",
       "      <td>Fully Paid</td>\n",
       "      <td>debt_consolidation</td>\n",
       "      <td>908xx</td>\n",
       "      <td>CA</td>\n",
       "      <td>w</td>\n",
       "    </tr>\n",
       "  </tbody>\n",
       "</table>\n",
       "<p>16260 rows × 7 columns</p>\n",
       "</div>"
      ],
      "text/plain": [
       "      emp_length home_ownership  loan_status             purpose zip_code  \\\n",
       "0       < 1 year           RENT   Fully Paid         credit_card    959xx   \n",
       "1        2 years           RENT   Fully Paid         credit_card    986xx   \n",
       "2      10+ years           RENT   Fully Paid  debt_consolidation    900xx   \n",
       "3        8 years           RENT   Fully Paid             medical    734xx   \n",
       "4        2 years           RENT  Charged Off         credit_card    346xx   \n",
       "...          ...            ...          ...                 ...      ...   \n",
       "16255    5 years           RENT   Fully Paid  debt_consolidation    981xx   \n",
       "16256  10+ years            OWN   Fully Paid  debt_consolidation    011xx   \n",
       "16257    6 years            OWN   Fully Paid    home_improvement    797xx   \n",
       "16258     1 year           RENT   Fully Paid         credit_card    112xx   \n",
       "16259    8 years           RENT   Fully Paid  debt_consolidation    908xx   \n",
       "\n",
       "      addr_state initial_list_status  \n",
       "0             CA                   w  \n",
       "1             WA                   f  \n",
       "2             CA                   f  \n",
       "3             OK                   w  \n",
       "4             FL                   f  \n",
       "...          ...                 ...  \n",
       "16255         WA                   f  \n",
       "16256         MA                   f  \n",
       "16257         TX                   f  \n",
       "16258         NY                   f  \n",
       "16259         CA                   w  \n",
       "\n",
       "[16260 rows x 7 columns]"
      ]
     },
     "execution_count": 20,
     "metadata": {},
     "output_type": "execute_result"
    }
   ],
   "source": [
    "df[df.columns[df.dtypes==\"object\"]]"
   ]
  },
  {
   "cell_type": "markdown",
   "metadata": {},
   "source": [
    "## Missing values"
   ]
  },
  {
   "cell_type": "code",
   "execution_count": 15,
   "metadata": {
    "scrolled": true
   },
   "outputs": [
    {
     "data": {
      "text/plain": [
       "mths_since_last_record            0.974600\n",
       "mths_since_last_major_derog       0.788007\n",
       "mths_since_recent_bc_dlq          0.736470\n",
       "mths_since_recent_revol_delinq    0.652829\n",
       "mths_since_last_delinq            0.509041\n",
       "mths_since_recent_inq             0.129951\n",
       "mo_sin_old_il_acct                0.054428\n",
       "emp_length                        0.043419\n",
       "bc_util                           0.010394\n",
       "bc_open_to_buy                    0.009779\n",
       "percent_bc_gt_75                  0.009779\n",
       "mths_since_recent_bc              0.008241\n",
       "mo_sin_old_rev_tl_op              0.003075\n",
       "mo_sin_rcnt_rev_tl_op             0.003075\n",
       "num_accts_ever_120_pd             0.003014\n",
       "avg_cur_bal                       0.003014\n",
       "tot_cur_bal                       0.003014\n",
       "mo_sin_rcnt_tl                    0.003014\n",
       "tot_coll_amt                      0.003014\n",
       "total_il_high_credit_limit        0.003014\n",
       "total_rev_hi_lim                  0.003014\n",
       "num_actv_bc_tl                    0.003014\n",
       "num_tl_90g_dpd_24m                0.003014\n",
       "tot_hi_cred_lim                   0.003014\n",
       "num_bc_tl                         0.003014\n",
       "num_actv_rev_tl                   0.003014\n",
       "num_il_tl                         0.003014\n",
       "num_op_rev_tl                     0.003014\n",
       "num_rev_accts                     0.003014\n",
       "num_rev_tl_bal_gt_0               0.003014\n",
       "pct_tl_nvr_dlq                    0.003014\n",
       "num_tl_120dpd_2m                  0.003014\n",
       "num_tl_30dpd                      0.003014\n",
       "num_tl_op_past_12m                0.003014\n",
       "revol_util                        0.000677\n",
       "dtype: float64"
      ]
     },
     "execution_count": 15,
     "metadata": {},
     "output_type": "execute_result"
    }
   ],
   "source": [
    "missing = df.isna().mean().sort_values(ascending=False)\n",
    "missing[missing > 0]"
   ]
  },
  {
   "cell_type": "markdown",
   "metadata": {},
   "source": [
    "## Future work\n",
    "A bivariate analysis (looking at pairs of variables) would be a good addition to our analysis. We did look at how several variables related to loan outcome, and we looked at correlations between some numeric variables, but there is still a lot to be done here. Does loan purpose relate to previous account delinquencies? By studying `earliest_cr_line`, `delinq_2yrs`, and `loan_status` can we determine an acceptable ratio for the number of delinquencies to credit history length? That is, how does someone with a 10 year credit history and 5 delinquencies in 2 years compare to someone with a 5 year credit history and 3 delinquencies? Do geographical delinquency/charge-off rates remain relatively constant or do they change rapidly in time?"
   ]
  }
 ],
 "metadata": {
  "kernelspec": {
   "display_name": "Python 3",
   "language": "python",
   "name": "python3"
  },
  "language_info": {
   "codemirror_mode": {
    "name": "ipython",
    "version": 3
   },
   "file_extension": ".py",
   "mimetype": "text/x-python",
   "name": "python",
   "nbconvert_exporter": "python",
   "pygments_lexer": "ipython3",
   "version": "3.7.6"
  }
 },
 "nbformat": 4,
 "nbformat_minor": 4
}
