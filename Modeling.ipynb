{
 "cells": [
  {
   "cell_type": "code",
   "execution_count": 1,
   "metadata": {},
   "outputs": [
    {
     "name": "stderr",
     "output_type": "stream",
     "text": [
      "In C:\\Users\\tysonp\\Anaconda3\\lib\\site-packages\\matplotlib\\mpl-data\\stylelib\\_classic_test.mplstyle: \n",
      "The text.latex.preview rcparam was deprecated in Matplotlib 3.3 and will be removed two minor releases later.\n",
      "In C:\\Users\\tysonp\\Anaconda3\\lib\\site-packages\\matplotlib\\mpl-data\\stylelib\\_classic_test.mplstyle: \n",
      "The mathtext.fallback_to_cm rcparam was deprecated in Matplotlib 3.3 and will be removed two minor releases later.\n",
      "In C:\\Users\\tysonp\\Anaconda3\\lib\\site-packages\\matplotlib\\mpl-data\\stylelib\\_classic_test.mplstyle: Support for setting the 'mathtext.fallback_to_cm' rcParam is deprecated since 3.3 and will be removed two minor releases later; use 'mathtext.fallback : 'cm' instead.\n",
      "In C:\\Users\\tysonp\\Anaconda3\\lib\\site-packages\\matplotlib\\mpl-data\\stylelib\\_classic_test.mplstyle: \n",
      "The validate_bool_maybe_none function was deprecated in Matplotlib 3.3 and will be removed two minor releases later.\n",
      "In C:\\Users\\tysonp\\Anaconda3\\lib\\site-packages\\matplotlib\\mpl-data\\stylelib\\_classic_test.mplstyle: \n",
      "The savefig.jpeg_quality rcparam was deprecated in Matplotlib 3.3 and will be removed two minor releases later.\n",
      "In C:\\Users\\tysonp\\Anaconda3\\lib\\site-packages\\matplotlib\\mpl-data\\stylelib\\_classic_test.mplstyle: \n",
      "The keymap.all_axes rcparam was deprecated in Matplotlib 3.3 and will be removed two minor releases later.\n",
      "In C:\\Users\\tysonp\\Anaconda3\\lib\\site-packages\\matplotlib\\mpl-data\\stylelib\\_classic_test.mplstyle: \n",
      "The animation.avconv_path rcparam was deprecated in Matplotlib 3.3 and will be removed two minor releases later.\n",
      "In C:\\Users\\tysonp\\Anaconda3\\lib\\site-packages\\matplotlib\\mpl-data\\stylelib\\_classic_test.mplstyle: \n",
      "The animation.avconv_args rcparam was deprecated in Matplotlib 3.3 and will be removed two minor releases later.\n"
     ]
    }
   ],
   "source": [
    "# python utilities\n",
    "import random\n",
    "import os\n",
    "import datetime\n",
    "import pickle\n",
    "\n",
    "# general data science\n",
    "import numpy as np\n",
    "import pandas as pd\n",
    "%matplotlib inline\n",
    "import matplotlib.pyplot as plt\n",
    "\n",
    "# ---------- scikit-learn ------------\n",
    "# preprocessing\n",
    "from sklearn.preprocessing import StandardScaler, OneHotEncoder\n",
    "from category_encoders import TargetEncoder\n",
    "from sklearn.impute import SimpleImputer\n",
    "from sklearn.feature_selection import SelectKBest, f_classif, mutual_info_classif\n",
    "from sklearn.base import BaseEstimator, TransformerMixin\n",
    "\n",
    "# models\n",
    "from sklearn.dummy import DummyClassifier\n",
    "from sklearn.linear_model import LogisticRegression\n",
    "from sklearn.neighbors import KNeighborsClassifier\n",
    "from sklearn.ensemble import RandomForestClassifier\n",
    "from xgboost import XGBClassifier\n",
    "from sklearn.neural_network import MLPClassifier\n",
    "\n",
    "# model selection\n",
    "from sklearn.model_selection import PredefinedSplit\n",
    "from sklearn.model_selection import GridSearchCV, RandomizedSearchCV\n",
    "\n",
    "# model evaluation\n",
    "from sklearn.metrics import log_loss, brier_score_loss\n",
    "from sklearn.metrics import classification_report \n",
    "from sklearn.metrics import roc_curve, roc_auc_score, precision_recall_curve, average_precision_score \n",
    "# from sklearn.metrics import precision_score, recall_score\n",
    "# -------------------------------------\n",
    "\n",
    "# imbalanced-learn\n",
    "from imblearn.pipeline import Pipeline # if using imblearn's sampling we must use this over sklearn's Pipeline \n",
    "from imblearn.under_sampling import RandomUnderSampler\n",
    "# from imblearn.over_sampling import SMOTE, RandomOverSampler # oversampling\n",
    "# from imblearn.under_sampling import EditedNearestNeighbours, TomekLinks, NearMiss, RandomUnderSampler # undersampling\n",
    "\n",
    "import warnings  \n",
    "warnings.filterwarnings('ignore')\n",
    "\n",
    "def seed_everything(seed = 42):\n",
    "    random.seed(seed)\n",
    "    np.random.seed(seed)\n",
    "    os.environ['PYTHONHASHSEED'] = str(seed)\n",
    "    \n",
    "seed_everything()"
   ]
  },
  {
   "cell_type": "code",
   "execution_count": 5,
   "metadata": {},
   "outputs": [
    {
     "data": {
      "text/plain": [
       "((16260, 62), (4001, 62), (89784, 62))"
      ]
     },
     "execution_count": 5,
     "metadata": {},
     "output_type": "execute_result"
    }
   ],
   "source": [
    "df_train = pd.read_csv(\"train1.csv\")\n",
    "df_val = pd.read_csv(\"val1.csv\")\n",
    "df_test = pd.read_csv(\"test1.csv\")\n",
    "df_train.shape, df_val.shape, df_test.shape"
   ]
  },
  {
   "cell_type": "code",
   "execution_count": 3,
   "metadata": {},
   "outputs": [
    {
     "data": {
      "text/html": [
       "<div>\n",
       "<style scoped>\n",
       "    .dataframe tbody tr th:only-of-type {\n",
       "        vertical-align: middle;\n",
       "    }\n",
       "\n",
       "    .dataframe tbody tr th {\n",
       "        vertical-align: top;\n",
       "    }\n",
       "\n",
       "    .dataframe thead th {\n",
       "        text-align: right;\n",
       "    }\n",
       "</style>\n",
       "<table border=\"1\" class=\"dataframe\">\n",
       "  <thead>\n",
       "    <tr style=\"text-align: right;\">\n",
       "      <th></th>\n",
       "      <th>loan_amnt</th>\n",
       "      <th>emp_length</th>\n",
       "      <th>home_ownership</th>\n",
       "      <th>annual_inc</th>\n",
       "      <th>issue_d</th>\n",
       "      <th>loan_status</th>\n",
       "      <th>purpose</th>\n",
       "      <th>zip_code</th>\n",
       "      <th>addr_state</th>\n",
       "      <th>dti</th>\n",
       "      <th>...</th>\n",
       "      <th>num_tl_90g_dpd_24m</th>\n",
       "      <th>num_tl_op_past_12m</th>\n",
       "      <th>pct_tl_nvr_dlq</th>\n",
       "      <th>percent_bc_gt_75</th>\n",
       "      <th>pub_rec_bankruptcies</th>\n",
       "      <th>tot_hi_cred_lim</th>\n",
       "      <th>total_bal_ex_mort</th>\n",
       "      <th>total_bc_limit</th>\n",
       "      <th>total_il_high_credit_limit</th>\n",
       "      <th>profit</th>\n",
       "    </tr>\n",
       "  </thead>\n",
       "  <tbody>\n",
       "    <tr>\n",
       "      <th>0</th>\n",
       "      <td>5300.0</td>\n",
       "      <td>&lt; 1 year</td>\n",
       "      <td>RENT</td>\n",
       "      <td>34750.0</td>\n",
       "      <td>2012-12-01</td>\n",
       "      <td>Fully Paid</td>\n",
       "      <td>credit_card</td>\n",
       "      <td>959xx</td>\n",
       "      <td>CA</td>\n",
       "      <td>12.47</td>\n",
       "      <td>...</td>\n",
       "      <td>0.0</td>\n",
       "      <td>0.0</td>\n",
       "      <td>100.0</td>\n",
       "      <td>100.0</td>\n",
       "      <td>0.0</td>\n",
       "      <td>15900.0</td>\n",
       "      <td>12283.0</td>\n",
       "      <td>12100.0</td>\n",
       "      <td>0.0</td>\n",
       "      <td>1575.849997</td>\n",
       "    </tr>\n",
       "    <tr>\n",
       "      <th>1</th>\n",
       "      <td>9000.0</td>\n",
       "      <td>2 years</td>\n",
       "      <td>RENT</td>\n",
       "      <td>60000.0</td>\n",
       "      <td>2012-09-01</td>\n",
       "      <td>Fully Paid</td>\n",
       "      <td>credit_card</td>\n",
       "      <td>986xx</td>\n",
       "      <td>WA</td>\n",
       "      <td>22.44</td>\n",
       "      <td>...</td>\n",
       "      <td>0.0</td>\n",
       "      <td>5.0</td>\n",
       "      <td>97.0</td>\n",
       "      <td>50.0</td>\n",
       "      <td>0.0</td>\n",
       "      <td>94311.0</td>\n",
       "      <td>71192.0</td>\n",
       "      <td>8000.0</td>\n",
       "      <td>72511.0</td>\n",
       "      <td>307.923808</td>\n",
       "    </tr>\n",
       "    <tr>\n",
       "      <th>2</th>\n",
       "      <td>12000.0</td>\n",
       "      <td>10+ years</td>\n",
       "      <td>RENT</td>\n",
       "      <td>95000.0</td>\n",
       "      <td>2012-10-01</td>\n",
       "      <td>Fully Paid</td>\n",
       "      <td>debt_consolidation</td>\n",
       "      <td>900xx</td>\n",
       "      <td>CA</td>\n",
       "      <td>16.12</td>\n",
       "      <td>...</td>\n",
       "      <td>0.0</td>\n",
       "      <td>1.0</td>\n",
       "      <td>100.0</td>\n",
       "      <td>33.3</td>\n",
       "      <td>0.0</td>\n",
       "      <td>79780.0</td>\n",
       "      <td>47431.0</td>\n",
       "      <td>29100.0</td>\n",
       "      <td>44180.0</td>\n",
       "      <td>262.697370</td>\n",
       "    </tr>\n",
       "    <tr>\n",
       "      <th>3</th>\n",
       "      <td>5500.0</td>\n",
       "      <td>8 years</td>\n",
       "      <td>RENT</td>\n",
       "      <td>20000.0</td>\n",
       "      <td>2012-11-01</td>\n",
       "      <td>Fully Paid</td>\n",
       "      <td>medical</td>\n",
       "      <td>734xx</td>\n",
       "      <td>OK</td>\n",
       "      <td>27.00</td>\n",
       "      <td>...</td>\n",
       "      <td>0.0</td>\n",
       "      <td>7.0</td>\n",
       "      <td>100.0</td>\n",
       "      <td>75.0</td>\n",
       "      <td>0.0</td>\n",
       "      <td>20530.0</td>\n",
       "      <td>7069.0</td>\n",
       "      <td>7300.0</td>\n",
       "      <td>6430.0</td>\n",
       "      <td>1298.946425</td>\n",
       "    </tr>\n",
       "    <tr>\n",
       "      <th>4</th>\n",
       "      <td>6000.0</td>\n",
       "      <td>2 years</td>\n",
       "      <td>RENT</td>\n",
       "      <td>110000.0</td>\n",
       "      <td>2012-11-01</td>\n",
       "      <td>Charged Off</td>\n",
       "      <td>credit_card</td>\n",
       "      <td>346xx</td>\n",
       "      <td>FL</td>\n",
       "      <td>25.07</td>\n",
       "      <td>...</td>\n",
       "      <td>1.0</td>\n",
       "      <td>0.0</td>\n",
       "      <td>88.0</td>\n",
       "      <td>100.0</td>\n",
       "      <td>0.0</td>\n",
       "      <td>100804.0</td>\n",
       "      <td>65137.0</td>\n",
       "      <td>28800.0</td>\n",
       "      <td>66504.0</td>\n",
       "      <td>-3519.260000</td>\n",
       "    </tr>\n",
       "  </tbody>\n",
       "</table>\n",
       "<p>5 rows × 62 columns</p>\n",
       "</div>"
      ],
      "text/plain": [
       "   loan_amnt emp_length home_ownership  annual_inc     issue_d  loan_status  \\\n",
       "0     5300.0   < 1 year           RENT     34750.0  2012-12-01   Fully Paid   \n",
       "1     9000.0    2 years           RENT     60000.0  2012-09-01   Fully Paid   \n",
       "2    12000.0  10+ years           RENT     95000.0  2012-10-01   Fully Paid   \n",
       "3     5500.0    8 years           RENT     20000.0  2012-11-01   Fully Paid   \n",
       "4     6000.0    2 years           RENT    110000.0  2012-11-01  Charged Off   \n",
       "\n",
       "              purpose zip_code addr_state    dti  ...  num_tl_90g_dpd_24m  \\\n",
       "0         credit_card    959xx         CA  12.47  ...                 0.0   \n",
       "1         credit_card    986xx         WA  22.44  ...                 0.0   \n",
       "2  debt_consolidation    900xx         CA  16.12  ...                 0.0   \n",
       "3             medical    734xx         OK  27.00  ...                 0.0   \n",
       "4         credit_card    346xx         FL  25.07  ...                 1.0   \n",
       "\n",
       "  num_tl_op_past_12m  pct_tl_nvr_dlq  percent_bc_gt_75  pub_rec_bankruptcies  \\\n",
       "0                0.0           100.0             100.0                   0.0   \n",
       "1                5.0            97.0              50.0                   0.0   \n",
       "2                1.0           100.0              33.3                   0.0   \n",
       "3                7.0           100.0              75.0                   0.0   \n",
       "4                0.0            88.0             100.0                   0.0   \n",
       "\n",
       "   tot_hi_cred_lim  total_bal_ex_mort  total_bc_limit  \\\n",
       "0          15900.0            12283.0         12100.0   \n",
       "1          94311.0            71192.0          8000.0   \n",
       "2          79780.0            47431.0         29100.0   \n",
       "3          20530.0             7069.0          7300.0   \n",
       "4         100804.0            65137.0         28800.0   \n",
       "\n",
       "   total_il_high_credit_limit       profit  \n",
       "0                         0.0  1575.849997  \n",
       "1                     72511.0   307.923808  \n",
       "2                     44180.0   262.697370  \n",
       "3                      6430.0  1298.946425  \n",
       "4                     66504.0 -3519.260000  \n",
       "\n",
       "[5 rows x 62 columns]"
      ]
     },
     "execution_count": 3,
     "metadata": {},
     "output_type": "execute_result"
    }
   ],
   "source": [
    "df_train.head()"
   ]
  },
  {
   "cell_type": "code",
   "execution_count": 4,
   "metadata": {},
   "outputs": [],
   "source": [
    "X_train, y_train, profit_train = df_train.drop([\"loan_status\", \"profit\"], axis=1), df_train[\"loan_status\"], df_train[\"profit\"]\n",
    "\n",
    "# encode loan status\n",
    "y_train = y_train.replace({\"Charged Off\":1, \"Fully Paid\":0})"
   ]
  },
  {
   "cell_type": "markdown",
   "metadata": {},
   "source": [
    "## Preprocessing"
   ]
  },
  {
   "cell_type": "markdown",
   "metadata": {},
   "source": [
    "### Missing values (a quick look)\n",
    "We'll do imputation later on."
   ]
  },
  {
   "cell_type": "code",
   "execution_count": 6,
   "metadata": {},
   "outputs": [
    {
     "name": "stdout",
     "output_type": "stream",
     "text": [
      "Columns without missing values: 25\n",
      "Columns with missing values: 35\n"
     ]
    },
    {
     "data": {
      "text/plain": [
       "mths_since_last_record            0.974600\n",
       "mths_since_last_major_derog       0.788007\n",
       "mths_since_recent_bc_dlq          0.736470\n",
       "mths_since_recent_revol_delinq    0.652829\n",
       "mths_since_last_delinq            0.509041\n",
       "mths_since_recent_inq             0.129951\n",
       "mo_sin_old_il_acct                0.054428\n",
       "emp_length                        0.043419\n",
       "bc_util                           0.010394\n",
       "bc_open_to_buy                    0.009779\n",
       "percent_bc_gt_75                  0.009779\n",
       "mths_since_recent_bc              0.008241\n",
       "mo_sin_old_rev_tl_op              0.003075\n",
       "mo_sin_rcnt_rev_tl_op             0.003075\n",
       "total_rev_hi_lim                  0.003014\n",
       "num_accts_ever_120_pd             0.003014\n",
       "tot_cur_bal                       0.003014\n",
       "mo_sin_rcnt_tl                    0.003014\n",
       "tot_coll_amt                      0.003014\n",
       "avg_cur_bal                       0.003014\n",
       "total_il_high_credit_limit        0.003014\n",
       "num_actv_bc_tl                    0.003014\n",
       "num_tl_30dpd                      0.003014\n",
       "tot_hi_cred_lim                   0.003014\n",
       "num_bc_tl                         0.003014\n",
       "num_actv_rev_tl                   0.003014\n",
       "num_il_tl                         0.003014\n",
       "num_op_rev_tl                     0.003014\n",
       "num_rev_accts                     0.003014\n",
       "num_rev_tl_bal_gt_0               0.003014\n",
       "pct_tl_nvr_dlq                    0.003014\n",
       "num_tl_op_past_12m                0.003014\n",
       "num_tl_120dpd_2m                  0.003014\n",
       "num_tl_90g_dpd_24m                0.003014\n",
       "revol_util                        0.000677\n",
       "dtype: float64"
      ]
     },
     "execution_count": 6,
     "metadata": {},
     "output_type": "execute_result"
    }
   ],
   "source": [
    "missing = X_train.isna().mean().sort_values(ascending=False)\n",
    "print(\"Columns without missing values:\", missing[missing==0].shape[0])\n",
    "print(\"Columns with missing values:\", missing[missing>0].shape[0])\n",
    "missing[missing>0]"
   ]
  },
  {
   "cell_type": "markdown",
   "metadata": {},
   "source": [
    "### Categorical columns"
   ]
  },
  {
   "cell_type": "code",
   "execution_count": 4,
   "metadata": {},
   "outputs": [],
   "source": [
    "obj_cols = X_train.columns[X_train.dtypes==\"object\"]"
   ]
  },
  {
   "cell_type": "code",
   "execution_count": 208,
   "metadata": {
    "scrolled": true
   },
   "outputs": [
    {
     "data": {
      "text/html": [
       "<div>\n",
       "<style scoped>\n",
       "    .dataframe tbody tr th:only-of-type {\n",
       "        vertical-align: middle;\n",
       "    }\n",
       "\n",
       "    .dataframe tbody tr th {\n",
       "        vertical-align: top;\n",
       "    }\n",
       "\n",
       "    .dataframe thead th {\n",
       "        text-align: right;\n",
       "    }\n",
       "</style>\n",
       "<table border=\"1\" class=\"dataframe\">\n",
       "  <thead>\n",
       "    <tr style=\"text-align: right;\">\n",
       "      <th></th>\n",
       "      <th>emp_length</th>\n",
       "      <th>home_ownership</th>\n",
       "      <th>issue_d</th>\n",
       "      <th>purpose</th>\n",
       "      <th>zip_code</th>\n",
       "      <th>addr_state</th>\n",
       "      <th>earliest_cr_line</th>\n",
       "      <th>initial_list_status</th>\n",
       "    </tr>\n",
       "  </thead>\n",
       "  <tbody>\n",
       "    <tr>\n",
       "      <th>0</th>\n",
       "      <td>&lt; 1 year</td>\n",
       "      <td>RENT</td>\n",
       "      <td>2012-12-01</td>\n",
       "      <td>credit_card</td>\n",
       "      <td>959xx</td>\n",
       "      <td>CA</td>\n",
       "      <td>2004-05-01</td>\n",
       "      <td>w</td>\n",
       "    </tr>\n",
       "    <tr>\n",
       "      <th>1</th>\n",
       "      <td>2 years</td>\n",
       "      <td>RENT</td>\n",
       "      <td>2012-09-01</td>\n",
       "      <td>credit_card</td>\n",
       "      <td>986xx</td>\n",
       "      <td>WA</td>\n",
       "      <td>1999-09-01</td>\n",
       "      <td>f</td>\n",
       "    </tr>\n",
       "    <tr>\n",
       "      <th>2</th>\n",
       "      <td>10+ years</td>\n",
       "      <td>RENT</td>\n",
       "      <td>2012-10-01</td>\n",
       "      <td>debt_consolidation</td>\n",
       "      <td>900xx</td>\n",
       "      <td>CA</td>\n",
       "      <td>1996-12-01</td>\n",
       "      <td>f</td>\n",
       "    </tr>\n",
       "    <tr>\n",
       "      <th>3</th>\n",
       "      <td>8 years</td>\n",
       "      <td>RENT</td>\n",
       "      <td>2012-11-01</td>\n",
       "      <td>medical</td>\n",
       "      <td>734xx</td>\n",
       "      <td>OK</td>\n",
       "      <td>2005-01-01</td>\n",
       "      <td>w</td>\n",
       "    </tr>\n",
       "    <tr>\n",
       "      <th>4</th>\n",
       "      <td>2 years</td>\n",
       "      <td>RENT</td>\n",
       "      <td>2012-11-01</td>\n",
       "      <td>credit_card</td>\n",
       "      <td>346xx</td>\n",
       "      <td>FL</td>\n",
       "      <td>1998-05-01</td>\n",
       "      <td>f</td>\n",
       "    </tr>\n",
       "  </tbody>\n",
       "</table>\n",
       "</div>"
      ],
      "text/plain": [
       "  emp_length home_ownership     issue_d             purpose zip_code  \\\n",
       "0   < 1 year           RENT  2012-12-01         credit_card    959xx   \n",
       "1    2 years           RENT  2012-09-01         credit_card    986xx   \n",
       "2  10+ years           RENT  2012-10-01  debt_consolidation    900xx   \n",
       "3    8 years           RENT  2012-11-01             medical    734xx   \n",
       "4    2 years           RENT  2012-11-01         credit_card    346xx   \n",
       "\n",
       "  addr_state earliest_cr_line initial_list_status  \n",
       "0         CA       2004-05-01                   w  \n",
       "1         WA       1999-09-01                   f  \n",
       "2         CA       1996-12-01                   f  \n",
       "3         OK       2005-01-01                   w  \n",
       "4         FL       1998-05-01                   f  "
      ]
     },
     "execution_count": 208,
     "metadata": {},
     "output_type": "execute_result"
    }
   ],
   "source": [
    "X_train[obj_cols].head()"
   ]
  },
  {
   "cell_type": "code",
   "execution_count": 210,
   "metadata": {
    "scrolled": true
   },
   "outputs": [
    {
     "data": {
      "text/plain": [
       "emp_length              11\n",
       "home_ownership           5\n",
       "issue_d                  4\n",
       "purpose                 13\n",
       "zip_code               760\n",
       "addr_state              44\n",
       "earliest_cr_line       499\n",
       "initial_list_status      2\n",
       "dtype: int64"
      ]
     },
     "execution_count": 210,
     "metadata": {},
     "output_type": "execute_result"
    }
   ],
   "source": [
    "X_train[obj_cols].nunique()"
   ]
  },
  {
   "cell_type": "code",
   "execution_count": 211,
   "metadata": {},
   "outputs": [
    {
     "data": {
      "text/plain": [
       "emp_length    0.043419\n",
       "dtype: float64"
      ]
     },
     "execution_count": 211,
     "metadata": {},
     "output_type": "execute_result"
    }
   ],
   "source": [
    "missing_obj = missing[obj_cols]\n",
    "missing_obj[missing_obj > 0]"
   ]
  },
  {
   "cell_type": "markdown",
   "metadata": {},
   "source": [
    "- We will convert `emp_length` to an ordinal variable. \n",
    "- We will convert `issue_d` and `earliest_cr_line` to dates -- we will replace `issue_d` with the number of months since 2000-01-01 (an arbitrarily chosen reference point) and we will replace `earliest_cr_line` with the difference: `earliest_cr_line` - `issue_d`, in months. If we expected seasonality to be important, we could record the month part of each date, but from our EDA we do not think this will help.\n",
    "- We will use target encoding for `zip_code` since it has high cardinality.\n",
    "- We will use one-hot encoding for `home_ownership`, `purpose`, `addr_state`, `initial_list_status`.\n",
    "\n",
    "- For imputation, we will impute `emp_length`, `issue_d`, `earliest_cr_line`, and `zip_code` using the median value after converting to numeric. For `home_ownership`, `purpose`, `addr_state`, and `initial_list_status` we will impute these with the mode."
   ]
  },
  {
   "cell_type": "code",
   "execution_count": 212,
   "metadata": {},
   "outputs": [],
   "source": [
    "# encode emp_length\n",
    "lookup = {'< 1 year': 0, '1 year': 1, '2 years': 2, '3 years': 3, '4 years': 4, '5 years': 5, \n",
    "          '6 years': 6, '7 years': 7, '8 years': 8, '9 years': 9, '10+ years':10}\n",
    "X_train[\"emp_length\"] = X_train[\"emp_length\"].replace(lookup)\n",
    "\n",
    "# issue date\n",
    "X_train[\"issue_d\"] = pd.to_datetime(X_train[\"issue_d\"])\n",
    "tmp = X_train[\"issue_d\"].values # keep a copy of the raw date for when we transform earliest credit line\n",
    "X_train[\"issue_d\"] = (X_train[\"issue_d\"]-datetime.datetime(2000,1,1)).astype('timedelta64[M]')\n",
    "\n",
    "# earliest credit line\n",
    "X_train[\"earliest_cr_line\"] = pd.to_datetime(X_train[\"earliest_cr_line\"])\n",
    "X_train[\"earliest_cr_line\"] = (tmp - X_train[\"earliest_cr_line\"]).astype('timedelta64[M]')\n",
    "\n",
    "# imputation for home_ownership, purpose, addr_state, and initial_list_status\n",
    "cat_cols = ['home_ownership', 'purpose', 'addr_state', 'initial_list_status']\n",
    "mode_imputer = SimpleImputer(strategy=\"most_frequent\")\n",
    "X_train[cat_cols] = mode_imputer.fit_transform(X_train[cat_cols])\n",
    "\n",
    "# encode zip code\n",
    "te_zip = TargetEncoder()\n",
    "X_train[\"zip_code\"] = te_zip.fit_transform(X_train[\"zip_code\"], y_train)"
   ]
  },
  {
   "cell_type": "code",
   "execution_count": 213,
   "metadata": {
    "scrolled": true
   },
   "outputs": [
    {
     "data": {
      "text/plain": [
       "emp_length             706\n",
       "home_ownership           0\n",
       "issue_d                  0\n",
       "purpose                  0\n",
       "zip_code                 0\n",
       "addr_state               0\n",
       "earliest_cr_line         0\n",
       "initial_list_status      0\n",
       "dtype: int64"
      ]
     },
     "execution_count": 213,
     "metadata": {},
     "output_type": "execute_result"
    }
   ],
   "source": [
    "X_train[obj_cols].isna().sum()"
   ]
  },
  {
   "cell_type": "markdown",
   "metadata": {},
   "source": [
    "Let's define a pipeline for our categorical preprocessing."
   ]
  },
  {
   "cell_type": "code",
   "execution_count": 6,
   "metadata": {},
   "outputs": [],
   "source": [
    "class CategoricalPreprocessing(BaseEstimator, TransformerMixin):\n",
    "    def __init__(self):\n",
    "        self.mode_imputer = SimpleImputer(strategy=\"most_frequent\")\n",
    "        self.cat_cols = ['home_ownership', 'purpose', 'addr_state', 'initial_list_status']\n",
    "        self.target_encoder = TargetEncoder(handle_missing='return_nan', handle_unknown='return_nan')\n",
    "    \n",
    "    def fit(self, X, y=None):\n",
    "        self.mode_imputer.fit(X[self.cat_cols])\n",
    "        self.target_encoder.fit(X[\"zip_code\"], y)\n",
    "        return self\n",
    "    \n",
    "    def transform(self, X, y=None):\n",
    "        Xc = X.copy()\n",
    "        \n",
    "       # encode emp_length\n",
    "        lookup = {'< 1 year': 0, '1 year': 1, '2 years': 2, '3 years': 3, '4 years': 4, '5 years': 5, \n",
    "                  '6 years': 6, '7 years': 7, '8 years': 8, '9 years': 9, '10+ years':10}\n",
    "        Xc[\"emp_length\"] = Xc[\"emp_length\"].replace(lookup)\n",
    "\n",
    "        # issue date\n",
    "        Xc[\"issue_d\"] = pd.to_datetime(Xc[\"issue_d\"])\n",
    "        tmp = Xc[\"issue_d\"].values # keep a copy of the raw date for when we transform earliest credit line\n",
    "        Xc[\"issue_d\"] = (Xc[\"issue_d\"]-datetime.datetime(2000,1,1)).astype('timedelta64[M]')\n",
    "\n",
    "        # earliest credit line\n",
    "        Xc[\"earliest_cr_line\"] = pd.to_datetime(Xc[\"earliest_cr_line\"])\n",
    "        Xc[\"earliest_cr_line\"] = (tmp - Xc[\"earliest_cr_line\"]).astype('timedelta64[M]')\n",
    "        \n",
    "        # imputation for home_ownership, purpose, addr_state, and initial_list_status\n",
    "        Xc[self.cat_cols] = self.mode_imputer.transform(Xc[self.cat_cols])\n",
    "        \n",
    "        # encode zip code\n",
    "        Xc[\"zip_code\"] = self.target_encoder.transform(Xc[\"zip_code\"])\n",
    "        \n",
    "        return Xc\n",
    "    \n",
    "    def fit_transform(self, X, y=None):\n",
    "        return self.fit(X, y).transform(X)"
   ]
  },
  {
   "cell_type": "markdown",
   "metadata": {},
   "source": [
    "### Numeric columns"
   ]
  },
  {
   "cell_type": "code",
   "execution_count": 8,
   "metadata": {},
   "outputs": [
    {
     "data": {
      "text/plain": [
       "loan_amnt                         float64\n",
       "emp_length                        float64\n",
       "annual_inc                        float64\n",
       "issue_d                           float64\n",
       "zip_code                          float64\n",
       "dti                               float64\n",
       "delinq_2yrs                       float64\n",
       "earliest_cr_line                  float64\n",
       "fico_range_low                    float64\n",
       "fico_range_high                   float64\n",
       "inq_last_6mths                    float64\n",
       "mths_since_last_delinq            float64\n",
       "mths_since_last_record            float64\n",
       "open_acc                          float64\n",
       "pub_rec                           float64\n",
       "revol_bal                         float64\n",
       "revol_util                        float64\n",
       "total_acc                         float64\n",
       "mths_since_last_major_derog       float64\n",
       "tot_coll_amt                      float64\n",
       "tot_cur_bal                       float64\n",
       "total_rev_hi_lim                  float64\n",
       "acc_open_past_24mths              float64\n",
       "avg_cur_bal                       float64\n",
       "bc_open_to_buy                    float64\n",
       "bc_util                           float64\n",
       "mo_sin_old_il_acct                float64\n",
       "mo_sin_old_rev_tl_op              float64\n",
       "mo_sin_rcnt_rev_tl_op             float64\n",
       "mo_sin_rcnt_tl                    float64\n",
       "mort_acc                          float64\n",
       "mths_since_recent_bc              float64\n",
       "mths_since_recent_bc_dlq          float64\n",
       "mths_since_recent_inq             float64\n",
       "mths_since_recent_revol_delinq    float64\n",
       "num_accts_ever_120_pd             float64\n",
       "num_actv_bc_tl                    float64\n",
       "num_actv_rev_tl                   float64\n",
       "num_bc_sats                       float64\n",
       "num_bc_tl                         float64\n",
       "num_il_tl                         float64\n",
       "num_op_rev_tl                     float64\n",
       "num_rev_accts                     float64\n",
       "num_rev_tl_bal_gt_0               float64\n",
       "num_sats                          float64\n",
       "num_tl_120dpd_2m                  float64\n",
       "num_tl_30dpd                      float64\n",
       "num_tl_90g_dpd_24m                float64\n",
       "num_tl_op_past_12m                float64\n",
       "pct_tl_nvr_dlq                    float64\n",
       "percent_bc_gt_75                  float64\n",
       "pub_rec_bankruptcies              float64\n",
       "tot_hi_cred_lim                   float64\n",
       "total_bal_ex_mort                 float64\n",
       "total_bc_limit                    float64\n",
       "total_il_high_credit_limit        float64\n",
       "dtype: object"
      ]
     },
     "execution_count": 8,
     "metadata": {},
     "output_type": "execute_result"
    }
   ],
   "source": [
    "num_cols = X_train.columns[X_train.dtypes!=\"object\"]\n",
    "X_train[num_cols].dtypes"
   ]
  },
  {
   "cell_type": "markdown",
   "metadata": {},
   "source": [
    "For columns prefixed with `mths_since` or `mo_sin` (representing months since some event occurred -- or \"NA\" if the event has never occurred), we are going to use a method applied in similar projects [[1](https://towardsdatascience.com/intelligent-loan-selection-for-peer-to-peer-lending-575dfa2573cb#a0a0),[2](https://www.kaggle.com/tywmick/building-a-neural-network-to-predict-loan-risk/notebook)] which is to take the reciprocol. This allows us to give a numeric value to the \"NA\" entries; we just treat these as $1/\\infty = 0$. If the value is originally 0, then to prevent division by zero we'll just call this 1.\n",
    "\n",
    "An alternative solution would be to treat \"NA\" as whatever the maximum is in the data; however, then we cannot distinguish \"perfect records\" from records with delinquencies long ago. We could also treat these columns as categorical and bin non-null values -- but then we lose the ordering."
   ]
  },
  {
   "cell_type": "code",
   "execution_count": 215,
   "metadata": {
    "scrolled": false
   },
   "outputs": [
    {
     "data": {
      "text/html": [
       "<div>\n",
       "<style scoped>\n",
       "    .dataframe tbody tr th:only-of-type {\n",
       "        vertical-align: middle;\n",
       "    }\n",
       "\n",
       "    .dataframe tbody tr th {\n",
       "        vertical-align: top;\n",
       "    }\n",
       "\n",
       "    .dataframe thead th {\n",
       "        text-align: right;\n",
       "    }\n",
       "</style>\n",
       "<table border=\"1\" class=\"dataframe\">\n",
       "  <thead>\n",
       "    <tr style=\"text-align: right;\">\n",
       "      <th></th>\n",
       "      <th>mths_since_last_delinq</th>\n",
       "      <th>mths_since_last_record</th>\n",
       "      <th>mths_since_last_major_derog</th>\n",
       "      <th>mo_sin_old_il_acct</th>\n",
       "      <th>mo_sin_old_rev_tl_op</th>\n",
       "      <th>mo_sin_rcnt_rev_tl_op</th>\n",
       "      <th>mo_sin_rcnt_tl</th>\n",
       "      <th>mths_since_recent_bc</th>\n",
       "      <th>mths_since_recent_bc_dlq</th>\n",
       "      <th>mths_since_recent_inq</th>\n",
       "      <th>mths_since_recent_revol_delinq</th>\n",
       "    </tr>\n",
       "  </thead>\n",
       "  <tbody>\n",
       "    <tr>\n",
       "      <th>0</th>\n",
       "      <td>0.000000</td>\n",
       "      <td>0.0</td>\n",
       "      <td>0.000000</td>\n",
       "      <td>0.000000</td>\n",
       "      <td>0.009524</td>\n",
       "      <td>0.055556</td>\n",
       "      <td>0.055556</td>\n",
       "      <td>0.055556</td>\n",
       "      <td>0.000000</td>\n",
       "      <td>0.055556</td>\n",
       "      <td>0.000000</td>\n",
       "    </tr>\n",
       "    <tr>\n",
       "      <th>1</th>\n",
       "      <td>0.083333</td>\n",
       "      <td>0.0</td>\n",
       "      <td>0.000000</td>\n",
       "      <td>0.006369</td>\n",
       "      <td>0.006711</td>\n",
       "      <td>0.200000</td>\n",
       "      <td>0.200000</td>\n",
       "      <td>0.043478</td>\n",
       "      <td>0.000000</td>\n",
       "      <td>0.166667</td>\n",
       "      <td>0.000000</td>\n",
       "    </tr>\n",
       "    <tr>\n",
       "      <th>2</th>\n",
       "      <td>0.000000</td>\n",
       "      <td>0.0</td>\n",
       "      <td>0.000000</td>\n",
       "      <td>0.005208</td>\n",
       "      <td>0.009901</td>\n",
       "      <td>0.013333</td>\n",
       "      <td>0.111111</td>\n",
       "      <td>0.012195</td>\n",
       "      <td>0.000000</td>\n",
       "      <td>0.000000</td>\n",
       "      <td>0.000000</td>\n",
       "    </tr>\n",
       "    <tr>\n",
       "      <th>3</th>\n",
       "      <td>0.000000</td>\n",
       "      <td>0.0</td>\n",
       "      <td>0.000000</td>\n",
       "      <td>0.029412</td>\n",
       "      <td>0.010526</td>\n",
       "      <td>1.000000</td>\n",
       "      <td>1.000000</td>\n",
       "      <td>0.500000</td>\n",
       "      <td>0.000000</td>\n",
       "      <td>1.000000</td>\n",
       "      <td>0.000000</td>\n",
       "    </tr>\n",
       "    <tr>\n",
       "      <th>4</th>\n",
       "      <td>0.090909</td>\n",
       "      <td>0.0</td>\n",
       "      <td>0.090909</td>\n",
       "      <td>0.005650</td>\n",
       "      <td>0.007042</td>\n",
       "      <td>0.024390</td>\n",
       "      <td>0.045455</td>\n",
       "      <td>0.024390</td>\n",
       "      <td>0.071429</td>\n",
       "      <td>0.071429</td>\n",
       "      <td>0.071429</td>\n",
       "    </tr>\n",
       "    <tr>\n",
       "      <th>...</th>\n",
       "      <td>...</td>\n",
       "      <td>...</td>\n",
       "      <td>...</td>\n",
       "      <td>...</td>\n",
       "      <td>...</td>\n",
       "      <td>...</td>\n",
       "      <td>...</td>\n",
       "      <td>...</td>\n",
       "      <td>...</td>\n",
       "      <td>...</td>\n",
       "      <td>...</td>\n",
       "    </tr>\n",
       "    <tr>\n",
       "      <th>16255</th>\n",
       "      <td>0.000000</td>\n",
       "      <td>0.0</td>\n",
       "      <td>0.000000</td>\n",
       "      <td>0.008333</td>\n",
       "      <td>0.006667</td>\n",
       "      <td>1.000000</td>\n",
       "      <td>1.000000</td>\n",
       "      <td>1.000000</td>\n",
       "      <td>0.000000</td>\n",
       "      <td>1.000000</td>\n",
       "      <td>0.000000</td>\n",
       "    </tr>\n",
       "    <tr>\n",
       "      <th>16256</th>\n",
       "      <td>0.012987</td>\n",
       "      <td>0.0</td>\n",
       "      <td>0.000000</td>\n",
       "      <td>0.000000</td>\n",
       "      <td>0.005952</td>\n",
       "      <td>0.090909</td>\n",
       "      <td>0.090909</td>\n",
       "      <td>0.013889</td>\n",
       "      <td>0.012987</td>\n",
       "      <td>0.000000</td>\n",
       "      <td>0.012987</td>\n",
       "    </tr>\n",
       "    <tr>\n",
       "      <th>16257</th>\n",
       "      <td>0.166667</td>\n",
       "      <td>0.0</td>\n",
       "      <td>0.000000</td>\n",
       "      <td>0.142857</td>\n",
       "      <td>0.005181</td>\n",
       "      <td>0.083333</td>\n",
       "      <td>0.142857</td>\n",
       "      <td>0.035714</td>\n",
       "      <td>0.166667</td>\n",
       "      <td>0.142857</td>\n",
       "      <td>0.166667</td>\n",
       "    </tr>\n",
       "    <tr>\n",
       "      <th>16258</th>\n",
       "      <td>0.100000</td>\n",
       "      <td>0.0</td>\n",
       "      <td>0.000000</td>\n",
       "      <td>0.013699</td>\n",
       "      <td>0.007407</td>\n",
       "      <td>0.018519</td>\n",
       "      <td>0.125000</td>\n",
       "      <td>0.016667</td>\n",
       "      <td>0.000000</td>\n",
       "      <td>0.125000</td>\n",
       "      <td>0.000000</td>\n",
       "    </tr>\n",
       "    <tr>\n",
       "      <th>16259</th>\n",
       "      <td>0.027027</td>\n",
       "      <td>0.0</td>\n",
       "      <td>0.000000</td>\n",
       "      <td>0.012658</td>\n",
       "      <td>0.009174</td>\n",
       "      <td>0.200000</td>\n",
       "      <td>0.200000</td>\n",
       "      <td>0.200000</td>\n",
       "      <td>0.000000</td>\n",
       "      <td>1.000000</td>\n",
       "      <td>0.000000</td>\n",
       "    </tr>\n",
       "  </tbody>\n",
       "</table>\n",
       "<p>16260 rows × 11 columns</p>\n",
       "</div>"
      ],
      "text/plain": [
       "       mths_since_last_delinq  mths_since_last_record  \\\n",
       "0                    0.000000                     0.0   \n",
       "1                    0.083333                     0.0   \n",
       "2                    0.000000                     0.0   \n",
       "3                    0.000000                     0.0   \n",
       "4                    0.090909                     0.0   \n",
       "...                       ...                     ...   \n",
       "16255                0.000000                     0.0   \n",
       "16256                0.012987                     0.0   \n",
       "16257                0.166667                     0.0   \n",
       "16258                0.100000                     0.0   \n",
       "16259                0.027027                     0.0   \n",
       "\n",
       "       mths_since_last_major_derog  mo_sin_old_il_acct  mo_sin_old_rev_tl_op  \\\n",
       "0                         0.000000            0.000000              0.009524   \n",
       "1                         0.000000            0.006369              0.006711   \n",
       "2                         0.000000            0.005208              0.009901   \n",
       "3                         0.000000            0.029412              0.010526   \n",
       "4                         0.090909            0.005650              0.007042   \n",
       "...                            ...                 ...                   ...   \n",
       "16255                     0.000000            0.008333              0.006667   \n",
       "16256                     0.000000            0.000000              0.005952   \n",
       "16257                     0.000000            0.142857              0.005181   \n",
       "16258                     0.000000            0.013699              0.007407   \n",
       "16259                     0.000000            0.012658              0.009174   \n",
       "\n",
       "       mo_sin_rcnt_rev_tl_op  mo_sin_rcnt_tl  mths_since_recent_bc  \\\n",
       "0                   0.055556        0.055556              0.055556   \n",
       "1                   0.200000        0.200000              0.043478   \n",
       "2                   0.013333        0.111111              0.012195   \n",
       "3                   1.000000        1.000000              0.500000   \n",
       "4                   0.024390        0.045455              0.024390   \n",
       "...                      ...             ...                   ...   \n",
       "16255               1.000000        1.000000              1.000000   \n",
       "16256               0.090909        0.090909              0.013889   \n",
       "16257               0.083333        0.142857              0.035714   \n",
       "16258               0.018519        0.125000              0.016667   \n",
       "16259               0.200000        0.200000              0.200000   \n",
       "\n",
       "       mths_since_recent_bc_dlq  mths_since_recent_inq  \\\n",
       "0                      0.000000               0.055556   \n",
       "1                      0.000000               0.166667   \n",
       "2                      0.000000               0.000000   \n",
       "3                      0.000000               1.000000   \n",
       "4                      0.071429               0.071429   \n",
       "...                         ...                    ...   \n",
       "16255                  0.000000               1.000000   \n",
       "16256                  0.012987               0.000000   \n",
       "16257                  0.166667               0.142857   \n",
       "16258                  0.000000               0.125000   \n",
       "16259                  0.000000               1.000000   \n",
       "\n",
       "       mths_since_recent_revol_delinq  \n",
       "0                            0.000000  \n",
       "1                            0.000000  \n",
       "2                            0.000000  \n",
       "3                            0.000000  \n",
       "4                            0.071429  \n",
       "...                               ...  \n",
       "16255                        0.000000  \n",
       "16256                        0.012987  \n",
       "16257                        0.166667  \n",
       "16258                        0.000000  \n",
       "16259                        0.000000  \n",
       "\n",
       "[16260 rows x 11 columns]"
      ]
     },
     "execution_count": 215,
     "metadata": {},
     "output_type": "execute_result"
    }
   ],
   "source": [
    "mo_sin = [x for x in X_train.columns if \"mo_sin\" in x or \"mths_since\" in x]\n",
    "\n",
    "for col in mo_sin:\n",
    "    X_train[col] = X_train[col].apply(lambda x: 0 if np.isnan(x) else 1/max(x,1))\n",
    "\n",
    "X_train[mo_sin]"
   ]
  },
  {
   "cell_type": "code",
   "execution_count": 217,
   "metadata": {},
   "outputs": [
    {
     "data": {
      "text/plain": [
       "mths_since_last_delinq            0\n",
       "mths_since_last_record            0\n",
       "mths_since_last_major_derog       0\n",
       "mo_sin_old_il_acct                0\n",
       "mo_sin_old_rev_tl_op              0\n",
       "mo_sin_rcnt_rev_tl_op             0\n",
       "mo_sin_rcnt_tl                    0\n",
       "mths_since_recent_bc              0\n",
       "mths_since_recent_bc_dlq          0\n",
       "mths_since_recent_inq             0\n",
       "mths_since_recent_revol_delinq    0\n",
       "dtype: int64"
      ]
     },
     "execution_count": 217,
     "metadata": {},
     "output_type": "execute_result"
    }
   ],
   "source": [
    "X_train[mo_sin].isna().sum()"
   ]
  },
  {
   "cell_type": "code",
   "execution_count": 218,
   "metadata": {},
   "outputs": [
    {
     "name": "stdout",
     "output_type": "stream",
     "text": [
      "['loan_amnt', 'emp_length', 'annual_inc', 'issue_d', 'zip_code', 'dti', 'delinq_2yrs', 'earliest_cr_line', 'fico_range_low', 'fico_range_high', 'inq_last_6mths', 'open_acc', 'pub_rec', 'revol_bal', 'revol_util', 'total_acc', 'tot_coll_amt', 'tot_cur_bal', 'total_rev_hi_lim', 'acc_open_past_24mths', 'avg_cur_bal', 'bc_open_to_buy', 'bc_util', 'mort_acc', 'num_accts_ever_120_pd', 'num_actv_bc_tl', 'num_actv_rev_tl', 'num_bc_sats', 'num_bc_tl', 'num_il_tl', 'num_op_rev_tl', 'num_rev_accts', 'num_rev_tl_bal_gt_0', 'num_sats', 'num_tl_120dpd_2m', 'num_tl_30dpd', 'num_tl_90g_dpd_24m', 'num_tl_op_past_12m', 'pct_tl_nvr_dlq', 'percent_bc_gt_75', 'pub_rec_bankruptcies', 'tot_hi_cred_lim', 'total_bal_ex_mort', 'total_bc_limit', 'total_il_high_credit_limit']\n"
     ]
    }
   ],
   "source": [
    "other_num_cols = [x for x in num_cols if x not in mo_sin]\n",
    "print(other_num_cols)"
   ]
  },
  {
   "cell_type": "code",
   "execution_count": 220,
   "metadata": {},
   "outputs": [
    {
     "data": {
      "text/plain": [
       "emp_length                    0.043419\n",
       "revol_util                    0.000677\n",
       "tot_coll_amt                  0.003014\n",
       "tot_cur_bal                   0.003014\n",
       "total_rev_hi_lim              0.003014\n",
       "avg_cur_bal                   0.003014\n",
       "bc_open_to_buy                0.009779\n",
       "bc_util                       0.010394\n",
       "num_accts_ever_120_pd         0.003014\n",
       "num_actv_bc_tl                0.003014\n",
       "num_actv_rev_tl               0.003014\n",
       "num_bc_tl                     0.003014\n",
       "num_il_tl                     0.003014\n",
       "num_op_rev_tl                 0.003014\n",
       "num_rev_accts                 0.003014\n",
       "num_rev_tl_bal_gt_0           0.003014\n",
       "num_tl_120dpd_2m              0.003014\n",
       "num_tl_30dpd                  0.003014\n",
       "num_tl_90g_dpd_24m            0.003014\n",
       "num_tl_op_past_12m            0.003014\n",
       "pct_tl_nvr_dlq                0.003014\n",
       "percent_bc_gt_75              0.009779\n",
       "tot_hi_cred_lim               0.003014\n",
       "total_il_high_credit_limit    0.003014\n",
       "dtype: float64"
      ]
     },
     "execution_count": 220,
     "metadata": {},
     "output_type": "execute_result"
    }
   ],
   "source": [
    "missing_other_num = missing[other_num_cols]\n",
    "missing_other_num[missing_other_num>0]"
   ]
  },
  {
   "cell_type": "markdown",
   "metadata": {},
   "source": [
    "For the rest of the numeric values, which mostly represent counts (e.g. number of accounts) or monetary values/totals (e.g. loant amount, annual income, total bankcard limit), we will use a simple median imputation because there are very few missing values."
   ]
  },
  {
   "cell_type": "code",
   "execution_count": 224,
   "metadata": {},
   "outputs": [],
   "source": [
    "impute_cols = missing_other_num[missing_other_num>0].index\n",
    "median_imputer = SimpleImputer(strategy=\"median\")\n",
    "X_train[impute_cols] = median_imputer.fit_transform(X_train[impute_cols])"
   ]
  },
  {
   "cell_type": "code",
   "execution_count": 226,
   "metadata": {},
   "outputs": [
    {
     "data": {
      "text/plain": [
       "loan_amnt                         0\n",
       "emp_length                        0\n",
       "home_ownership                    0\n",
       "annual_inc                        0\n",
       "issue_d                           0\n",
       "purpose                           0\n",
       "zip_code                          0\n",
       "addr_state                        0\n",
       "dti                               0\n",
       "delinq_2yrs                       0\n",
       "earliest_cr_line                  0\n",
       "fico_range_low                    0\n",
       "fico_range_high                   0\n",
       "inq_last_6mths                    0\n",
       "mths_since_last_delinq            0\n",
       "mths_since_last_record            0\n",
       "open_acc                          0\n",
       "pub_rec                           0\n",
       "revol_bal                         0\n",
       "revol_util                        0\n",
       "total_acc                         0\n",
       "initial_list_status               0\n",
       "mths_since_last_major_derog       0\n",
       "tot_coll_amt                      0\n",
       "tot_cur_bal                       0\n",
       "total_rev_hi_lim                  0\n",
       "acc_open_past_24mths              0\n",
       "avg_cur_bal                       0\n",
       "bc_open_to_buy                    0\n",
       "bc_util                           0\n",
       "mo_sin_old_il_acct                0\n",
       "mo_sin_old_rev_tl_op              0\n",
       "mo_sin_rcnt_rev_tl_op             0\n",
       "mo_sin_rcnt_tl                    0\n",
       "mort_acc                          0\n",
       "mths_since_recent_bc              0\n",
       "mths_since_recent_bc_dlq          0\n",
       "mths_since_recent_inq             0\n",
       "mths_since_recent_revol_delinq    0\n",
       "num_accts_ever_120_pd             0\n",
       "num_actv_bc_tl                    0\n",
       "num_actv_rev_tl                   0\n",
       "num_bc_sats                       0\n",
       "num_bc_tl                         0\n",
       "num_il_tl                         0\n",
       "num_op_rev_tl                     0\n",
       "num_rev_accts                     0\n",
       "num_rev_tl_bal_gt_0               0\n",
       "num_sats                          0\n",
       "num_tl_120dpd_2m                  0\n",
       "num_tl_30dpd                      0\n",
       "num_tl_90g_dpd_24m                0\n",
       "num_tl_op_past_12m                0\n",
       "pct_tl_nvr_dlq                    0\n",
       "percent_bc_gt_75                  0\n",
       "pub_rec_bankruptcies              0\n",
       "tot_hi_cred_lim                   0\n",
       "total_bal_ex_mort                 0\n",
       "total_bc_limit                    0\n",
       "total_il_high_credit_limit        0\n",
       "dtype: int64"
      ]
     },
     "execution_count": 226,
     "metadata": {},
     "output_type": "execute_result"
    }
   ],
   "source": [
    "X_train.isna().sum()"
   ]
  },
  {
   "cell_type": "markdown",
   "metadata": {},
   "source": [
    "Let's define a pipeline for our numerical preprocessing."
   ]
  },
  {
   "cell_type": "code",
   "execution_count": 7,
   "metadata": {},
   "outputs": [],
   "source": [
    "class NumericalPreprocessing(BaseEstimator, TransformerMixin):\n",
    "    def __init__(self):\n",
    "        self.median_imputer = SimpleImputer(strategy=\"median\")\n",
    "    \n",
    "    def fit(self, X, y=None):\n",
    "        self.num_cols = X.columns[X.dtypes!=\"object\"]\n",
    "        self.mo_sin_cols = [x for x in X.columns if \"mo_sin\" in x or \"mths_since\" in x]\n",
    "        self.other_num_cols = [x for x in self.num_cols if x not in self.mo_sin_cols]\n",
    "        self.median_imputer.fit(X[self.other_num_cols])\n",
    "        return self\n",
    "    \n",
    "    def transform(self, X, y=None):\n",
    "        Xc = X.copy()\n",
    "        \n",
    "        for col in self.mo_sin_cols:\n",
    "            Xc[col] = Xc[col].apply(lambda x: 0 if np.isnan(x) else 1/max(x,1))\n",
    "            \n",
    "        Xc[self.other_num_cols] = self.median_imputer.transform(Xc[self.other_num_cols])\n",
    "        \n",
    "        return Xc\n",
    "    \n",
    "    def fit_transform(self, X, y=None):\n",
    "        return self.fit(X).transform(X)"
   ]
  },
  {
   "cell_type": "markdown",
   "metadata": {},
   "source": [
    "## Categorical encoding and numeric re-scaling\n",
    "Here we just instantiate them."
   ]
  },
  {
   "cell_type": "code",
   "execution_count": 534,
   "metadata": {},
   "outputs": [],
   "source": [
    "ohe = OneHotEncoder(handle_unknown='ignore')\n",
    "scaler = StandardScaler()"
   ]
  },
  {
   "cell_type": "markdown",
   "metadata": {},
   "source": [
    "## Feature selection\n",
    "Let's perform feature selection using \"filter\" methods (i.e. based on correlations & statistical tests between predictors and the target). We have three steps to consider:\n",
    "1. Remove variables which are highly correlated -- this generally helps models learn better\n",
    "2. Remove numerical variables which are not predictive\n",
    "3. Remove categorical variables which are not predictive"
   ]
  },
  {
   "cell_type": "markdown",
   "metadata": {},
   "source": [
    "#### Multicollinearity"
   ]
  },
  {
   "cell_type": "code",
   "execution_count": 508,
   "metadata": {
    "scrolled": true
   },
   "outputs": [],
   "source": [
    "# https://stackoverflow.com/a/49282823/7638741\n",
    "threshold=0.8\n",
    "X_corr = X_train.corr()\n",
    "X_not_correlated = ~(X_corr.mask(np.tril(np.ones([len(X_corr)]*2, dtype=bool))).abs() > threshold).any() \n",
    "un_corr_idx = X_not_correlated.loc[X_not_correlated[X_not_correlated.index]].index.values.tolist()\n",
    "\n",
    "cat_cols = X_train.columns[X_train.dtypes == \"object\"].values.tolist()\n",
    "X_train = X_train[un_corr_idx + cat_cols]"
   ]
  },
  {
   "cell_type": "markdown",
   "metadata": {},
   "source": [
    "#### Numeric variables"
   ]
  },
  {
   "cell_type": "code",
   "execution_count": 103,
   "metadata": {
    "scrolled": true
   },
   "outputs": [
    {
     "data": {
      "text/plain": [
       "array([[7.14285714e-02, 6.65000000e+02, 6.69000000e+02, ...,\n",
       "        1.00000000e+02, 1.59000000e+04, 1.21000000e+04],\n",
       "       [1.75000000e-01, 6.60000000e+02, 6.64000000e+02, ...,\n",
       "        5.00000000e+01, 9.43110000e+04, 8.00000000e+03],\n",
       "       [1.37566138e-01, 7.15000000e+02, 7.19000000e+02, ...,\n",
       "        3.33000000e+01, 7.97800000e+04, 2.91000000e+04],\n",
       "       ...,\n",
       "       [9.09108549e-02, 6.85000000e+02, 6.89000000e+02, ...,\n",
       "        2.00000000e+01, 3.54000000e+04, 1.94000000e+04],\n",
       "       [1.21052632e-01, 6.70000000e+02, 6.74000000e+02, ...,\n",
       "        6.67000000e+01, 5.05240000e+04, 1.47000000e+04],\n",
       "       [1.27659574e-01, 7.05000000e+02, 7.09000000e+02, ...,\n",
       "        4.00000000e+01, 4.46887000e+05, 1.83000000e+04]])"
      ]
     },
     "execution_count": 103,
     "metadata": {},
     "output_type": "execute_result"
    }
   ],
   "source": [
    "num_cols = X_train.columns[X_train.dtypes!=\"object\"]\n",
    "selector = SelectKBest(f_classif, k=10)\n",
    "selector.fit_transform(X_train[num_cols], y_train)"
   ]
  },
  {
   "cell_type": "code",
   "execution_count": 111,
   "metadata": {},
   "outputs": [
    {
     "data": {
      "text/plain": [
       "Index(['zip_code', 'fico_range_low', 'fico_range_high', 'total_rev_hi_lim',\n",
       "       'acc_open_past_24mths', 'bc_open_to_buy', 'num_tl_op_past_12m',\n",
       "       'percent_bc_gt_75', 'tot_hi_cred_lim', 'total_bc_limit'],\n",
       "      dtype='object')"
      ]
     },
     "execution_count": 111,
     "metadata": {},
     "output_type": "execute_result"
    }
   ],
   "source": [
    "num_cols[selector.get_support()]"
   ]
  },
  {
   "cell_type": "code",
   "execution_count": 89,
   "metadata": {},
   "outputs": [
    {
     "data": {
      "text/html": [
       "<div>\n",
       "<style scoped>\n",
       "    .dataframe tbody tr th:only-of-type {\n",
       "        vertical-align: middle;\n",
       "    }\n",
       "\n",
       "    .dataframe tbody tr th {\n",
       "        vertical-align: top;\n",
       "    }\n",
       "\n",
       "    .dataframe thead th {\n",
       "        text-align: right;\n",
       "    }\n",
       "</style>\n",
       "<table border=\"1\" class=\"dataframe\">\n",
       "  <thead>\n",
       "    <tr style=\"text-align: right;\">\n",
       "      <th></th>\n",
       "      <th>cols</th>\n",
       "      <th>pvals</th>\n",
       "    </tr>\n",
       "  </thead>\n",
       "  <tbody>\n",
       "    <tr>\n",
       "      <th>42</th>\n",
       "      <td>num_rev_accts</td>\n",
       "      <td>0.882098</td>\n",
       "    </tr>\n",
       "    <tr>\n",
       "      <th>18</th>\n",
       "      <td>mths_since_last_major_derog</td>\n",
       "      <td>0.730847</td>\n",
       "    </tr>\n",
       "    <tr>\n",
       "      <th>38</th>\n",
       "      <td>num_bc_sats</td>\n",
       "      <td>0.724688</td>\n",
       "    </tr>\n",
       "    <tr>\n",
       "      <th>49</th>\n",
       "      <td>pct_tl_nvr_dlq</td>\n",
       "      <td>0.695098</td>\n",
       "    </tr>\n",
       "    <tr>\n",
       "      <th>6</th>\n",
       "      <td>delinq_2yrs</td>\n",
       "      <td>0.620313</td>\n",
       "    </tr>\n",
       "    <tr>\n",
       "      <th>34</th>\n",
       "      <td>mths_since_recent_revol_delinq</td>\n",
       "      <td>0.615790</td>\n",
       "    </tr>\n",
       "    <tr>\n",
       "      <th>47</th>\n",
       "      <td>num_tl_90g_dpd_24m</td>\n",
       "      <td>0.614392</td>\n",
       "    </tr>\n",
       "    <tr>\n",
       "      <th>13</th>\n",
       "      <td>open_acc</td>\n",
       "      <td>0.517445</td>\n",
       "    </tr>\n",
       "    <tr>\n",
       "      <th>44</th>\n",
       "      <td>num_sats</td>\n",
       "      <td>0.515624</td>\n",
       "    </tr>\n",
       "    <tr>\n",
       "      <th>45</th>\n",
       "      <td>num_tl_120dpd_2m</td>\n",
       "      <td>0.503587</td>\n",
       "    </tr>\n",
       "    <tr>\n",
       "      <th>32</th>\n",
       "      <td>mths_since_recent_bc_dlq</td>\n",
       "      <td>0.448423</td>\n",
       "    </tr>\n",
       "    <tr>\n",
       "      <th>46</th>\n",
       "      <td>num_tl_30dpd</td>\n",
       "      <td>0.439904</td>\n",
       "    </tr>\n",
       "    <tr>\n",
       "      <th>19</th>\n",
       "      <td>tot_coll_amt</td>\n",
       "      <td>0.417059</td>\n",
       "    </tr>\n",
       "    <tr>\n",
       "      <th>35</th>\n",
       "      <td>num_accts_ever_120_pd</td>\n",
       "      <td>0.383534</td>\n",
       "    </tr>\n",
       "    <tr>\n",
       "      <th>51</th>\n",
       "      <td>pub_rec_bankruptcies</td>\n",
       "      <td>0.370402</td>\n",
       "    </tr>\n",
       "    <tr>\n",
       "      <th>14</th>\n",
       "      <td>pub_rec</td>\n",
       "      <td>0.349734</td>\n",
       "    </tr>\n",
       "    <tr>\n",
       "      <th>11</th>\n",
       "      <td>mths_since_last_delinq</td>\n",
       "      <td>0.249867</td>\n",
       "    </tr>\n",
       "    <tr>\n",
       "      <th>39</th>\n",
       "      <td>num_bc_tl</td>\n",
       "      <td>0.244873</td>\n",
       "    </tr>\n",
       "    <tr>\n",
       "      <th>0</th>\n",
       "      <td>loan_amnt</td>\n",
       "      <td>0.130208</td>\n",
       "    </tr>\n",
       "  </tbody>\n",
       "</table>\n",
       "</div>"
      ],
      "text/plain": [
       "                              cols     pvals\n",
       "42                   num_rev_accts  0.882098\n",
       "18     mths_since_last_major_derog  0.730847\n",
       "38                     num_bc_sats  0.724688\n",
       "49                  pct_tl_nvr_dlq  0.695098\n",
       "6                      delinq_2yrs  0.620313\n",
       "34  mths_since_recent_revol_delinq  0.615790\n",
       "47              num_tl_90g_dpd_24m  0.614392\n",
       "13                        open_acc  0.517445\n",
       "44                        num_sats  0.515624\n",
       "45                num_tl_120dpd_2m  0.503587\n",
       "32        mths_since_recent_bc_dlq  0.448423\n",
       "46                    num_tl_30dpd  0.439904\n",
       "19                    tot_coll_amt  0.417059\n",
       "35           num_accts_ever_120_pd  0.383534\n",
       "51            pub_rec_bankruptcies  0.370402\n",
       "14                         pub_rec  0.349734\n",
       "11          mths_since_last_delinq  0.249867\n",
       "39                       num_bc_tl  0.244873\n",
       "0                        loan_amnt  0.130208"
      ]
     },
     "execution_count": 89,
     "metadata": {},
     "output_type": "execute_result"
    }
   ],
   "source": [
    "df_sel = pd.DataFrame({\"cols\":num_cols, \"pvals\":selector.pvalues_}).sort_values(\"pvals\", ascending=False)\n",
    "df_sel.loc[df_sel[\"pvals\"] > 0.1]"
   ]
  },
  {
   "cell_type": "markdown",
   "metadata": {},
   "source": [
    "#### Categorical variables"
   ]
  },
  {
   "cell_type": "code",
   "execution_count": 514,
   "metadata": {},
   "outputs": [
    {
     "data": {
      "text/plain": [
       "<16260x64 sparse matrix of type '<class 'numpy.float64'>'\n",
       "\twith 65040 stored elements in Compressed Sparse Row format>"
      ]
     },
     "execution_count": 514,
     "metadata": {},
     "output_type": "execute_result"
    }
   ],
   "source": [
    "selector = SelectKBest(lambda X,y: mutual_info_classif(X, y, discrete_features=True), k=\"all\")\n",
    "selector.fit(ohe.fit_transform(X_train[cat_cols]), y_train)"
   ]
  },
  {
   "cell_type": "code",
   "execution_count": 529,
   "metadata": {},
   "outputs": [
    {
     "data": {
      "text/html": [
       "<div>\n",
       "<style scoped>\n",
       "    .dataframe tbody tr th:only-of-type {\n",
       "        vertical-align: middle;\n",
       "    }\n",
       "\n",
       "    .dataframe tbody tr th {\n",
       "        vertical-align: top;\n",
       "    }\n",
       "\n",
       "    .dataframe thead th {\n",
       "        text-align: right;\n",
       "    }\n",
       "</style>\n",
       "<table border=\"1\" class=\"dataframe\">\n",
       "  <thead>\n",
       "    <tr style=\"text-align: right;\">\n",
       "      <th></th>\n",
       "      <th>cols</th>\n",
       "      <th>score</th>\n",
       "    </tr>\n",
       "  </thead>\n",
       "  <tbody>\n",
       "    <tr>\n",
       "      <th>24</th>\n",
       "      <td>x2_CT</td>\n",
       "      <td>1.550599e-08</td>\n",
       "    </tr>\n",
       "    <tr>\n",
       "      <th>61</th>\n",
       "      <td>x2_WY</td>\n",
       "      <td>3.394466e-08</td>\n",
       "    </tr>\n",
       "    <tr>\n",
       "      <th>55</th>\n",
       "      <td>x2_UT</td>\n",
       "      <td>2.006534e-07</td>\n",
       "    </tr>\n",
       "    <tr>\n",
       "      <th>52</th>\n",
       "      <td>x2_SC</td>\n",
       "      <td>2.060913e-07</td>\n",
       "    </tr>\n",
       "    <tr>\n",
       "      <th>34</th>\n",
       "      <td>x2_LA</td>\n",
       "      <td>2.784784e-07</td>\n",
       "    </tr>\n",
       "    <tr>\n",
       "      <th>26</th>\n",
       "      <td>x2_DE</td>\n",
       "      <td>5.182606e-07</td>\n",
       "    </tr>\n",
       "    <tr>\n",
       "      <th>1</th>\n",
       "      <td>x0_NONE</td>\n",
       "      <td>1.273302e-06</td>\n",
       "    </tr>\n",
       "    <tr>\n",
       "      <th>9</th>\n",
       "      <td>x1_house</td>\n",
       "      <td>1.394695e-06</td>\n",
       "    </tr>\n",
       "    <tr>\n",
       "      <th>20</th>\n",
       "      <td>x2_AR</td>\n",
       "      <td>1.800109e-06</td>\n",
       "    </tr>\n",
       "    <tr>\n",
       "      <th>35</th>\n",
       "      <td>x2_MA</td>\n",
       "      <td>1.817059e-06</td>\n",
       "    </tr>\n",
       "  </tbody>\n",
       "</table>\n",
       "</div>"
      ],
      "text/plain": [
       "        cols         score\n",
       "24     x2_CT  1.550599e-08\n",
       "61     x2_WY  3.394466e-08\n",
       "55     x2_UT  2.006534e-07\n",
       "52     x2_SC  2.060913e-07\n",
       "34     x2_LA  2.784784e-07\n",
       "26     x2_DE  5.182606e-07\n",
       "1    x0_NONE  1.273302e-06\n",
       "9   x1_house  1.394695e-06\n",
       "20     x2_AR  1.800109e-06\n",
       "35     x2_MA  1.817059e-06"
      ]
     },
     "execution_count": 529,
     "metadata": {},
     "output_type": "execute_result"
    }
   ],
   "source": [
    "df_sel = pd.DataFrame({\"cols\":ohe.get_feature_names(), \"score\":selector.scores_}).sort_values(\"score\", ascending=True)\n",
    "df_sel.head(10)"
   ]
  },
  {
   "cell_type": "markdown",
   "metadata": {},
   "source": [
    "Let's define a pipeline for this. Note we've changed things slightly -- now we first one-hot encode and consider multicollinearity of categorical variables as well (this is supposedly a good idea in practice)."
   ]
  },
  {
   "cell_type": "code",
   "execution_count": 8,
   "metadata": {},
   "outputs": [],
   "source": [
    "class FeatureSelection(BaseEstimator, TransformerMixin):\n",
    "    def __init__(self, max_corr=1, k_num=1, k_cat=1):\n",
    "        self.max_corr = max_corr\n",
    "        self.k_num = k_num\n",
    "        self.k_cat = k_cat\n",
    "        self.ohe = OneHotEncoder(handle_unknown='ignore')\n",
    "        self.scaler = StandardScaler()\n",
    "        self.num_cols = None\n",
    "        self.cat_cols = None\n",
    "        self.cat_cols_enc = None\n",
    "        self.all_cols = None\n",
    "        \n",
    "    def fit(self, X, y=None):\n",
    "        Xc = X.copy()\n",
    "        yc = y.copy()\n",
    "        \n",
    "        # identify numeric and categorical columns\n",
    "        self.num_cols = Xc.columns[Xc.dtypes!=\"object\"].values\n",
    "        self.cat_cols = Xc.columns[Xc.dtypes==\"object\"].values\n",
    "        \n",
    "        # one-hot-encode categorical columns and convert back to full dataframe\n",
    "        Xc_cat = self.ohe.fit_transform(Xc[self.cat_cols]).toarray()\n",
    "        self.cat_cols_enc = self.ohe.get_feature_names(input_features=self.cat_cols)\n",
    "        Xc_cat = pd.DataFrame(Xc_cat, columns = self.cat_cols_enc)\n",
    "        Xc_num = Xc[self.num_cols]\n",
    "        Xc = pd.concat([Xc_cat, Xc_num], axis=1)\n",
    "        \n",
    "        # handling multicollinearity\n",
    "        if self.max_corr < 1:\n",
    "            X_corr = Xc.corr()\n",
    "            X_not_correlated = ~(X_corr.mask(np.tril(np.ones([len(X_corr)]*2, dtype=bool))).abs() > self.max_corr).any() \n",
    "            un_corr_idx = X_not_correlated.loc[X_not_correlated[X_not_correlated.index]].index.values\n",
    "            Xc = Xc[un_corr_idx]\n",
    "            self.cat_cols_enc = np.array([c for c in Xc.columns if c in self.cat_cols_enc])\n",
    "            self.num_cols = np.array([c for c in Xc.columns if c in self.num_cols])\n",
    "        \n",
    "        # numeric feature selection\n",
    "        n_feats = int(self.k_num*len(self.num_cols))\n",
    "        if self.k_num < 1 and n_feats > 0:\n",
    "            num_selector = SelectKBest(f_classif, k=n_feats)\n",
    "            num_selector.fit(Xc[self.num_cols], yc)\n",
    "            self.num_cols = self.num_cols[num_selector.get_support()]\n",
    "            Xc = Xc[self.cat_cols_enc.tolist() + self.num_cols.tolist()]\n",
    "        \n",
    "        # categorical feature selection\n",
    "        n_feats = int(self.k_cat*len(self.cat_cols_enc))\n",
    "        if self.k_cat < 1 and n_feats > 0:\n",
    "            cat_selector = SelectKBest(lambda X,y: mutual_info_classif(X, y, discrete_features=True), k=n_feats)\n",
    "            cat_selector.fit(Xc[self.cat_cols_enc], yc)\n",
    "            self.cat_cols_enc = self.cat_cols_enc[cat_selector.get_support()]\n",
    "            Xc = Xc[self.cat_cols_enc.tolist() + self.num_cols.tolist()]\n",
    "        \n",
    "        # all selected features\n",
    "        self.all_cols = self.cat_cols_enc.tolist() + self.num_cols.tolist()\n",
    "        \n",
    "        # fit numeric scaler\n",
    "        self.scaler.fit(Xc[self.all_cols])\n",
    "                \n",
    "        return self\n",
    "    \n",
    "    def transform(self, X, y=None):\n",
    "        Xc = X.copy()\n",
    "        Xc_cat = self.ohe.transform(Xc[self.cat_cols]).toarray()\n",
    "        Xc_cat = pd.DataFrame(Xc_cat, columns = self.ohe.get_feature_names(input_features=self.cat_cols))\n",
    "        Xc_num = Xc[self.num_cols]\n",
    "        Xc = pd.concat([Xc_cat, Xc_num], axis=1)\n",
    "        Xc = pd.DataFrame(self.scaler.transform(Xc[self.all_cols]), columns = self.all_cols)\n",
    "        \n",
    "        return Xc\n",
    "    \n",
    "    def fit_transform(self, X, y=None):\n",
    "        return self.fit(X,y).transform(X,y)"
   ]
  },
  {
   "cell_type": "markdown",
   "metadata": {},
   "source": [
    "## Modeling\n",
    "We now fit several machine learning models to our training data. We use `GridSearchCV` (with our hold-out validation set) to identify the best hyperparameters. We use log loss (a good second choice is \"Brier score\") as our scoring metric during grid search. The reason for this choice of metric is that in loan default prediction we care a lot about our probabilities being well-calibrated. Indeed, one can achieve 100% ROC-AUC while always predicting probabilities as 51%,49% because ROC-AUC only cares about correct rankings.\n",
    "\n",
    "After the best hyperparameters have been chosen according to log loss, we report several other metrics of our validation set: Brier score, typical confusion matrix metrics (precision, recall, F1), PR-AUC (also called average precision), and ROC-AUC. We define a custom metric \"Expected Misclassification Cost\" (EMC) which we define as\n",
    "$$EMC(C) = C\\cdot FN + FP$$\n",
    "where $FN$ is the number of false negatives, $FP$ is the number of false positives, and $C$ is a parameter which specifies how many times more costly one false negative is compared to one false positive."
   ]
  },
  {
   "cell_type": "markdown",
   "metadata": {},
   "source": [
    "### Set up"
   ]
  },
  {
   "cell_type": "markdown",
   "metadata": {},
   "source": [
    "We need to re-load the training data because we modified it above. We will instead be performing feature selection within a `GridSearchCV` pipeline. We also load in the validation and testing data."
   ]
  },
  {
   "cell_type": "code",
   "execution_count": 9,
   "metadata": {},
   "outputs": [],
   "source": [
    "X_train, y_train, profit_train = df_train.drop([\"loan_status\", \"profit\"], axis=1), df_train[\"loan_status\"], df_train[\"profit\"]\n",
    "X_val, y_val, profit_val = df_val.drop([\"loan_status\", \"profit\"], axis=1), df_val[\"loan_status\"], df_val[\"profit\"]\n",
    "X_test, y_test, profit_test = df_test.drop([\"loan_status\", \"profit\"], axis=1), df_test[\"loan_status\"], df_test[\"profit\"]\n",
    "\n",
    "# encode loan status\n",
    "y_train = y_train.replace({\"Charged Off\":1, \"Fully Paid\":0})\n",
    "y_val = y_val.replace({\"Charged Off\":1, \"Fully Paid\":0})\n",
    "y_test = y_test.replace({\"Charged Off\":1, \"Fully Paid\":0})\n",
    "\n",
    "del df_train, df_val, df_test"
   ]
  },
  {
   "cell_type": "markdown",
   "metadata": {},
   "source": [
    "Perform preprocessing steps that can occur outside `GridSearchCV` (not dependent on any parameters)."
   ]
  },
  {
   "cell_type": "code",
   "execution_count": 10,
   "metadata": {},
   "outputs": [],
   "source": [
    "pipe = Pipeline([('cat_proc', CategoricalPreprocessing()),\n",
    "                 ('num_proc', NumericalPreprocessing())])\n",
    "\n",
    "X_train = pipe.fit_transform(X_train, y_train)\n",
    "X_val = pipe.transform(X_val)\n",
    "X_test = pipe.transform(X_test)\n",
    "\n",
    "pickle.dump(pipe, open(\"preproc_pipeline.pkl\", 'wb'))"
   ]
  },
  {
   "cell_type": "markdown",
   "metadata": {},
   "source": [
    "Here we define our `GridSearchCV` pipeline. This can optionally take a re-sampling method (`sm`)."
   ]
  },
  {
   "cell_type": "code",
   "execution_count": 11,
   "metadata": {},
   "outputs": [],
   "source": [
    "def fit_model(model, param_grid, X_train, y_train, X_val, y_val, sm=None, fit_to_val=True, random=False):\n",
    "    # instantiate base pipeline\n",
    "    if sm:\n",
    "        steps = [('feat_proc', FeatureSelection()), (\"sampling\", sm), (\"clf\", model)]\n",
    "    else:\n",
    "        steps = [('feat_proc', FeatureSelection()), (\"clf\", model)]\n",
    "    pipe = Pipeline(steps)\n",
    "    \n",
    "    # make a predefined validation split\n",
    "    X_tv = pd.concat([X_train, X_val], axis=0)\n",
    "    y_tv = pd.concat([y_train, y_val], axis=0)\n",
    "    tv_idx = [-1]*len(X_train) + [0]*len(X_val) # a list where train data indices are -1 and validation data indices are 0\n",
    "    ps = PredefinedSplit(test_fold = tv_idx)\n",
    "    \n",
    "    # grid search\n",
    "    if random:\n",
    "        grid = RandomizedSearchCV(pipe, param_distributions=param_grid, cv=ps, scoring='neg_log_loss', verbose=10, refit=fit_to_val)\n",
    "    else:\n",
    "        grid = GridSearchCV(pipe, param_grid=param_grid, cv=ps, scoring='neg_log_loss', verbose=10, refit=fit_to_val)\n",
    "    grid.fit(X_tv, y_tv) \n",
    "    \n",
    "    # we may not want to refit on the combined training+validation set (esp. if doing out-of-time validation)\n",
    "    # if we do, then we return grid.best_estimator_\n",
    "    if fit_to_val:\n",
    "        return grid.best_estimator_\n",
    "    \n",
    "    else:\n",
    "        # If not, we can take the best estimator and refit manually on X_train only. \n",
    "        # Note: grid.best_estimator_ is not instantiated if refit=False, so we have to manually set the parameters.\n",
    "        bp = grid.best_params_ # get best parameters\n",
    "        for p in bp: # set parameters of base pipeline to `bp`\n",
    "            step, param = p.split(\"__\")\n",
    "            setattr(pipe[step], param, bp[p]) \n",
    "        pipe.fit(X_train, y_train) # refit to X_train\n",
    "        return pipe"
   ]
  },
  {
   "cell_type": "markdown",
   "metadata": {},
   "source": [
    "Define a function for printing a model evaluation report."
   ]
  },
  {
   "cell_type": "code",
   "execution_count": 12,
   "metadata": {},
   "outputs": [],
   "source": [
    "def eval_model(pipe, X, y, plot_pr=True, plot_roc=True):\n",
    "    y_proba = pipe.predict_proba(X)[:,1]\n",
    "    n_plots = plot_pr + plot_roc # calculate number of plots\n",
    "    if n_plots > 0:\n",
    "        fig, ax = plt.subplots(1, n_plots, figsize=(n_plots*6, 4))\n",
    "        curr_ax = 0\n",
    "        if n_plots == 1:\n",
    "            ax = [ax]\n",
    "            \n",
    "    # Log-loss\n",
    "    LL = log_loss(y, y_proba)\n",
    "    \n",
    "    # Brier score\n",
    "    BS = brier_score_loss(y, y_proba)\n",
    "    \n",
    "    # Precision, recall, f1\n",
    "    y_pred = pipe.predict(X)\n",
    "#     P = precision_score(y, y_pred)\n",
    "#     R = recall_score(y, y_pred)\n",
    "#     F1 = 2*P*R/(P+R)\n",
    "\n",
    "    # expected misclassification cost\n",
    "    EMCs = {}\n",
    "    for c in [1, 5, 10, 50]:\n",
    "        FP = len(np.where(np.logical_and(y_pred==1, y==0))[0])\n",
    "        FN = len(np.where(np.logical_and(y_pred==0, y==1))[0])\n",
    "        EMCs[\"EMC (C=%i)\" % c] = c*FN + FP\n",
    "    \n",
    "    # PR curve\n",
    "    AP = average_precision_score(y, y_proba)\n",
    "    if plot_pr:\n",
    "        plt.sca(ax[curr_ax])\n",
    "        curr_ax += 1\n",
    "        precision, recall, thresholds = precision_recall_curve(y, y_proba)\n",
    "        plt.plot(precision, recall, lw=1, label='AP = %0.2f'% AP)\n",
    "        plt.xlabel('Precision')\n",
    "        plt.ylabel('Recall')\n",
    "        plt.title('PR Curve')\n",
    "        plt.legend(loc=\"lower right\", frameon = True).get_frame().set_edgecolor('black')\n",
    "    \n",
    "    # ROC curve\n",
    "    ROC_AUC = roc_auc_score(y, y_pred)\n",
    "    if plot_roc:\n",
    "        plt.sca(ax[curr_ax])\n",
    "        fpr, tpr, thresholds = roc_curve(y, y_proba)\n",
    "        plt.plot(fpr, tpr, lw=1, label='AUC = %0.2f'% ROC_AUC)\n",
    "        plt.plot([0, 1], [0, 1], '--k', lw=1)\n",
    "        plt.xlabel('False Positive Rate')\n",
    "        plt.ylabel('True Positive Rate')\n",
    "        plt.title('ROC Curve')\n",
    "        plt.legend(loc=\"lower right\", frameon = True).get_frame().set_edgecolor('black')\n",
    "    \n",
    "    # display calculated results\n",
    "    data = {\"Log loss\": LL, \"Brier score\": BS, \"Average precision (PR-AUC)\": AP, \"ROC-AUC\": ROC_AUC}\n",
    "    data.update(EMCs)\n",
    "    display(data)\n",
    "    print(classification_report(y, y_pred))\n",
    "    \n",
    "    if n_plots > 0:\n",
    "        plt.tight_layout()\n",
    "        plt.show()"
   ]
  },
  {
   "cell_type": "markdown",
   "metadata": {},
   "source": [
    "### Baseline model\n",
    "Our first model is a baseline which predicts at random while respecting the class frequencies (`strategy=\"stratified\"`)."
   ]
  },
  {
   "cell_type": "code",
   "execution_count": 19,
   "metadata": {},
   "outputs": [
    {
     "data": {
      "text/plain": [
       "0.12976629766297662"
      ]
     },
     "execution_count": 19,
     "metadata": {},
     "output_type": "execute_result"
    }
   ],
   "source": [
    "y_train.mean()"
   ]
  },
  {
   "cell_type": "markdown",
   "metadata": {},
   "source": [
    "That is, our model will predict default 12% of the time and non-default 88% of the time."
   ]
  },
  {
   "cell_type": "code",
   "execution_count": 20,
   "metadata": {},
   "outputs": [
    {
     "data": {
      "text/plain": [
       "{'Log loss': 8.2787015151811,\n",
       " 'Brier score': 0.23969007748062984,\n",
       " 'Average precision (PR-AUC)': 0.12687892054377212,\n",
       " 'ROC-AUC': 0.496728288284699,\n",
       " 'EMC (C=1)': 930,\n",
       " 'EMC (C=5)': 2734,\n",
       " 'EMC (C=10)': 4989,\n",
       " 'EMC (C=50)': 23029}"
      ]
     },
     "metadata": {},
     "output_type": "display_data"
    },
    {
     "name": "stdout",
     "output_type": "stream",
     "text": [
      "              precision    recall  f1-score   support\n",
      "\n",
      "           0       0.87      0.86      0.87      3482\n",
      "           1       0.12      0.13      0.13       519\n",
      "\n",
      "    accuracy                           0.77      4001\n",
      "   macro avg       0.50      0.50      0.50      4001\n",
      "weighted avg       0.77      0.77      0.77      4001\n",
      "\n"
     ]
    },
    {
     "data": {
      "image/png": "[encoded data removed]",
      "text/plain": [
       "<Figure size 864x288 with 2 Axes>"
      ]
     },
     "metadata": {
      "needs_background": "light"
     },
     "output_type": "display_data"
    }
   ],
   "source": [
    "model = DummyClassifier(strategy=\"stratified\")\n",
    "model.fit(X_train, y_train)\n",
    "eval_model(model, X_val, y_val)"
   ]
  },
  {
   "cell_type": "markdown",
   "metadata": {},
   "source": [
    "### Logistic regression"
   ]
  },
  {
   "cell_type": "markdown",
   "metadata": {},
   "source": [
    "#### Without $\\ell_1$ or $\\ell_2$ penalty\n",
    "We can consider this a second baseline. We use the `class_weight` parameter to help the model learning the minority class."
   ]
  },
  {
   "cell_type": "code",
   "execution_count": 21,
   "metadata": {},
   "outputs": [
    {
     "name": "stdout",
     "output_type": "stream",
     "text": [
      "Fitting 1 folds for each of 16 candidates, totalling 16 fits\n",
      "[CV] clf__C=0.0001, feat_proc__k_cat=0.8, feat_proc__k_num=0.8, feat_proc__max_corr=0.8 \n"
     ]
    },
    {
     "name": "stderr",
     "output_type": "stream",
     "text": [
      "[Parallel(n_jobs=1)]: Using backend SequentialBackend with 1 concurrent workers.\n"
     ]
    },
    {
     "name": "stdout",
     "output_type": "stream",
     "text": [
      "[CV]  clf__C=0.0001, feat_proc__k_cat=0.8, feat_proc__k_num=0.8, feat_proc__max_corr=0.8, score=-0.572, total=   0.9s\n",
      "[CV] clf__C=0.0001, feat_proc__k_cat=0.8, feat_proc__k_num=0.8, feat_proc__max_corr=1 \n"
     ]
    },
    {
     "name": "stderr",
     "output_type": "stream",
     "text": [
      "[Parallel(n_jobs=1)]: Done   1 out of   1 | elapsed:    0.8s remaining:    0.0s\n"
     ]
    },
    {
     "name": "stdout",
     "output_type": "stream",
     "text": [
      "[CV]  clf__C=0.0001, feat_proc__k_cat=0.8, feat_proc__k_num=0.8, feat_proc__max_corr=1, score=-0.571, total=   0.6s\n",
      "[CV] clf__C=0.0001, feat_proc__k_cat=0.8, feat_proc__k_num=1, feat_proc__max_corr=0.8 \n"
     ]
    },
    {
     "name": "stderr",
     "output_type": "stream",
     "text": [
      "[Parallel(n_jobs=1)]: Done   2 out of   2 | elapsed:    1.5s remaining:    0.0s\n"
     ]
    },
    {
     "name": "stdout",
     "output_type": "stream",
     "text": [
      "[CV]  clf__C=0.0001, feat_proc__k_cat=0.8, feat_proc__k_num=1, feat_proc__max_corr=0.8, score=-0.572, total=   1.0s\n",
      "[CV] clf__C=0.0001, feat_proc__k_cat=0.8, feat_proc__k_num=1, feat_proc__max_corr=1 \n"
     ]
    },
    {
     "name": "stderr",
     "output_type": "stream",
     "text": [
      "[Parallel(n_jobs=1)]: Done   3 out of   3 | elapsed:    2.4s remaining:    0.0s\n"
     ]
    },
    {
     "name": "stdout",
     "output_type": "stream",
     "text": [
      "[CV]  clf__C=0.0001, feat_proc__k_cat=0.8, feat_proc__k_num=1, feat_proc__max_corr=1, score=-0.571, total=   0.5s\n",
      "[CV] clf__C=0.0001, feat_proc__k_cat=1, feat_proc__k_num=0.8, feat_proc__max_corr=0.8 \n"
     ]
    },
    {
     "name": "stderr",
     "output_type": "stream",
     "text": [
      "[Parallel(n_jobs=1)]: Done   4 out of   4 | elapsed:    3.0s remaining:    0.0s\n"
     ]
    },
    {
     "name": "stdout",
     "output_type": "stream",
     "text": [
      "[CV]  clf__C=0.0001, feat_proc__k_cat=1, feat_proc__k_num=0.8, feat_proc__max_corr=0.8, score=-0.572, total=   0.9s\n",
      "[CV] clf__C=0.0001, feat_proc__k_cat=1, feat_proc__k_num=0.8, feat_proc__max_corr=1 \n"
     ]
    },
    {
     "name": "stderr",
     "output_type": "stream",
     "text": [
      "[Parallel(n_jobs=1)]: Done   5 out of   5 | elapsed:    3.8s remaining:    0.0s\n"
     ]
    },
    {
     "name": "stdout",
     "output_type": "stream",
     "text": [
      "[CV]  clf__C=0.0001, feat_proc__k_cat=1, feat_proc__k_num=0.8, feat_proc__max_corr=1, score=-0.571, total=   0.5s\n",
      "[CV] clf__C=0.0001, feat_proc__k_cat=1, feat_proc__k_num=1, feat_proc__max_corr=0.8 \n"
     ]
    },
    {
     "name": "stderr",
     "output_type": "stream",
     "text": [
      "[Parallel(n_jobs=1)]: Done   6 out of   6 | elapsed:    4.3s remaining:    0.0s\n"
     ]
    },
    {
     "name": "stdout",
     "output_type": "stream",
     "text": [
      "[CV]  clf__C=0.0001, feat_proc__k_cat=1, feat_proc__k_num=1, feat_proc__max_corr=0.8, score=-0.572, total=   0.9s\n",
      "[CV] clf__C=0.0001, feat_proc__k_cat=1, feat_proc__k_num=1, feat_proc__max_corr=1 \n"
     ]
    },
    {
     "name": "stderr",
     "output_type": "stream",
     "text": [
      "[Parallel(n_jobs=1)]: Done   7 out of   7 | elapsed:    5.2s remaining:    0.0s\n"
     ]
    },
    {
     "name": "stdout",
     "output_type": "stream",
     "text": [
      "[CV]  clf__C=0.0001, feat_proc__k_cat=1, feat_proc__k_num=1, feat_proc__max_corr=1, score=-0.571, total=   0.5s\n",
      "[CV] clf__C=0.001, feat_proc__k_cat=0.8, feat_proc__k_num=0.8, feat_proc__max_corr=0.8 \n"
     ]
    },
    {
     "name": "stderr",
     "output_type": "stream",
     "text": [
      "[Parallel(n_jobs=1)]: Done   8 out of   8 | elapsed:    5.7s remaining:    0.0s\n"
     ]
    },
    {
     "name": "stdout",
     "output_type": "stream",
     "text": [
      "[CV]  clf__C=0.001, feat_proc__k_cat=0.8, feat_proc__k_num=0.8, feat_proc__max_corr=0.8, score=-0.572, total=   0.9s\n",
      "[CV] clf__C=0.001, feat_proc__k_cat=0.8, feat_proc__k_num=0.8, feat_proc__max_corr=1 \n"
     ]
    },
    {
     "name": "stderr",
     "output_type": "stream",
     "text": [
      "[Parallel(n_jobs=1)]: Done   9 out of   9 | elapsed:    6.6s remaining:    0.0s\n"
     ]
    },
    {
     "name": "stdout",
     "output_type": "stream",
     "text": [
      "[CV]  clf__C=0.001, feat_proc__k_cat=0.8, feat_proc__k_num=0.8, feat_proc__max_corr=1, score=-0.571, total=   0.6s\n",
      "[CV] clf__C=0.001, feat_proc__k_cat=0.8, feat_proc__k_num=1, feat_proc__max_corr=0.8 \n",
      "[CV]  clf__C=0.001, feat_proc__k_cat=0.8, feat_proc__k_num=1, feat_proc__max_corr=0.8, score=-0.572, total=   1.1s\n",
      "[CV] clf__C=0.001, feat_proc__k_cat=0.8, feat_proc__k_num=1, feat_proc__max_corr=1 \n",
      "[CV]  clf__C=0.001, feat_proc__k_cat=0.8, feat_proc__k_num=1, feat_proc__max_corr=1, score=-0.571, total=   0.6s\n",
      "[CV] clf__C=0.001, feat_proc__k_cat=1, feat_proc__k_num=0.8, feat_proc__max_corr=0.8 \n",
      "[CV]  clf__C=0.001, feat_proc__k_cat=1, feat_proc__k_num=0.8, feat_proc__max_corr=0.8, score=-0.572, total=   0.9s\n",
      "[CV] clf__C=0.001, feat_proc__k_cat=1, feat_proc__k_num=0.8, feat_proc__max_corr=1 \n",
      "[CV]  clf__C=0.001, feat_proc__k_cat=1, feat_proc__k_num=0.8, feat_proc__max_corr=1, score=-0.571, total=   0.5s\n",
      "[CV] clf__C=0.001, feat_proc__k_cat=1, feat_proc__k_num=1, feat_proc__max_corr=0.8 \n",
      "[CV]  clf__C=0.001, feat_proc__k_cat=1, feat_proc__k_num=1, feat_proc__max_corr=0.8, score=-0.572, total=   0.9s\n",
      "[CV] clf__C=0.001, feat_proc__k_cat=1, feat_proc__k_num=1, feat_proc__max_corr=1 \n",
      "[CV]  clf__C=0.001, feat_proc__k_cat=1, feat_proc__k_num=1, feat_proc__max_corr=1, score=-0.571, total=   0.5s\n"
     ]
    },
    {
     "name": "stderr",
     "output_type": "stream",
     "text": [
      "[Parallel(n_jobs=1)]: Done  16 out of  16 | elapsed:   11.9s finished\n"
     ]
    }
   ],
   "source": [
    "model = LogisticRegression(penalty=\"none\", class_weight={0:1, 1:5})\n",
    "param_grid = {'clf__C': [0.0001, 0.001],\n",
    "              'feat_proc__max_corr': [0.8, 1],\n",
    "              'feat_proc__k_num': [0.8, 1],\n",
    "              'feat_proc__k_cat': [0.8, 1]\n",
    "             }\n",
    "pipe = fit_model(model, param_grid, X_train, y_train, X_val, y_val, fit_to_val=False)"
   ]
  },
  {
   "cell_type": "code",
   "execution_count": 22,
   "metadata": {},
   "outputs": [
    {
     "data": {
      "text/plain": [
       "Pipeline(steps=[('feat_proc', FeatureSelection(k_cat=0.8)),\n",
       "                ('clf',\n",
       "                 LogisticRegression(C=0.0001, class_weight={0: 1, 1: 5},\n",
       "                                    penalty='none'))])"
      ]
     },
     "execution_count": 22,
     "metadata": {},
     "output_type": "execute_result"
    }
   ],
   "source": [
    "pipe"
   ]
  },
  {
   "cell_type": "code",
   "execution_count": 23,
   "metadata": {},
   "outputs": [
    {
     "data": {
      "text/plain": [
       "{'Log loss': 0.5707239866837518,\n",
       " 'Brier score': 0.19234720494231455,\n",
       " 'Average precision (PR-AUC)': 0.19100960039833872,\n",
       " 'ROC-AUC': 0.5877410829600953,\n",
       " 'EMC (C=1)': 1124,\n",
       " 'EMC (C=5)': 2348,\n",
       " 'EMC (C=10)': 3878,\n",
       " 'EMC (C=50)': 16118}"
      ]
     },
     "metadata": {},
     "output_type": "display_data"
    },
    {
     "name": "stdout",
     "output_type": "stream",
     "text": [
      "              precision    recall  f1-score   support\n",
      "\n",
      "           0       0.90      0.77      0.83      3482\n",
      "           1       0.21      0.41      0.27       519\n",
      "\n",
      "    accuracy                           0.72      4001\n",
      "   macro avg       0.55      0.59      0.55      4001\n",
      "weighted avg       0.81      0.72      0.75      4001\n",
      "\n"
     ]
    },
    {
     "data": {
      "image/png": "[encoded data removed]",
      "text/plain": [
       "<Figure size 864x288 with 2 Axes>"
      ]
     },
     "metadata": {
      "needs_background": "light"
     },
     "output_type": "display_data"
    }
   ],
   "source": [
    "eval_model(pipe, X_val, y_val)"
   ]
  },
  {
   "cell_type": "markdown",
   "metadata": {},
   "source": [
    "#### With $\\ell_1$ penalty (LASSO)"
   ]
  },
  {
   "cell_type": "markdown",
   "metadata": {},
   "source": [
    "Here we use $\\ell_1$ penalty. We find that our feature selection pipeline (considered a \"filter\" method) is unecessary when paired with $\\ell_1$ regularization (considered an \"embedded\" method), so we do not use our feature selection pipeline -- i.e. we set the parameters to 1."
   ]
  },
  {
   "cell_type": "code",
   "execution_count": 24,
   "metadata": {},
   "outputs": [
    {
     "name": "stdout",
     "output_type": "stream",
     "text": [
      "Fitting 1 folds for each of 3 candidates, totalling 3 fits\n",
      "[CV] clf__C=0.01, feat_proc__k_cat=1, feat_proc__k_num=1, feat_proc__max_corr=1 \n"
     ]
    },
    {
     "name": "stderr",
     "output_type": "stream",
     "text": [
      "[Parallel(n_jobs=1)]: Using backend SequentialBackend with 1 concurrent workers.\n"
     ]
    },
    {
     "name": "stdout",
     "output_type": "stream",
     "text": [
      "[CV]  clf__C=0.01, feat_proc__k_cat=1, feat_proc__k_num=1, feat_proc__max_corr=1, score=-0.571, total=   0.4s\n",
      "[CV] clf__C=0.1, feat_proc__k_cat=1, feat_proc__k_num=1, feat_proc__max_corr=1 \n"
     ]
    },
    {
     "name": "stderr",
     "output_type": "stream",
     "text": [
      "[Parallel(n_jobs=1)]: Done   1 out of   1 | elapsed:    0.3s remaining:    0.0s\n"
     ]
    },
    {
     "name": "stdout",
     "output_type": "stream",
     "text": [
      "[CV]  clf__C=0.1, feat_proc__k_cat=1, feat_proc__k_num=1, feat_proc__max_corr=1, score=-0.570, total=   0.8s\n",
      "[CV] clf__C=1, feat_proc__k_cat=1, feat_proc__k_num=1, feat_proc__max_corr=1 \n"
     ]
    },
    {
     "name": "stderr",
     "output_type": "stream",
     "text": [
      "[Parallel(n_jobs=1)]: Done   2 out of   2 | elapsed:    1.1s remaining:    0.0s\n"
     ]
    },
    {
     "name": "stdout",
     "output_type": "stream",
     "text": [
      "[CV]  clf__C=1, feat_proc__k_cat=1, feat_proc__k_num=1, feat_proc__max_corr=1, score=-0.571, total=   9.9s\n"
     ]
    },
    {
     "name": "stderr",
     "output_type": "stream",
     "text": [
      "[Parallel(n_jobs=1)]: Done   3 out of   3 | elapsed:   11.0s remaining:    0.0s\n",
      "[Parallel(n_jobs=1)]: Done   3 out of   3 | elapsed:   11.0s finished\n"
     ]
    }
   ],
   "source": [
    "model = LogisticRegression(penalty=\"l1\", solver=\"liblinear\", class_weight={0:1, 1:5})\n",
    "param_grid = {'clf__C': [0.01, 0.1, 1],\n",
    "              'feat_proc__max_corr': [1],\n",
    "              'feat_proc__k_num': [1],\n",
    "              'feat_proc__k_cat': [1]\n",
    "             }\n",
    "pipe = fit_model(model, param_grid, X_train, y_train, X_val, y_val, fit_to_val=False)"
   ]
  },
  {
   "cell_type": "code",
   "execution_count": 25,
   "metadata": {},
   "outputs": [
    {
     "data": {
      "text/plain": [
       "Pipeline(steps=[('feat_proc', FeatureSelection()),\n",
       "                ('clf',\n",
       "                 LogisticRegression(C=0.1, class_weight={0: 1, 1: 5},\n",
       "                                    penalty='l1', solver='liblinear'))])"
      ]
     },
     "execution_count": 25,
     "metadata": {},
     "output_type": "execute_result"
    }
   ],
   "source": [
    "pipe"
   ]
  },
  {
   "cell_type": "code",
   "execution_count": 26,
   "metadata": {},
   "outputs": [
    {
     "data": {
      "text/plain": [
       "{'Log loss': 0.5703732316224491,\n",
       " 'Brier score': 0.19229114874627118,\n",
       " 'Average precision (PR-AUC)': 0.19145563512138528,\n",
       " 'ROC-AUC': 0.5863469049192157,\n",
       " 'EMC (C=1)': 1128,\n",
       " 'EMC (C=5)': 2356,\n",
       " 'EMC (C=10)': 3891,\n",
       " 'EMC (C=50)': 16171}"
      ]
     },
     "metadata": {},
     "output_type": "display_data"
    },
    {
     "name": "stdout",
     "output_type": "stream",
     "text": [
      "              precision    recall  f1-score   support\n",
      "\n",
      "           0       0.90      0.76      0.83      3482\n",
      "           1       0.21      0.41      0.27       519\n",
      "\n",
      "    accuracy                           0.72      4001\n",
      "   macro avg       0.55      0.59      0.55      4001\n",
      "weighted avg       0.81      0.72      0.75      4001\n",
      "\n"
     ]
    },
    {
     "data": {
      "image/png": "[encoded data removed]",
      "text/plain": [
       "<Figure size 864x288 with 2 Axes>"
      ]
     },
     "metadata": {
      "needs_background": "light"
     },
     "output_type": "display_data"
    }
   ],
   "source": [
    "eval_model(pipe, X_val, y_val)"
   ]
  },
  {
   "cell_type": "markdown",
   "metadata": {},
   "source": [
    "Results across all metrics are very similar to the previous logistic regression model.\n",
    "\n",
    "Let's inspect the coefficients."
   ]
  },
  {
   "cell_type": "code",
   "execution_count": 27,
   "metadata": {
    "scrolled": true
   },
   "outputs": [
    {
     "data": {
      "text/html": [
       "<div>\n",
       "<style scoped>\n",
       "    .dataframe tbody tr th:only-of-type {\n",
       "        vertical-align: middle;\n",
       "    }\n",
       "\n",
       "    .dataframe tbody tr th {\n",
       "        vertical-align: top;\n",
       "    }\n",
       "\n",
       "    .dataframe thead th {\n",
       "        text-align: right;\n",
       "    }\n",
       "</style>\n",
       "<table border=\"1\" class=\"dataframe\">\n",
       "  <thead>\n",
       "    <tr style=\"text-align: right;\">\n",
       "      <th></th>\n",
       "      <th>feature</th>\n",
       "      <th>coef</th>\n",
       "    </tr>\n",
       "  </thead>\n",
       "  <tbody>\n",
       "    <tr>\n",
       "      <th>68</th>\n",
       "      <td>zip_code</td>\n",
       "      <td>0.608</td>\n",
       "    </tr>\n",
       "    <tr>\n",
       "      <th>64</th>\n",
       "      <td>loan_amnt</td>\n",
       "      <td>0.186</td>\n",
       "    </tr>\n",
       "    <tr>\n",
       "      <th>117</th>\n",
       "      <td>total_bal_ex_mort</td>\n",
       "      <td>0.171</td>\n",
       "    </tr>\n",
       "    <tr>\n",
       "      <th>114</th>\n",
       "      <td>percent_bc_gt_75</td>\n",
       "      <td>0.149</td>\n",
       "    </tr>\n",
       "    <tr>\n",
       "      <th>69</th>\n",
       "      <td>dti</td>\n",
       "      <td>0.145</td>\n",
       "    </tr>\n",
       "    <tr>\n",
       "      <th>...</th>\n",
       "      <td>...</td>\n",
       "      <td>...</td>\n",
       "    </tr>\n",
       "    <tr>\n",
       "      <th>104</th>\n",
       "      <td>num_il_tl</td>\n",
       "      <td>-0.115</td>\n",
       "    </tr>\n",
       "    <tr>\n",
       "      <th>100</th>\n",
       "      <td>num_actv_bc_tl</td>\n",
       "      <td>-0.136</td>\n",
       "    </tr>\n",
       "    <tr>\n",
       "      <th>72</th>\n",
       "      <td>fico_range_low</td>\n",
       "      <td>-0.161</td>\n",
       "    </tr>\n",
       "    <tr>\n",
       "      <th>119</th>\n",
       "      <td>total_il_high_credit_limit</td>\n",
       "      <td>-0.260</td>\n",
       "    </tr>\n",
       "    <tr>\n",
       "      <th>66</th>\n",
       "      <td>annual_inc</td>\n",
       "      <td>-0.304</td>\n",
       "    </tr>\n",
       "  </tbody>\n",
       "</table>\n",
       "<p>120 rows × 2 columns</p>\n",
       "</div>"
      ],
      "text/plain": [
       "                        feature   coef\n",
       "68                     zip_code  0.608\n",
       "64                    loan_amnt  0.186\n",
       "117           total_bal_ex_mort  0.171\n",
       "114            percent_bc_gt_75  0.149\n",
       "69                          dti  0.145\n",
       "..                          ...    ...\n",
       "104                   num_il_tl -0.115\n",
       "100              num_actv_bc_tl -0.136\n",
       "72               fico_range_low -0.161\n",
       "119  total_il_high_credit_limit -0.260\n",
       "66                   annual_inc -0.304\n",
       "\n",
       "[120 rows x 2 columns]"
      ]
     },
     "execution_count": 27,
     "metadata": {},
     "output_type": "execute_result"
    }
   ],
   "source": [
    "x = np.round(pipe[\"clf\"].coef_, 3).reshape(-1)\n",
    "y = pipe['feat_proc'].all_cols\n",
    "pd.DataFrame({\"feature\":y, \"coef\":x}).sort_values(\"coef\", ascending=False)"
   ]
  },
  {
   "cell_type": "markdown",
   "metadata": {},
   "source": [
    "We can see `zip_code` is extremely important. Note: we may want to be concerned of overfitting since this was a feature we used target encoding on. Higher values for loan amount, total credit balance excluding mortgage, and DTI all correspond to increase chance of default. In particular, a 1 unit increase in DTI corresponds to a $e^(0.145) = 1.15$ times increase in likelihood of default.\n",
    "\n",
    "For negative coefficients, we see borrowers with higher annual income and higher credit score are less likely to default."
   ]
  },
  {
   "cell_type": "markdown",
   "metadata": {},
   "source": [
    "### KNN\n",
    "Since KNN does not ahve a `class_weight` parameter, we use random undersampling to help it learn the minority class."
   ]
  },
  {
   "cell_type": "code",
   "execution_count": 35,
   "metadata": {},
   "outputs": [
    {
     "name": "stdout",
     "output_type": "stream",
     "text": [
      "Fitting 1 folds for each of 8 candidates, totalling 8 fits\n",
      "[CV] clf__n_neighbors=10, feat_proc__k_cat=0.6, feat_proc__k_num=0.6, feat_proc__max_corr=0.6 \n"
     ]
    },
    {
     "name": "stderr",
     "output_type": "stream",
     "text": [
      "[Parallel(n_jobs=1)]: Using backend SequentialBackend with 1 concurrent workers.\n"
     ]
    },
    {
     "name": "stdout",
     "output_type": "stream",
     "text": [
      "[CV]  clf__n_neighbors=10, feat_proc__k_cat=0.6, feat_proc__k_num=0.6, feat_proc__max_corr=0.6, score=-0.668, total=   2.1s\n",
      "[CV] clf__n_neighbors=10, feat_proc__k_cat=0.6, feat_proc__k_num=0.6, feat_proc__max_corr=1 \n"
     ]
    },
    {
     "name": "stderr",
     "output_type": "stream",
     "text": [
      "[Parallel(n_jobs=1)]: Done   1 out of   1 | elapsed:    2.0s remaining:    0.0s\n"
     ]
    },
    {
     "name": "stdout",
     "output_type": "stream",
     "text": [
      "[CV]  clf__n_neighbors=10, feat_proc__k_cat=0.6, feat_proc__k_num=0.6, feat_proc__max_corr=1, score=-0.721, total=   2.3s\n",
      "[CV] clf__n_neighbors=10, feat_proc__k_cat=0.6, feat_proc__k_num=1, feat_proc__max_corr=0.6 \n"
     ]
    },
    {
     "name": "stderr",
     "output_type": "stream",
     "text": [
      "[Parallel(n_jobs=1)]: Done   2 out of   2 | elapsed:    4.3s remaining:    0.0s\n"
     ]
    },
    {
     "name": "stdout",
     "output_type": "stream",
     "text": [
      "[CV]  clf__n_neighbors=10, feat_proc__k_cat=0.6, feat_proc__k_num=1, feat_proc__max_corr=0.6, score=-0.714, total=   2.4s\n",
      "[CV] clf__n_neighbors=10, feat_proc__k_cat=0.6, feat_proc__k_num=1, feat_proc__max_corr=1 \n"
     ]
    },
    {
     "name": "stderr",
     "output_type": "stream",
     "text": [
      "[Parallel(n_jobs=1)]: Done   3 out of   3 | elapsed:    6.7s remaining:    0.0s\n"
     ]
    },
    {
     "name": "stdout",
     "output_type": "stream",
     "text": [
      "[CV]  clf__n_neighbors=10, feat_proc__k_cat=0.6, feat_proc__k_num=1, feat_proc__max_corr=1, score=-0.649, total=   2.9s\n",
      "[CV] clf__n_neighbors=10, feat_proc__k_cat=1, feat_proc__k_num=0.6, feat_proc__max_corr=0.6 \n"
     ]
    },
    {
     "name": "stderr",
     "output_type": "stream",
     "text": [
      "[Parallel(n_jobs=1)]: Done   4 out of   4 | elapsed:    9.6s remaining:    0.0s\n"
     ]
    },
    {
     "name": "stdout",
     "output_type": "stream",
     "text": [
      "[CV]  clf__n_neighbors=10, feat_proc__k_cat=1, feat_proc__k_num=0.6, feat_proc__max_corr=0.6, score=-0.718, total=   2.8s\n",
      "[CV] clf__n_neighbors=10, feat_proc__k_cat=1, feat_proc__k_num=0.6, feat_proc__max_corr=1 \n"
     ]
    },
    {
     "name": "stderr",
     "output_type": "stream",
     "text": [
      "[Parallel(n_jobs=1)]: Done   5 out of   5 | elapsed:   12.3s remaining:    0.0s\n"
     ]
    },
    {
     "name": "stdout",
     "output_type": "stream",
     "text": [
      "[CV]  clf__n_neighbors=10, feat_proc__k_cat=1, feat_proc__k_num=0.6, feat_proc__max_corr=1, score=-0.668, total=   3.0s\n",
      "[CV] clf__n_neighbors=10, feat_proc__k_cat=1, feat_proc__k_num=1, feat_proc__max_corr=0.6 \n"
     ]
    },
    {
     "name": "stderr",
     "output_type": "stream",
     "text": [
      "[Parallel(n_jobs=1)]: Done   6 out of   6 | elapsed:   15.3s remaining:    0.0s\n"
     ]
    },
    {
     "name": "stdout",
     "output_type": "stream",
     "text": [
      "[CV]  clf__n_neighbors=10, feat_proc__k_cat=1, feat_proc__k_num=1, feat_proc__max_corr=0.6, score=-0.711, total=   3.1s\n",
      "[CV] clf__n_neighbors=10, feat_proc__k_cat=1, feat_proc__k_num=1, feat_proc__max_corr=1 \n"
     ]
    },
    {
     "name": "stderr",
     "output_type": "stream",
     "text": [
      "[Parallel(n_jobs=1)]: Done   7 out of   7 | elapsed:   18.5s remaining:    0.0s\n"
     ]
    },
    {
     "name": "stdout",
     "output_type": "stream",
     "text": [
      "[CV]  clf__n_neighbors=10, feat_proc__k_cat=1, feat_proc__k_num=1, feat_proc__max_corr=1, score=-0.677, total=   3.8s\n"
     ]
    },
    {
     "name": "stderr",
     "output_type": "stream",
     "text": [
      "[Parallel(n_jobs=1)]: Done   8 out of   8 | elapsed:   22.2s remaining:    0.0s\n",
      "[Parallel(n_jobs=1)]: Done   8 out of   8 | elapsed:   22.2s finished\n"
     ]
    }
   ],
   "source": [
    "model = KNeighborsClassifier()\n",
    "param_grid = {'feat_proc__max_corr': [0.6, 1],\n",
    "              'feat_proc__k_num': [0.6, 1],\n",
    "              'feat_proc__k_cat': [0.6, 1],\n",
    "              'clf__n_neighbors': [10]\n",
    "             }\n",
    "sm = RandomUnderSampler(sampling_strategy=0.8) # if sampling strategy is float then it represents #minority/#majority\n",
    "pipe = fit_model(model, param_grid, X_train, y_train, X_val, y_val, sm=sm, fit_to_val=False)"
   ]
  },
  {
   "cell_type": "code",
   "execution_count": 36,
   "metadata": {},
   "outputs": [
    {
     "data": {
      "text/plain": [
       "Pipeline(steps=[('feat_proc', FeatureSelection(k_cat=0.6)),\n",
       "                ('sampling', RandomUnderSampler(sampling_strategy=0.8)),\n",
       "                ('clf', KNeighborsClassifier(n_neighbors=10))])"
      ]
     },
     "execution_count": 36,
     "metadata": {},
     "output_type": "execute_result"
    }
   ],
   "source": [
    "pipe"
   ]
  },
  {
   "cell_type": "code",
   "execution_count": 37,
   "metadata": {},
   "outputs": [
    {
     "data": {
      "text/plain": [
       "{'Log loss': 0.6681039375199911,\n",
       " 'Brier score': 0.21979255186203447,\n",
       " 'Average precision (PR-AUC)': 0.15099317656290914,\n",
       " 'ROC-AUC': 0.5341384095911923,\n",
       " 'EMC (C=1)': 1189,\n",
       " 'EMC (C=5)': 2629,\n",
       " 'EMC (C=10)': 4429,\n",
       " 'EMC (C=50)': 18829}"
      ]
     },
     "metadata": {},
     "output_type": "display_data"
    },
    {
     "name": "stdout",
     "output_type": "stream",
     "text": [
      "              precision    recall  f1-score   support\n",
      "\n",
      "           0       0.88      0.76      0.82      3482\n",
      "           1       0.16      0.31      0.21       519\n",
      "\n",
      "    accuracy                           0.70      4001\n",
      "   macro avg       0.52      0.53      0.51      4001\n",
      "weighted avg       0.79      0.70      0.74      4001\n",
      "\n"
     ]
    },
    {
     "data": {
      "image/png": "[encoded data removed]",
      "text/plain": [
       "<Figure size 864x288 with 2 Axes>"
      ]
     },
     "metadata": {
      "needs_background": "light"
     },
     "output_type": "display_data"
    }
   ],
   "source": [
    "eval_model(pipe, X_val, y_val)"
   ]
  },
  {
   "cell_type": "markdown",
   "metadata": {},
   "source": [
    "The KNN model performs worse on all metrics."
   ]
  },
  {
   "cell_type": "markdown",
   "metadata": {},
   "source": [
    "### Random forest\n",
    "We again use the `class_weight` parameter. When doing grid search with random forest we found that decreasing `feat_proc_k_cat` (i.e. removing a higher fraction of categorical features) lead to better performance. We also found that a higher `class_weight` for the minority class was needed -- compared to logistic regression -- for the RF model to learn the minority class."
   ]
  },
  {
   "cell_type": "code",
   "execution_count": 47,
   "metadata": {},
   "outputs": [
    {
     "name": "stdout",
     "output_type": "stream",
     "text": [
      "Fitting 1 folds for each of 4 candidates, totalling 4 fits\n",
      "[CV] clf__max_depth=10, clf__min_samples_split=2, clf__n_estimators=100, feat_proc__k_cat=0.5, feat_proc__k_num=1, feat_proc__max_corr=1 \n"
     ]
    },
    {
     "name": "stderr",
     "output_type": "stream",
     "text": [
      "[Parallel(n_jobs=1)]: Using backend SequentialBackend with 1 concurrent workers.\n"
     ]
    },
    {
     "name": "stdout",
     "output_type": "stream",
     "text": [
      "[CV]  clf__max_depth=10, clf__min_samples_split=2, clf__n_estimators=100, feat_proc__k_cat=0.5, feat_proc__k_num=1, feat_proc__max_corr=1, score=-0.853, total=   3.0s\n",
      "[CV] clf__max_depth=10, clf__min_samples_split=2, clf__n_estimators=150, feat_proc__k_cat=0.5, feat_proc__k_num=1, feat_proc__max_corr=1 \n"
     ]
    },
    {
     "name": "stderr",
     "output_type": "stream",
     "text": [
      "[Parallel(n_jobs=1)]: Done   1 out of   1 | elapsed:    2.9s remaining:    0.0s\n"
     ]
    },
    {
     "name": "stdout",
     "output_type": "stream",
     "text": [
      "[CV]  clf__max_depth=10, clf__min_samples_split=2, clf__n_estimators=150, feat_proc__k_cat=0.5, feat_proc__k_num=1, feat_proc__max_corr=1, score=-0.845, total=   4.3s\n",
      "[CV] clf__max_depth=20, clf__min_samples_split=2, clf__n_estimators=100, feat_proc__k_cat=0.5, feat_proc__k_num=1, feat_proc__max_corr=1 \n"
     ]
    },
    {
     "name": "stderr",
     "output_type": "stream",
     "text": [
      "[Parallel(n_jobs=1)]: Done   2 out of   2 | elapsed:    7.1s remaining:    0.0s\n"
     ]
    },
    {
     "name": "stdout",
     "output_type": "stream",
     "text": [
      "[CV]  clf__max_depth=20, clf__min_samples_split=2, clf__n_estimators=100, feat_proc__k_cat=0.5, feat_proc__k_num=1, feat_proc__max_corr=1, score=-0.496, total=   4.3s\n",
      "[CV] clf__max_depth=20, clf__min_samples_split=2, clf__n_estimators=150, feat_proc__k_cat=0.5, feat_proc__k_num=1, feat_proc__max_corr=1 \n"
     ]
    },
    {
     "name": "stderr",
     "output_type": "stream",
     "text": [
      "[Parallel(n_jobs=1)]: Done   3 out of   3 | elapsed:   11.5s remaining:    0.0s\n"
     ]
    },
    {
     "name": "stdout",
     "output_type": "stream",
     "text": [
      "[CV]  clf__max_depth=20, clf__min_samples_split=2, clf__n_estimators=150, feat_proc__k_cat=0.5, feat_proc__k_num=1, feat_proc__max_corr=1, score=-0.491, total=   6.3s\n"
     ]
    },
    {
     "name": "stderr",
     "output_type": "stream",
     "text": [
      "[Parallel(n_jobs=1)]: Done   4 out of   4 | elapsed:   17.8s remaining:    0.0s\n",
      "[Parallel(n_jobs=1)]: Done   4 out of   4 | elapsed:   17.8s finished\n"
     ]
    }
   ],
   "source": [
    "model = RandomForestClassifier(class_weight={0:1, 1:20})\n",
    "param_grid = {'feat_proc__max_corr': [1],\n",
    "              'feat_proc__k_num': [1],\n",
    "              'feat_proc__k_cat': [0.5],\n",
    "              'clf__n_estimators': [100, 150],\n",
    "              'clf__max_depth': [10, 20],\n",
    "              'clf__min_samples_split': [2]\n",
    "             }\n",
    "pipe = fit_model(model, param_grid, X_train, y_train, X_val, y_val, fit_to_val=False)"
   ]
  },
  {
   "cell_type": "code",
   "execution_count": 50,
   "metadata": {},
   "outputs": [
    {
     "data": {
      "text/plain": [
       "Pipeline(steps=[('feat_proc', FeatureSelection(k_cat=0.5)),\n",
       "                ('clf',\n",
       "                 RandomForestClassifier(class_weight={0: 1, 1: 20},\n",
       "                                        max_depth=20, n_estimators=150))])"
      ]
     },
     "execution_count": 50,
     "metadata": {},
     "output_type": "execute_result"
    }
   ],
   "source": [
    "pipe"
   ]
  },
  {
   "cell_type": "code",
   "execution_count": 51,
   "metadata": {
    "scrolled": false
   },
   "outputs": [
    {
     "data": {
      "text/plain": [
       "{'Log loss': 0.49444355125040323,\n",
       " 'Brier score': 0.15774611922246945,\n",
       " 'Average precision (PR-AUC)': 0.17821162403249632,\n",
       " 'ROC-AUC': 0.5475008272657953,\n",
       " 'EMC (C=1)': 879,\n",
       " 'EMC (C=5)': 2471,\n",
       " 'EMC (C=10)': 4461,\n",
       " 'EMC (C=50)': 20381}"
      ]
     },
     "metadata": {},
     "output_type": "display_data"
    },
    {
     "name": "stdout",
     "output_type": "stream",
     "text": [
      "              precision    recall  f1-score   support\n",
      "\n",
      "           0       0.88      0.86      0.87      3482\n",
      "           1       0.20      0.23      0.22       519\n",
      "\n",
      "    accuracy                           0.78      4001\n",
      "   macro avg       0.54      0.55      0.54      4001\n",
      "weighted avg       0.79      0.78      0.79      4001\n",
      "\n"
     ]
    },
    {
     "data": {
      "image/png": "[encoded data removed]",
      "text/plain": [
       "<Figure size 864x288 with 2 Axes>"
      ]
     },
     "metadata": {
      "needs_background": "light"
     },
     "output_type": "display_data"
    }
   ],
   "source": [
    "eval_model(pipe, X_val, y_val)"
   ]
  },
  {
   "cell_type": "markdown",
   "metadata": {},
   "source": [
    "Performance seems to be slightly worse than the logistic regression model."
   ]
  },
  {
   "cell_type": "markdown",
   "metadata": {},
   "source": [
    "### XGBoost\n",
    "Since XGBoost has a lot of *important* parameters, we use `RandomizedSearchCV` rather than `GridSearchCV`. A better method would be to use an optimized hyperparameter-optimization package like \"hypopt\"."
   ]
  },
  {
   "cell_type": "code",
   "execution_count": 60,
   "metadata": {},
   "outputs": [
    {
     "name": "stdout",
     "output_type": "stream",
     "text": [
      "Fitting 1 folds for each of 10 candidates, totalling 10 fits\n",
      "[CV] feat_proc__max_corr=1, feat_proc__k_num=1, feat_proc__k_cat=1, clf__subsample=0.6, clf__min_child_weight=5, clf__max_depth=5, clf__gamma=2, clf__colsample_bytree=0.6 \n"
     ]
    },
    {
     "name": "stderr",
     "output_type": "stream",
     "text": [
      "[Parallel(n_jobs=1)]: Using backend SequentialBackend with 1 concurrent workers.\n"
     ]
    },
    {
     "name": "stdout",
     "output_type": "stream",
     "text": [
      "[17:56:57] WARNING: C:/Users/Administrator/workspace/xgboost-win64_release_1.3.0/src/learner.cc:1061: Starting in XGBoost 1.3.0, the default evaluation metric used with the objective 'binary:logistic' was changed from 'error' to 'logloss'. Explicitly set eval_metric if you'd like to restore the old behavior.\n",
      "[CV]  feat_proc__max_corr=1, feat_proc__k_num=1, feat_proc__k_cat=1, clf__subsample=0.6, clf__min_child_weight=5, clf__max_depth=5, clf__gamma=2, clf__colsample_bytree=0.6, score=-0.559, total=   2.0s\n",
      "[CV] feat_proc__max_corr=1, feat_proc__k_num=1, feat_proc__k_cat=1, clf__subsample=0.6, clf__min_child_weight=5, clf__max_depth=5, clf__gamma=1.5, clf__colsample_bytree=0.6 \n"
     ]
    },
    {
     "name": "stderr",
     "output_type": "stream",
     "text": [
      "[Parallel(n_jobs=1)]: Done   1 out of   1 | elapsed:    1.9s remaining:    0.0s\n"
     ]
    },
    {
     "name": "stdout",
     "output_type": "stream",
     "text": [
      "[17:56:59] WARNING: C:/Users/Administrator/workspace/xgboost-win64_release_1.3.0/src/learner.cc:1061: Starting in XGBoost 1.3.0, the default evaluation metric used with the objective 'binary:logistic' was changed from 'error' to 'logloss'. Explicitly set eval_metric if you'd like to restore the old behavior.\n",
      "[CV]  feat_proc__max_corr=1, feat_proc__k_num=1, feat_proc__k_cat=1, clf__subsample=0.6, clf__min_child_weight=5, clf__max_depth=5, clf__gamma=1.5, clf__colsample_bytree=0.6, score=-0.559, total=   2.0s\n",
      "[CV] feat_proc__max_corr=1, feat_proc__k_num=1, feat_proc__k_cat=1, clf__subsample=1.0, clf__min_child_weight=5, clf__max_depth=4, clf__gamma=1, clf__colsample_bytree=0.8 \n"
     ]
    },
    {
     "name": "stderr",
     "output_type": "stream",
     "text": [
      "[Parallel(n_jobs=1)]: Done   2 out of   2 | elapsed:    3.9s remaining:    0.0s\n"
     ]
    },
    {
     "name": "stdout",
     "output_type": "stream",
     "text": [
      "[17:57:01] WARNING: C:/Users/Administrator/workspace/xgboost-win64_release_1.3.0/src/learner.cc:1061: Starting in XGBoost 1.3.0, the default evaluation metric used with the objective 'binary:logistic' was changed from 'error' to 'logloss'. Explicitly set eval_metric if you'd like to restore the old behavior.\n",
      "[CV]  feat_proc__max_corr=1, feat_proc__k_num=1, feat_proc__k_cat=1, clf__subsample=1.0, clf__min_child_weight=5, clf__max_depth=4, clf__gamma=1, clf__colsample_bytree=0.8, score=-0.579, total=   1.8s\n",
      "[CV] feat_proc__max_corr=1, feat_proc__k_num=1, feat_proc__k_cat=1, clf__subsample=0.6, clf__min_child_weight=5, clf__max_depth=3, clf__gamma=1, clf__colsample_bytree=0.6 \n"
     ]
    },
    {
     "name": "stderr",
     "output_type": "stream",
     "text": [
      "[Parallel(n_jobs=1)]: Done   3 out of   3 | elapsed:    5.7s remaining:    0.0s\n"
     ]
    },
    {
     "name": "stdout",
     "output_type": "stream",
     "text": [
      "[17:57:03] WARNING: C:/Users/Administrator/workspace/xgboost-win64_release_1.3.0/src/learner.cc:1061: Starting in XGBoost 1.3.0, the default evaluation metric used with the objective 'binary:logistic' was changed from 'error' to 'logloss'. Explicitly set eval_metric if you'd like to restore the old behavior.\n",
      "[CV]  feat_proc__max_corr=1, feat_proc__k_num=1, feat_proc__k_cat=1, clf__subsample=0.6, clf__min_child_weight=5, clf__max_depth=3, clf__gamma=1, clf__colsample_bytree=0.6, score=-0.577, total=   1.5s\n",
      "[CV] feat_proc__max_corr=1, feat_proc__k_num=1, feat_proc__k_cat=1, clf__subsample=0.6, clf__min_child_weight=10, clf__max_depth=3, clf__gamma=2, clf__colsample_bytree=1.0 \n"
     ]
    },
    {
     "name": "stderr",
     "output_type": "stream",
     "text": [
      "[Parallel(n_jobs=1)]: Done   4 out of   4 | elapsed:    7.1s remaining:    0.0s\n"
     ]
    },
    {
     "name": "stdout",
     "output_type": "stream",
     "text": [
      "[17:57:04] WARNING: C:/Users/Administrator/workspace/xgboost-win64_release_1.3.0/src/learner.cc:1061: Starting in XGBoost 1.3.0, the default evaluation metric used with the objective 'binary:logistic' was changed from 'error' to 'logloss'. Explicitly set eval_metric if you'd like to restore the old behavior.\n",
      "[CV]  feat_proc__max_corr=1, feat_proc__k_num=1, feat_proc__k_cat=1, clf__subsample=0.6, clf__min_child_weight=10, clf__max_depth=3, clf__gamma=2, clf__colsample_bytree=1.0, score=-0.582, total=   1.8s\n",
      "[CV] feat_proc__max_corr=1, feat_proc__k_num=1, feat_proc__k_cat=1, clf__subsample=1.0, clf__min_child_weight=5, clf__max_depth=5, clf__gamma=1.5, clf__colsample_bytree=1.0 \n"
     ]
    },
    {
     "name": "stderr",
     "output_type": "stream",
     "text": [
      "[Parallel(n_jobs=1)]: Done   5 out of   5 | elapsed:    8.9s remaining:    0.0s\n"
     ]
    },
    {
     "name": "stdout",
     "output_type": "stream",
     "text": [
      "[17:57:06] WARNING: C:/Users/Administrator/workspace/xgboost-win64_release_1.3.0/src/learner.cc:1061: Starting in XGBoost 1.3.0, the default evaluation metric used with the objective 'binary:logistic' was changed from 'error' to 'logloss'. Explicitly set eval_metric if you'd like to restore the old behavior.\n",
      "[CV]  feat_proc__max_corr=1, feat_proc__k_num=1, feat_proc__k_cat=1, clf__subsample=1.0, clf__min_child_weight=5, clf__max_depth=5, clf__gamma=1.5, clf__colsample_bytree=1.0, score=-0.576, total=   4.3s\n",
      "[CV] feat_proc__max_corr=1, feat_proc__k_num=1, feat_proc__k_cat=1, clf__subsample=0.8, clf__min_child_weight=1, clf__max_depth=5, clf__gamma=0.5, clf__colsample_bytree=0.8 \n"
     ]
    },
    {
     "name": "stderr",
     "output_type": "stream",
     "text": [
      "[Parallel(n_jobs=1)]: Done   6 out of   6 | elapsed:   13.3s remaining:    0.0s\n"
     ]
    },
    {
     "name": "stdout",
     "output_type": "stream",
     "text": [
      "[17:57:10] WARNING: C:/Users/Administrator/workspace/xgboost-win64_release_1.3.0/src/learner.cc:1061: Starting in XGBoost 1.3.0, the default evaluation metric used with the objective 'binary:logistic' was changed from 'error' to 'logloss'. Explicitly set eval_metric if you'd like to restore the old behavior.\n",
      "[CV]  feat_proc__max_corr=1, feat_proc__k_num=1, feat_proc__k_cat=1, clf__subsample=0.8, clf__min_child_weight=1, clf__max_depth=5, clf__gamma=0.5, clf__colsample_bytree=0.8, score=-0.566, total=   2.7s\n",
      "[CV] feat_proc__max_corr=1, feat_proc__k_num=1, feat_proc__k_cat=1, clf__subsample=0.6, clf__min_child_weight=1, clf__max_depth=5, clf__gamma=0.5, clf__colsample_bytree=0.8 \n"
     ]
    },
    {
     "name": "stderr",
     "output_type": "stream",
     "text": [
      "[Parallel(n_jobs=1)]: Done   7 out of   7 | elapsed:   16.0s remaining:    0.0s\n"
     ]
    },
    {
     "name": "stdout",
     "output_type": "stream",
     "text": [
      "[17:57:13] WARNING: C:/Users/Administrator/workspace/xgboost-win64_release_1.3.0/src/learner.cc:1061: Starting in XGBoost 1.3.0, the default evaluation metric used with the objective 'binary:logistic' was changed from 'error' to 'logloss'. Explicitly set eval_metric if you'd like to restore the old behavior.\n",
      "[CV]  feat_proc__max_corr=1, feat_proc__k_num=1, feat_proc__k_cat=1, clf__subsample=0.6, clf__min_child_weight=1, clf__max_depth=5, clf__gamma=0.5, clf__colsample_bytree=0.8, score=-0.565, total=   2.5s\n",
      "[CV] feat_proc__max_corr=1, feat_proc__k_num=1, feat_proc__k_cat=1, clf__subsample=0.6, clf__min_child_weight=10, clf__max_depth=3, clf__gamma=1.5, clf__colsample_bytree=1.0 \n"
     ]
    },
    {
     "name": "stderr",
     "output_type": "stream",
     "text": [
      "[Parallel(n_jobs=1)]: Done   8 out of   8 | elapsed:   18.5s remaining:    0.0s\n"
     ]
    },
    {
     "name": "stdout",
     "output_type": "stream",
     "text": [
      "[17:57:16] WARNING: C:/Users/Administrator/workspace/xgboost-win64_release_1.3.0/src/learner.cc:1061: Starting in XGBoost 1.3.0, the default evaluation metric used with the objective 'binary:logistic' was changed from 'error' to 'logloss'. Explicitly set eval_metric if you'd like to restore the old behavior.\n",
      "[CV]  feat_proc__max_corr=1, feat_proc__k_num=1, feat_proc__k_cat=1, clf__subsample=0.6, clf__min_child_weight=10, clf__max_depth=3, clf__gamma=1.5, clf__colsample_bytree=1.0, score=-0.582, total=   3.7s\n",
      "[CV] feat_proc__max_corr=1, feat_proc__k_num=1, feat_proc__k_cat=1, clf__subsample=0.8, clf__min_child_weight=5, clf__max_depth=5, clf__gamma=0.5, clf__colsample_bytree=0.8 \n"
     ]
    },
    {
     "name": "stderr",
     "output_type": "stream",
     "text": [
      "[Parallel(n_jobs=1)]: Done   9 out of   9 | elapsed:   22.2s remaining:    0.0s\n"
     ]
    },
    {
     "name": "stdout",
     "output_type": "stream",
     "text": [
      "[17:57:19] WARNING: C:/Users/Administrator/workspace/xgboost-win64_release_1.3.0/src/learner.cc:1061: Starting in XGBoost 1.3.0, the default evaluation metric used with the objective 'binary:logistic' was changed from 'error' to 'logloss'. Explicitly set eval_metric if you'd like to restore the old behavior.\n",
      "[CV]  feat_proc__max_corr=1, feat_proc__k_num=1, feat_proc__k_cat=1, clf__subsample=0.8, clf__min_child_weight=5, clf__max_depth=5, clf__gamma=0.5, clf__colsample_bytree=0.8, score=-0.567, total=   2.3s\n"
     ]
    },
    {
     "name": "stderr",
     "output_type": "stream",
     "text": [
      "[Parallel(n_jobs=1)]: Done  10 out of  10 | elapsed:   24.5s finished\n"
     ]
    },
    {
     "name": "stdout",
     "output_type": "stream",
     "text": [
      "[17:57:21] WARNING: C:/Users/Administrator/workspace/xgboost-win64_release_1.3.0/src/learner.cc:1061: Starting in XGBoost 1.3.0, the default evaluation metric used with the objective 'binary:logistic' was changed from 'error' to 'logloss'. Explicitly set eval_metric if you'd like to restore the old behavior.\n"
     ]
    }
   ],
   "source": [
    "model = XGBClassifier(learning_rate=0.02, objective='binary:logistic', scale_pos_weight=5)\n",
    "param_grid = {'feat_proc__max_corr': [1],\n",
    "              'feat_proc__k_num': [1],\n",
    "              'feat_proc__k_cat': [1],\n",
    "              'clf__min_child_weight': [1, 5, 10],\n",
    "              'clf__gamma': [0.5, 1, 1.5, 2, 5],\n",
    "              'clf__subsample': [0.6, 0.8, 1.0],\n",
    "              'clf__colsample_bytree': [0.6, 0.8, 1.0],\n",
    "              'clf__max_depth': [3, 4, 5]\n",
    "             }\n",
    "\n",
    "pipe = fit_model(model, param_grid, X_train, y_train, X_val, y_val, fit_to_val=False, random=True)"
   ]
  },
  {
   "cell_type": "code",
   "execution_count": 61,
   "metadata": {},
   "outputs": [
    {
     "data": {
      "text/plain": [
       "Pipeline(steps=[('feat_proc', FeatureSelection()),\n",
       "                ('clf',\n",
       "                 XGBClassifier(base_score=0.5, booster='gbtree',\n",
       "                               colsample_bylevel=1, colsample_bynode=1,\n",
       "                               colsample_bytree=0.6, gamma=2, gpu_id=-1,\n",
       "                               importance_type='gain',\n",
       "                               interaction_constraints='', learning_rate=0.02,\n",
       "                               max_delta_step=0, max_depth=5,\n",
       "                               min_child_weight=5, missing=nan,\n",
       "                               monotone_constraints='()', n_estimators=100,\n",
       "                               n_jobs=8, num_parallel_tree=1, random_state=0,\n",
       "                               reg_alpha=0, reg_lambda=1, scale_pos_weight=5,\n",
       "                               subsample=0.6, tree_method='exact',\n",
       "                               validate_parameters=1, verbosity=None))])"
      ]
     },
     "execution_count": 61,
     "metadata": {},
     "output_type": "execute_result"
    }
   ],
   "source": [
    "pipe"
   ]
  },
  {
   "cell_type": "code",
   "execution_count": 62,
   "metadata": {},
   "outputs": [
    {
     "data": {
      "text/plain": [
       "{'Log loss': 0.5590644733767544,\n",
       " 'Brier score': 0.18727757737562792,\n",
       " 'Average precision (PR-AUC)': 0.18599309052378654,\n",
       " 'ROC-AUC': 0.5711755695960176,\n",
       " 'EMC (C=1)': 1011,\n",
       " 'EMC (C=5)': 2395,\n",
       " 'EMC (C=10)': 4125,\n",
       " 'EMC (C=50)': 17965}"
      ]
     },
     "metadata": {},
     "output_type": "display_data"
    },
    {
     "name": "stdout",
     "output_type": "stream",
     "text": [
      "              precision    recall  f1-score   support\n",
      "\n",
      "           0       0.89      0.81      0.85      3482\n",
      "           1       0.21      0.33      0.25       519\n",
      "\n",
      "    accuracy                           0.75      4001\n",
      "   macro avg       0.55      0.57      0.55      4001\n",
      "weighted avg       0.80      0.75      0.77      4001\n",
      "\n"
     ]
    },
    {
     "data": {
      "image/png": "[encoded data removed]",
      "text/plain": [
       "<Figure size 864x288 with 2 Axes>"
      ]
     },
     "metadata": {
      "needs_background": "light"
     },
     "output_type": "display_data"
    }
   ],
   "source": [
    "eval_model(pipe, X_val, y_val)"
   ]
  },
  {
   "cell_type": "markdown",
   "metadata": {},
   "source": [
    "Performance is better than the random forest model but slightly worse than the logistic regression model."
   ]
  },
  {
   "cell_type": "markdown",
   "metadata": {},
   "source": [
    "### Neural network"
   ]
  },
  {
   "cell_type": "code",
   "execution_count": 64,
   "metadata": {},
   "outputs": [
    {
     "name": "stdout",
     "output_type": "stream",
     "text": [
      "Fitting 1 folds for each of 6 candidates, totalling 6 fits\n",
      "[CV] clf__alpha=0.1, clf__hidden_layer_sizes=(32,), feat_proc__k_cat=0.75, feat_proc__k_num=0.75, feat_proc__max_corr=0.75 \n"
     ]
    },
    {
     "name": "stderr",
     "output_type": "stream",
     "text": [
      "[Parallel(n_jobs=1)]: Using backend SequentialBackend with 1 concurrent workers.\n"
     ]
    },
    {
     "name": "stdout",
     "output_type": "stream",
     "text": [
      "[CV]  clf__alpha=0.1, clf__hidden_layer_sizes=(32,), feat_proc__k_cat=0.75, feat_proc__k_num=0.75, feat_proc__max_corr=0.75, score=-0.631, total=   5.9s\n",
      "[CV] clf__alpha=0.1, clf__hidden_layer_sizes=(32, 32), feat_proc__k_cat=0.75, feat_proc__k_num=0.75, feat_proc__max_corr=0.75 \n"
     ]
    },
    {
     "name": "stderr",
     "output_type": "stream",
     "text": [
      "[Parallel(n_jobs=1)]: Done   1 out of   1 | elapsed:    5.8s remaining:    0.0s\n"
     ]
    },
    {
     "name": "stdout",
     "output_type": "stream",
     "text": [
      "[CV]  clf__alpha=0.1, clf__hidden_layer_sizes=(32, 32), feat_proc__k_cat=0.75, feat_proc__k_num=0.75, feat_proc__max_corr=0.75, score=-1.004, total=   8.4s\n",
      "[CV] clf__alpha=0.1, clf__hidden_layer_sizes=(64,), feat_proc__k_cat=0.75, feat_proc__k_num=0.75, feat_proc__max_corr=0.75 \n"
     ]
    },
    {
     "name": "stderr",
     "output_type": "stream",
     "text": [
      "[Parallel(n_jobs=1)]: Done   2 out of   2 | elapsed:   14.2s remaining:    0.0s\n"
     ]
    },
    {
     "name": "stdout",
     "output_type": "stream",
     "text": [
      "[CV]  clf__alpha=0.1, clf__hidden_layer_sizes=(64,), feat_proc__k_cat=0.75, feat_proc__k_num=0.75, feat_proc__max_corr=0.75, score=-0.733, total=   8.1s\n",
      "[CV] clf__alpha=1, clf__hidden_layer_sizes=(32,), feat_proc__k_cat=0.75, feat_proc__k_num=0.75, feat_proc__max_corr=0.75 \n"
     ]
    },
    {
     "name": "stderr",
     "output_type": "stream",
     "text": [
      "[Parallel(n_jobs=1)]: Done   3 out of   3 | elapsed:   22.2s remaining:    0.0s\n"
     ]
    },
    {
     "name": "stdout",
     "output_type": "stream",
     "text": [
      "[CV]  clf__alpha=1, clf__hidden_layer_sizes=(32,), feat_proc__k_cat=0.75, feat_proc__k_num=0.75, feat_proc__max_corr=0.75, score=-0.516, total=   5.8s\n",
      "[CV] clf__alpha=1, clf__hidden_layer_sizes=(32, 32), feat_proc__k_cat=0.75, feat_proc__k_num=0.75, feat_proc__max_corr=0.75 \n"
     ]
    },
    {
     "name": "stderr",
     "output_type": "stream",
     "text": [
      "[Parallel(n_jobs=1)]: Done   4 out of   4 | elapsed:   28.0s remaining:    0.0s\n"
     ]
    },
    {
     "name": "stdout",
     "output_type": "stream",
     "text": [
      "[CV]  clf__alpha=1, clf__hidden_layer_sizes=(32, 32), feat_proc__k_cat=0.75, feat_proc__k_num=0.75, feat_proc__max_corr=0.75, score=-0.656, total=   9.1s\n",
      "[CV] clf__alpha=1, clf__hidden_layer_sizes=(64,), feat_proc__k_cat=0.75, feat_proc__k_num=0.75, feat_proc__max_corr=0.75 \n"
     ]
    },
    {
     "name": "stderr",
     "output_type": "stream",
     "text": [
      "[Parallel(n_jobs=1)]: Done   5 out of   5 | elapsed:   37.1s remaining:    0.0s\n"
     ]
    },
    {
     "name": "stdout",
     "output_type": "stream",
     "text": [
      "[CV]  clf__alpha=1, clf__hidden_layer_sizes=(64,), feat_proc__k_cat=0.75, feat_proc__k_num=0.75, feat_proc__max_corr=0.75, score=-0.528, total=   7.9s\n"
     ]
    },
    {
     "name": "stderr",
     "output_type": "stream",
     "text": [
      "[Parallel(n_jobs=1)]: Done   6 out of   6 | elapsed:   45.0s remaining:    0.0s\n",
      "[Parallel(n_jobs=1)]: Done   6 out of   6 | elapsed:   45.0s finished\n"
     ]
    }
   ],
   "source": [
    "model = MLPClassifier() \n",
    "param_grid = {'feat_proc__max_corr': [0.75],\n",
    "              'feat_proc__k_num': [0.75],\n",
    "              'feat_proc__k_cat': [0.75],\n",
    "              'clf__alpha': [0.1, 1], # higher alpha <--> higher regularization\n",
    "              'clf__hidden_layer_sizes': [(32,), (32,32), (64,)]\n",
    "             }\n",
    "sm = RandomUnderSampler(sampling_strategy=0.5)             \n",
    "pipe = fit_model(model, param_grid, X_train, y_train, X_val, y_val, sm=sm, fit_to_val=False)"
   ]
  },
  {
   "cell_type": "code",
   "execution_count": 66,
   "metadata": {
    "scrolled": true
   },
   "outputs": [
    {
     "data": {
      "text/plain": [
       "Pipeline(steps=[('feat_proc',\n",
       "                 FeatureSelection(k_cat=0.75, k_num=0.75, max_corr=0.75)),\n",
       "                ('sampling', RandomUnderSampler(sampling_strategy=0.5)),\n",
       "                ('clf', MLPClassifier(alpha=1, hidden_layer_sizes=(32,)))])"
      ]
     },
     "execution_count": 66,
     "metadata": {},
     "output_type": "execute_result"
    }
   ],
   "source": [
    "pipe"
   ]
  },
  {
   "cell_type": "code",
   "execution_count": 67,
   "metadata": {},
   "outputs": [
    {
     "data": {
      "text/plain": [
       "{'Log loss': 0.5193208273720131,\n",
       " 'Brier score': 0.16957497566746987,\n",
       " 'Average precision (PR-AUC)': 0.18075962162652817,\n",
       " 'ROC-AUC': 0.5443494702732135,\n",
       " 'EMC (C=1)': 998,\n",
       " 'EMC (C=5)': 2522,\n",
       " 'EMC (C=10)': 4427,\n",
       " 'EMC (C=50)': 19667}"
      ]
     },
     "metadata": {},
     "output_type": "display_data"
    },
    {
     "name": "stdout",
     "output_type": "stream",
     "text": [
      "              precision    recall  f1-score   support\n",
      "\n",
      "           0       0.88      0.82      0.85      3482\n",
      "           1       0.18      0.27      0.22       519\n",
      "\n",
      "    accuracy                           0.75      4001\n",
      "   macro avg       0.53      0.54      0.53      4001\n",
      "weighted avg       0.79      0.75      0.77      4001\n",
      "\n"
     ]
    },
    {
     "data": {
      "image/png": "[encoded data removed]",
      "text/plain": [
       "<Figure size 864x288 with 2 Axes>"
      ]
     },
     "metadata": {
      "needs_background": "light"
     },
     "output_type": "display_data"
    }
   ],
   "source": [
    "eval_model(pipe, X_val, y_val)"
   ]
  },
  {
   "cell_type": "markdown",
   "metadata": {},
   "source": [
    "## Best model & testing performance"
   ]
  },
  {
   "cell_type": "markdown",
   "metadata": {},
   "source": [
    "We think the logistic regression with $\\ell_1$ penalty is most appropriate. The more complex models performed either worse or only slightly better -- in some metrics -- than the logistic regression model. The logistic regression model also has the advantage that it is interpretable. \n",
    "\n",
    "Let's compare the validation and test performance of this model."
   ]
  },
  {
   "cell_type": "code",
   "execution_count": 71,
   "metadata": {},
   "outputs": [
    {
     "name": "stdout",
     "output_type": "stream",
     "text": [
      "Fitting 1 folds for each of 3 candidates, totalling 3 fits\n",
      "[CV] clf__C=0.01, feat_proc__k_cat=1, feat_proc__k_num=1, feat_proc__max_corr=1 \n"
     ]
    },
    {
     "name": "stderr",
     "output_type": "stream",
     "text": [
      "[Parallel(n_jobs=1)]: Using backend SequentialBackend with 1 concurrent workers.\n"
     ]
    },
    {
     "name": "stdout",
     "output_type": "stream",
     "text": [
      "[CV]  clf__C=0.01, feat_proc__k_cat=1, feat_proc__k_num=1, feat_proc__max_corr=1, score=-0.571, total=   0.4s\n",
      "[CV] clf__C=0.1, feat_proc__k_cat=1, feat_proc__k_num=1, feat_proc__max_corr=1 \n"
     ]
    },
    {
     "name": "stderr",
     "output_type": "stream",
     "text": [
      "[Parallel(n_jobs=1)]: Done   1 out of   1 | elapsed:    0.3s remaining:    0.0s\n"
     ]
    },
    {
     "name": "stdout",
     "output_type": "stream",
     "text": [
      "[CV]  clf__C=0.1, feat_proc__k_cat=1, feat_proc__k_num=1, feat_proc__max_corr=1, score=-0.570, total=   0.8s\n",
      "[CV] clf__C=1, feat_proc__k_cat=1, feat_proc__k_num=1, feat_proc__max_corr=1 \n"
     ]
    },
    {
     "name": "stderr",
     "output_type": "stream",
     "text": [
      "[Parallel(n_jobs=1)]: Done   2 out of   2 | elapsed:    1.0s remaining:    0.0s\n"
     ]
    },
    {
     "name": "stdout",
     "output_type": "stream",
     "text": [
      "[CV]  clf__C=1, feat_proc__k_cat=1, feat_proc__k_num=1, feat_proc__max_corr=1, score=-0.571, total=  12.7s\n"
     ]
    },
    {
     "name": "stderr",
     "output_type": "stream",
     "text": [
      "[Parallel(n_jobs=1)]: Done   3 out of   3 | elapsed:   13.8s remaining:    0.0s\n",
      "[Parallel(n_jobs=1)]: Done   3 out of   3 | elapsed:   13.8s finished\n"
     ]
    }
   ],
   "source": [
    "model = LogisticRegression(penalty=\"l1\", solver=\"liblinear\", class_weight={0:1, 1:5})\n",
    "param_grid = {'clf__C': [0.01, 0.1, 1],\n",
    "              'feat_proc__max_corr': [1],\n",
    "              'feat_proc__k_num': [1],\n",
    "              'feat_proc__k_cat': [1]\n",
    "             }\n",
    "pipe = fit_model(model, param_grid, X_train, y_train, X_val, y_val, fit_to_val=False)"
   ]
  },
  {
   "cell_type": "code",
   "execution_count": 72,
   "metadata": {},
   "outputs": [
    {
     "data": {
      "text/plain": [
       "{'Log loss': 0.5703741250837382,\n",
       " 'Brier score': 0.1922918413805672,\n",
       " 'Average precision (PR-AUC)': 0.19144871313949435,\n",
       " 'ROC-AUC': 0.586203309284523,\n",
       " 'EMC (C=1)': 1129,\n",
       " 'EMC (C=5)': 2357,\n",
       " 'EMC (C=10)': 3892,\n",
       " 'EMC (C=50)': 16172}"
      ]
     },
     "metadata": {},
     "output_type": "display_data"
    },
    {
     "name": "stdout",
     "output_type": "stream",
     "text": [
      "              precision    recall  f1-score   support\n",
      "\n",
      "           0       0.90      0.76      0.82      3482\n",
      "           1       0.21      0.41      0.27       519\n",
      "\n",
      "    accuracy                           0.72      4001\n",
      "   macro avg       0.55      0.59      0.55      4001\n",
      "weighted avg       0.81      0.72      0.75      4001\n",
      "\n"
     ]
    },
    {
     "data": {
      "image/png": "[encoded data removed]",
      "text/plain": [
       "<Figure size 864x288 with 2 Axes>"
      ]
     },
     "metadata": {
      "needs_background": "light"
     },
     "output_type": "display_data"
    }
   ],
   "source": [
    "eval_model(pipe, X_val, y_val)"
   ]
  },
  {
   "cell_type": "code",
   "execution_count": 73,
   "metadata": {
    "scrolled": true
   },
   "outputs": [
    {
     "data": {
      "text/plain": [
       "{'Log loss': 0.4966579302134005,\n",
       " 'Brier score': 0.15980099660453595,\n",
       " 'Average precision (PR-AUC)': 0.23327980982867413,\n",
       " 'ROC-AUC': 0.5488591137072814,\n",
       " 'EMC (C=1)': 19542,\n",
       " 'EMC (C=5)': 65550,\n",
       " 'EMC (C=10)': 123060,\n",
       " 'EMC (C=50)': 583140}"
      ]
     },
     "metadata": {},
     "output_type": "display_data"
    },
    {
     "name": "stdout",
     "output_type": "stream",
     "text": [
      "              precision    recall  f1-score   support\n",
      "\n",
      "           0       0.85      0.89      0.87     75326\n",
      "           1       0.27      0.20      0.23     14458\n",
      "\n",
      "    accuracy                           0.78     89784\n",
      "   macro avg       0.56      0.55      0.55     89784\n",
      "weighted avg       0.76      0.78      0.77     89784\n",
      "\n"
     ]
    },
    {
     "data": {
      "image/png": "[encoded data removed]",
      "text/plain": [
       "<Figure size 864x288 with 2 Axes>"
      ]
     },
     "metadata": {
      "needs_background": "light"
     },
     "output_type": "display_data"
    }
   ],
   "source": [
    "eval_model(pipe, X_test, y_test)"
   ]
  },
  {
   "cell_type": "code",
   "execution_count": 76,
   "metadata": {},
   "outputs": [
    {
     "name": "stdout",
     "output_type": "stream",
     "text": [
      "Frequency of defaulters in val. set: 0.12971757060734818\n",
      "Frequency of defaulters in test set: 0.16103091864920252\n"
     ]
    }
   ],
   "source": [
    "print(\"Frequency of defaulters in val. set:\", np.mean(y_val))\n",
    "print(\"Frequency of defaulters in test set:\", np.mean(y_test))"
   ]
  },
  {
   "cell_type": "markdown",
   "metadata": {},
   "source": [
    "Our model predicts the minority class a lot more often in the test set, despite default rates having increased for the test set.  One possible way to fix this is to make numeric variables relative to each time period (we're kind of already doing this for the training set since we used `StandardScaler`, but not for the testing set). For example, we could take each credit score in the (2016Q1) and subtract off the mean credit score in 2015Q4. Due to time constrants, we'll leave this for future work.\n",
    "\n",
    "Let's save the best model."
   ]
  },
  {
   "cell_type": "code",
   "execution_count": 85,
   "metadata": {},
   "outputs": [],
   "source": [
    "pickle.dump(pipe, open(\"logistic_best.pkl\", 'wb'))"
   ]
  },
  {
   "cell_type": "markdown",
   "metadata": {},
   "source": [
    "## Value added"
   ]
  },
  {
   "cell_type": "markdown",
   "metadata": {},
   "source": [
    "It is hard to estimate the monetary value added from our model because the cost of misclassification is unclear. Generally, accepting a bad loan (false negative) will cost more than rejecting a good loan (false positive), but whether this cost ratio is 5:1, 10:1, 20:1 etc. is unclear. If we knew the relative costs of misclassification, we could use metrics from the field of \"cost-sensitive machine learning\" (http://web.cs.iastate.edu/~honavar/elkan.pdf). \n",
    "\n",
    "A false negative means that the loan will default and while we can easily approximate this loss from the data, there is also a large opportunity cost which is hard to estimate. What alternative would we have taken if we correctly rejected this loan? Would we have used our model again and then found a \"good\" borrower? \n",
    "\n",
    "Estimating the cost from a false positive (rejecting a good loan) is also hard to estimate. For one, too many false positives will slow the growth of the LendingClub platform -- so there is some cost here. Secondly, it is again not clear what alternative would be taken after rejecting the loan -- will the lender find a good borrower, a bad borrower, or no borrower at all?\n",
    "\n",
    "In practice, I think the only way to suggest our model is if it outperforms current models according to the machine learning metrics we've used."
   ]
  },
  {
   "cell_type": "code",
   "execution_count": null,
   "metadata": {},
   "outputs": [],
   "source": [
    "# def calc_value_added(y, y_pred, profit, c=1):\n",
    "#     TP = np.where(np.logical_and(y_pred == 1, y == 1)) # true positive\n",
    "#     FP = np.where(np.logical_and(y_pred == 1, y == 0)) # false positive\n",
    "#     value_added = - np.sum(profit[TP]) - ((len(TP)+len(FP))/len(profit))**c*np.sum(profit[FP])\n",
    "#     rel_value_added = (value_added + np.sum(profit))/np.sum(profit)\n",
    "    \n",
    "#     # #     two functional forms (polynomial & exponential)\n",
    "# #     c_list = np.linspace(0,1,51)\n",
    "# #     value_added = np.array([-np.sum(profit[TP])-((len(TP)+len(FP))/len(profit))**c*np.sum(profit[FP]) for c in c_list])\n",
    "# # #     value_added = np.array([-np.sum(profit[TP])-np.exp(-c*(1-(len(TP)+len(FP))/len(profit)))*np.sum(profit[FP]) for c in c_list])\n",
    "# #     plt.plot(c_list, value_added)\n",
    "    \n",
    "#     return value_added, rel_value_added\n",
    "\n",
    "# def make_value_added_curve(y, y_proba, c=1):\n",
    "#     VAs = []\n",
    "#     thresholds = np.linspace(0,1,51)\n",
    "#     for thr in thresholds:\n",
    "#         y_pred = y_proba.copy()\n",
    "#         y_pred[y_pred > thr] = 1\n",
    "#         y_pred[y_pred <= thr] = 0\n",
    "#         VA, rel_VA = calc_value_added(y, y_pred, profit, c)\n",
    "#         VAs.append(VA)\n",
    "#     plt.plot(thresholds, VAs)\n",
    "#     plt.xlabel(\"Threshold\")\n",
    "#     plt.ylabel(\"Value added\")\n",
    "#     plt.show()\n",
    "    \n",
    "# def make_value_added_region(y, y_proba, profit)    \n",
    "#     # Value added\n",
    "#     VAs = []\n",
    "#     thresholds = np.linspace(0,1,51)\n",
    "#     c_list = np.linspace(0,0.1,21)\n",
    "#     for thr in thresholds:\n",
    "#         y_pred = y_proba.copy()\n",
    "#         y_pred[y_pred > thr] = 1\n",
    "#         y_pred[y_pred <= thr] = 0\n",
    "#         TP = np.where(np.logical_and(y_pred == 1, y == 1)) # true positive\n",
    "#         FP = np.where(np.logical_and(y_pred == 1, y == 0)) # false positive\n",
    "#         VA = np.array([-np.sum(profit[TP])-((len(TP)+len(FP))/len(profit))**c*np.sum(profit[FP]) for c in c_list])\n",
    "#         VAs.append(VA)\n",
    "    \n",
    "#     VAs = np.array(VAs)\n",
    "#     VAs = np.ma.masked_where(VAs <= 0, VAs)\n",
    "    \n",
    "#     plt.figure(figsize=(5,8))\n",
    "#     plt.imshow(VAs, origin=\"lower\", interpolation=\"bilinear\")\n",
    "#     plt.xticks(np.arange(len(c_list))[::5], c_list[::5])\n",
    "#     plt.xlabel(r\"$c$\")\n",
    "#     plt.yticks(np.arange(len(thresholds))[::5], np.round(thresholds[::5],1)) \n",
    "#     plt.ylabel(\"Threshold\")\n",
    "#     plt.colorbar()"
   ]
  }
 ],
 "metadata": {
  "kernelspec": {
   "display_name": "Python 3",
   "language": "python",
   "name": "python3"
  },
  "language_info": {
   "codemirror_mode": {
    "name": "ipython",
    "version": 3
   },
   "file_extension": ".py",
   "mimetype": "text/x-python",
   "name": "python",
   "nbconvert_exporter": "python",
   "pygments_lexer": "ipython3",
   "version": "3.7.6"
  }
 },
 "nbformat": 4,
 "nbformat_minor": 4
}
